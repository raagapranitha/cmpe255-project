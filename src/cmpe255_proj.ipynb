{
  "nbformat": 4,
  "nbformat_minor": 0,
  "metadata": {
    "accelerator": "GPU",
    "colab": {
      "name": "cmpe255_proj.ipynb",
      "provenance": [],
      "collapsed_sections": [],
      "toc_visible": true
    },
    "kernelspec": {
      "display_name": "Python 3",
      "name": "python3"
    }
  },
  "cells": [
    {
      "cell_type": "code",
      "metadata": {
        "id": "yQNhV_JgwxGw"
      },
      "source": [
        "import pandas as pd\n",
        "import numpy as np\n",
        "import seaborn as sns\n",
        "import matplotlib.pyplot as plt\n",
        "from sklearn import metrics\n",
        "from sklearn.model_selection import train_test_split\n",
        "from imblearn.over_sampling import SMOTE\n",
        "from sklearn.model_selection import cross_val_score \n",
        "from sklearn.metrics import f1_score\n",
        "from sklearn.pipeline import Pipeline\n",
        "from sklearn.model_selection import GridSearchCV\n",
        "#Import the classification models\n",
        "from sklearn.tree import DecisionTreeClassifier\n",
        "from sklearn.naive_bayes import GaussianNB\n",
        "from sklearn.neighbors import KNeighborsClassifier\n",
        "from sklearn.linear_model import LogisticRegression\n",
        "from sklearn.ensemble import RandomForestClassifier\n",
        "from sklearn.svm import SVC\n",
        "from sklearn import svm\n",
        "import sklearn as sk\n",
        "from sklearn.neural_network import MLPClassifier\n",
        "from sklearn.discriminant_analysis import LinearDiscriminantAnalysis\n",
        "from sklearn.ensemble import ExtraTreesClassifier \n",
        "from sklearn.metrics import f1_score\n",
        "%matplotlib inline"
      ],
      "execution_count": 4,
      "outputs": []
    },
    {
      "cell_type": "code",
      "metadata": {
        "id": "_pvpxATuwCPd",
        "colab": {
          "base_uri": "https://localhost:8080/"
        },
        "outputId": "6cfc2229-7513-485d-90ab-835fffecefa1"
      },
      "source": [
        "from google.colab import drive\n",
        "drive.flush_and_unmount()"
      ],
      "execution_count": 5,
      "outputs": [
        {
          "output_type": "stream",
          "text": [
            "Drive not mounted, so nothing to flush and unmount.\n"
          ],
          "name": "stdout"
        }
      ]
    },
    {
      "cell_type": "code",
      "metadata": {
        "colab": {
          "base_uri": "https://localhost:8080/"
        },
        "id": "AgNMRDRyvGMd",
        "outputId": "7a4ec405-21e3-450d-fffe-f245204813b3"
      },
      "source": [
        "drive.mount(\"/content/gdrive\")"
      ],
      "execution_count": 6,
      "outputs": [
        {
          "output_type": "stream",
          "text": [
            "Mounted at /content/gdrive\n"
          ],
          "name": "stdout"
        }
      ]
    },
    {
      "cell_type": "code",
      "metadata": {
        "id": "Th5jeYvc61cU"
      },
      "source": [
        "header_list=['age','class of worker','industry code','occupation code','education','wage per hour','enrolled in edu inst last wk',\n",
        "            'marital status','major industry code','major occupation code','race','hispanic Origin','sex','member of a labor union','reason for unemployment',\n",
        "             'full or part time employment stat','capital gains','capital losses','divdends from stocks','federal income tax liability','tax filer status',\n",
        "             'region of previous residence','detailed household and family stat','detailed household summary in household',\n",
        "             'instance weight','migration code-change in msa','migration code-change in reg','migration code-move within reg','live in this house 1 year ago',\n",
        "             'migration prev res in sunbelt','family members under 18','total person earnings','country of birth father',\n",
        "             'country of birth mother','country of birth self','citizenship','total person income',' own business or self employed',\n",
        "             'veterans benefits','weeks worked in year','year','Label']"
      ],
      "execution_count": 7,
      "outputs": []
    },
    {
      "cell_type": "code",
      "metadata": {
        "id": "q_Raqc0CcGrU"
      },
      "source": [
        "def plotInfo(model):\n",
        "  y_pred = model.predict(X_test)\n",
        "  print(\"F1 Score - macro \")\n",
        "  print(f1_score(y_test, y_pred, average='macro'))\n",
        "  print(\"F1 Score - micro\")\n",
        "  print(f1_score(y_test, y_pred, average='micro'))\n",
        "  print(\"F1 Score - weighted\")\n",
        "  print(f1_score(y_test, y_pred, average='weighted'))\n",
        "  y_preds = model.predict_proba(X_test)\n",
        "  preds = y_preds[:,1]\n",
        "  fpr, tpr, _ = metrics.roc_curve(y_test, preds)\n",
        "\n",
        "  auc_score = metrics.auc(fpr, tpr)\n",
        "  plt.clf()\n",
        "\n",
        "  plt.title('ROC Curve')\n",
        "  plt.plot(fpr, tpr, label='AUC = {:.2f}'.format(auc_score))\n",
        "  plt.plot([0,1],[0,1],'r--')\n",
        "\n",
        "  plt.xlim([-0.1,1.1])\n",
        "  plt.ylim([-0.1,1.1])\n",
        "  plt.ylabel('True Positive Rate')\n",
        "  plt.xlabel('False Positive Rate')\n",
        "\n",
        "  plt.legend(loc='lower right')\n",
        "  plt.show()"
      ],
      "execution_count": 8,
      "outputs": []
    },
    {
      "cell_type": "code",
      "metadata": {
        "id": "cZiSYQ01K_Qj"
      },
      "source": [
        "\n",
        "#Initialize the models\n",
        "def getInfo(X,y):\n",
        "  X_train=X\n",
        "  y_train=y\n",
        "  models = []\n",
        "  models.append(('DT', DecisionTreeClassifier()))\n",
        "  models.append(('NB', GaussianNB()))\n",
        "  models.append(('KNN', KNeighborsClassifier()))\n",
        "  models.append(('LR', LogisticRegression()))\n",
        "  models.append(('RF', RandomForestClassifier()))\n",
        "  models.append(('LDA', LinearDiscriminantAnalysis()))\n",
        "  models.append(('ETC',ExtraTreesClassifier()))\n",
        "\n",
        "  scores = []\n",
        "  names = []\n",
        "\n",
        "#Set up charts to visualize the results\n",
        "  fig, axes = plt.subplots(nrows=5, ncols=2, figsize=(9, 9))\n",
        "  xAxis = 0\n",
        "  yAxis = 0\n",
        "\n",
        "  axes[4, 0].set_title('Mean Accuracy')\n",
        "\n",
        "  print('Mean accuracy on test data:')\n",
        "\n",
        "#Train and test each model - save the results\n",
        "  for name, model in models:\n",
        "    model.fit(X_train, y_train)\n",
        "    score = cross_val_score(model, X_test, y_test, cv=6)\n",
        "    scores.append(score)\n",
        "    names.append(name)\n",
        "     \n",
        "    axes[xAxis, yAxis].set_title(name)\n",
        "    axes[xAxis, yAxis].plot(['1','2','3','4','5','6'], score, color='C'+str(len(names)-1))\n",
        "    axes[xAxis, yAxis].set_xlabel(\"Validation\")\n",
        "    axes[xAxis, yAxis].set_ylabel(\"Accuracy\")\n",
        "    axes[4, 0].bar(name, score.mean(), alpha=0.4, color='C'+str(len(names)-1))\n",
        "    axes[4, 0].set_ylim(0.79, 1.0)\n",
        "    \n",
        "    if len(names)%2 == 1:\n",
        "        yAxis += 1\n",
        "    else:\n",
        "        xAxis +=1\n",
        "        yAxis -=1\n",
        "    print(name)\n",
        "    y_pred = model.predict(X_test)\n",
        "    print(\"F1 Score - macro \")\n",
        "    print(f1_score(y_test, y_pred, average='macro'))\n",
        "    print(\"F1 Score - micro\")\n",
        "    print(f1_score(y_test, y_pred, average='micro'))\n",
        "    print(\"F1 Score - weighted\")\n",
        "    print(f1_score(y_test, y_pred, average='weighted'))\n",
        "#Remove empty chart\n",
        "  axes[4, 1].remove()\n",
        "\n",
        "  fig.tight_layout()\n",
        "  plt.show()"
      ],
      "execution_count": null,
      "outputs": []
    },
    {
      "cell_type": "code",
      "metadata": {
        "colab": {
          "base_uri": "https://localhost:8080/"
        },
        "id": "Snmn9anQ1SQO",
        "outputId": "b344fb4c-3122-4863-88a7-542d6ecbc082"
      },
      "source": [
        "len(header_list)"
      ],
      "execution_count": 9,
      "outputs": [
        {
          "output_type": "execute_result",
          "data": {
            "text/plain": [
              "42"
            ]
          },
          "metadata": {
            "tags": []
          },
          "execution_count": 9
        }
      ]
    },
    {
      "cell_type": "code",
      "metadata": {
        "id": "aNBRIucjwNPA"
      },
      "source": [
        "data_dir='/content/gdrive/My Drive/cmpe255_group_proj/'"
      ],
      "execution_count": 10,
      "outputs": []
    },
    {
      "cell_type": "code",
      "metadata": {
        "id": "pek-Hj9mwMa5"
      },
      "source": [
        "df=pd.read_csv(data_dir+'census-income.data',sep=',',names=header_list,header=None)\n",
        "dfTest=pd.read_csv(data_dir+'census-income.test',sep=',',names=header_list,header=None)"
      ],
      "execution_count": 11,
      "outputs": []
    },
    {
      "cell_type": "code",
      "metadata": {
        "colab": {
          "base_uri": "https://localhost:8080/"
        },
        "id": "hXPiOr-W5aC3",
        "outputId": "4d69cdea-99e3-44fc-9aa1-77bf4e4861c5"
      },
      "source": [
        "df.shape\n",
        "dfTest.shape"
      ],
      "execution_count": 12,
      "outputs": [
        {
          "output_type": "execute_result",
          "data": {
            "text/plain": [
              "(99762, 42)"
            ]
          },
          "metadata": {
            "tags": []
          },
          "execution_count": 12
        }
      ]
    },
    {
      "cell_type": "code",
      "metadata": {
        "colab": {
          "base_uri": "https://localhost:8080/"
        },
        "id": "lhXBFBT8wwI5",
        "outputId": "b5f352bf-4420-41c1-818b-02e4f55c12f3"
      },
      "source": [
        "print(df.head(20))\n",
        "print(dfTest.head(20))"
      ],
      "execution_count": 13,
      "outputs": [
        {
          "output_type": "stream",
          "text": [
            "    age                  class of worker  ...  year      Label\n",
            "0    73                  Not in universe  ...    95   - 50000.\n",
            "1    58   Self-employed-not incorporated  ...    94   - 50000.\n",
            "2    18                  Not in universe  ...    95   - 50000.\n",
            "3     9                  Not in universe  ...    94   - 50000.\n",
            "4    10                  Not in universe  ...    94   - 50000.\n",
            "5    48                          Private  ...    95   - 50000.\n",
            "6    42                          Private  ...    94   - 50000.\n",
            "7    28                          Private  ...    95   - 50000.\n",
            "8    47                 Local government  ...    95   - 50000.\n",
            "9    34                          Private  ...    94   - 50000.\n",
            "10    8                  Not in universe  ...    94   - 50000.\n",
            "11   32                  Not in universe  ...    95   - 50000.\n",
            "12   51                          Private  ...    94   - 50000.\n",
            "13   46                          Private  ...    94   - 50000.\n",
            "14   26                          Private  ...    95   - 50000.\n",
            "15   13                  Not in universe  ...    94   - 50000.\n",
            "16   47                          Private  ...    95   - 50000.\n",
            "17   39                  Not in universe  ...    94   - 50000.\n",
            "18   16                  Not in universe  ...    95   - 50000.\n",
            "19   35                          Private  ...    95   - 50000.\n",
            "\n",
            "[20 rows x 42 columns]\n",
            "    age                  class of worker  ...  year      Label\n",
            "0    38                          Private  ...    95   - 50000.\n",
            "1    44   Self-employed-not incorporated  ...    95   - 50000.\n",
            "2     2                  Not in universe  ...    95   - 50000.\n",
            "3    35                          Private  ...    94   - 50000.\n",
            "4    49                          Private  ...    95   - 50000.\n",
            "5    13                  Not in universe  ...    94   - 50000.\n",
            "6     1                  Not in universe  ...    94   - 50000.\n",
            "7    61                  Not in universe  ...    95   - 50000.\n",
            "8    38                          Private  ...    94   - 50000.\n",
            "9     7                  Not in universe  ...    94   - 50000.\n",
            "10   30                          Private  ...    95   - 50000.\n",
            "11   85                  Not in universe  ...    95   - 50000.\n",
            "12   33                          Private  ...    94   - 50000.\n",
            "13   26                          Private  ...    94   - 50000.\n",
            "14   46                          Private  ...    95   - 50000.\n",
            "15   19                          Private  ...    95   - 50000.\n",
            "16   11                  Not in universe  ...    95   - 50000.\n",
            "17   23                          Private  ...    95   - 50000.\n",
            "18   27                          Private  ...    94   - 50000.\n",
            "19   35   Self-employed-not incorporated  ...    95    50000+.\n",
            "\n",
            "[20 rows x 42 columns]\n"
          ],
          "name": "stdout"
        }
      ]
    },
    {
      "cell_type": "markdown",
      "metadata": {
        "id": "KsawjMM9PQtH"
      },
      "source": [
        "### Data Pre-processing"
      ]
    },
    {
      "cell_type": "code",
      "metadata": {
        "colab": {
          "base_uri": "https://localhost:8080/"
        },
        "id": "cJd2NA9mOcTY",
        "outputId": "b4949da6-a040-4a1a-fcea-a0f5b9dc9346"
      },
      "source": [
        "df.nunique()"
      ],
      "execution_count": 14,
      "outputs": [
        {
          "output_type": "execute_result",
          "data": {
            "text/plain": [
              "age                                           91\n",
              "class of worker                                9\n",
              "industry code                                 52\n",
              "occupation code                               47\n",
              "education                                     17\n",
              "wage per hour                               1240\n",
              "enrolled in edu inst last wk                   3\n",
              "marital status                                 7\n",
              "major industry code                           24\n",
              "major occupation code                         15\n",
              "race                                           5\n",
              "hispanic Origin                               10\n",
              "sex                                            2\n",
              "member of a labor union                        3\n",
              "reason for unemployment                        6\n",
              "full or part time employment stat              8\n",
              "capital gains                                132\n",
              "capital losses                               113\n",
              "divdends from stocks                        1478\n",
              "federal income tax liability                   6\n",
              "tax filer status                               6\n",
              "region of previous residence                  51\n",
              "detailed household and family stat            38\n",
              "detailed household summary in household        8\n",
              "instance weight                            99800\n",
              "migration code-change in msa                  10\n",
              "migration code-change in reg                   9\n",
              "migration code-move within reg                10\n",
              "live in this house 1 year ago                  3\n",
              "migration prev res in sunbelt                  4\n",
              "family members under 18                        7\n",
              "total person earnings                          5\n",
              "country of birth father                       43\n",
              "country of birth mother                       43\n",
              "country of birth self                         43\n",
              "citizenship                                    5\n",
              "total person income                            3\n",
              " own business or self employed                 3\n",
              "veterans benefits                              3\n",
              "weeks worked in year                          53\n",
              "year                                           2\n",
              "Label                                          2\n",
              "dtype: int64"
            ]
          },
          "metadata": {
            "tags": []
          },
          "execution_count": 14
        }
      ]
    },
    {
      "cell_type": "code",
      "metadata": {
        "id": "5GkEIUrfw3ZV"
      },
      "source": [
        "df_train=df[['age','class of worker','instance weight','education','enrolled in edu inst last wk','marital status','occupation code','race','sex','capital gains','capital losses','weeks worked in year','country of birth self','Label']]\n",
        "\n",
        "df_test=dfTest[['age','class of worker','instance weight','education','enrolled in edu inst last wk','marital status','occupation code','race','sex','capital gains','capital losses','weeks worked in year','country of birth self','Label']]\n"
      ],
      "execution_count": 15,
      "outputs": []
    },
    {
      "cell_type": "code",
      "metadata": {
        "colab": {
          "base_uri": "https://localhost:8080/"
        },
        "id": "wt_Q0ItozbkA",
        "outputId": "c39c9012-bdd6-4ed4-8ea2-2f4f1b140719"
      },
      "source": [
        "print(df_train.shape)\n",
        "print(df_test.shape)"
      ],
      "execution_count": 16,
      "outputs": [
        {
          "output_type": "stream",
          "text": [
            "(199523, 14)\n",
            "(99762, 14)\n"
          ],
          "name": "stdout"
        }
      ]
    },
    {
      "cell_type": "code",
      "metadata": {
        "colab": {
          "base_uri": "https://localhost:8080/"
        },
        "id": "nSmK7gv9zu3h",
        "outputId": "23df1c2f-7166-44a4-841f-3b6e594fb3eb"
      },
      "source": [
        "df_train.info()"
      ],
      "execution_count": 17,
      "outputs": [
        {
          "output_type": "stream",
          "text": [
            "<class 'pandas.core.frame.DataFrame'>\n",
            "RangeIndex: 199523 entries, 0 to 199522\n",
            "Data columns (total 14 columns):\n",
            " #   Column                        Non-Null Count   Dtype  \n",
            "---  ------                        --------------   -----  \n",
            " 0   age                           199523 non-null  int64  \n",
            " 1   class of worker               199523 non-null  object \n",
            " 2   instance weight               199523 non-null  float64\n",
            " 3   education                     199523 non-null  object \n",
            " 4   enrolled in edu inst last wk  199523 non-null  object \n",
            " 5   marital status                199523 non-null  object \n",
            " 6   occupation code               199523 non-null  int64  \n",
            " 7   race                          199523 non-null  object \n",
            " 8   sex                           199523 non-null  object \n",
            " 9   capital gains                 199523 non-null  int64  \n",
            " 10  capital losses                199523 non-null  int64  \n",
            " 11  weeks worked in year          199523 non-null  int64  \n",
            " 12  country of birth self         199523 non-null  object \n",
            " 13  Label                         199523 non-null  object \n",
            "dtypes: float64(1), int64(5), object(8)\n",
            "memory usage: 21.3+ MB\n"
          ],
          "name": "stdout"
        }
      ]
    },
    {
      "cell_type": "code",
      "metadata": {
        "colab": {
          "base_uri": "https://localhost:8080/"
        },
        "id": "ywUnfczu2UHr",
        "outputId": "360b5589-efb5-445d-88b2-9db9a9ede11c"
      },
      "source": [
        "df_test.info()"
      ],
      "execution_count": 18,
      "outputs": [
        {
          "output_type": "stream",
          "text": [
            "<class 'pandas.core.frame.DataFrame'>\n",
            "RangeIndex: 99762 entries, 0 to 99761\n",
            "Data columns (total 14 columns):\n",
            " #   Column                        Non-Null Count  Dtype  \n",
            "---  ------                        --------------  -----  \n",
            " 0   age                           99762 non-null  int64  \n",
            " 1   class of worker               99762 non-null  object \n",
            " 2   instance weight               99762 non-null  float64\n",
            " 3   education                     99762 non-null  object \n",
            " 4   enrolled in edu inst last wk  99762 non-null  object \n",
            " 5   marital status                99762 non-null  object \n",
            " 6   occupation code               99762 non-null  int64  \n",
            " 7   race                          99762 non-null  object \n",
            " 8   sex                           99762 non-null  object \n",
            " 9   capital gains                 99762 non-null  int64  \n",
            " 10  capital losses                99762 non-null  int64  \n",
            " 11  weeks worked in year          99762 non-null  int64  \n",
            " 12  country of birth self         99762 non-null  object \n",
            " 13  Label                         99762 non-null  object \n",
            "dtypes: float64(1), int64(5), object(8)\n",
            "memory usage: 10.7+ MB\n"
          ],
          "name": "stdout"
        }
      ]
    },
    {
      "cell_type": "code",
      "metadata": {
        "id": "3dLHsWobz_Rg"
      },
      "source": [
        "col_list=df_train.columns.tolist()"
      ],
      "execution_count": 19,
      "outputs": []
    },
    {
      "cell_type": "code",
      "metadata": {
        "id": "jsUZmemJ2mQS"
      },
      "source": [
        "# for col in col_list:\n",
        "#   df_train[col] = df_train[col].astype('str') "
      ],
      "execution_count": null,
      "outputs": []
    },
    {
      "cell_type": "code",
      "metadata": {
        "colab": {
          "base_uri": "https://localhost:8080/"
        },
        "id": "Uh1_fjsR21r2",
        "outputId": "86d5f1b6-7b13-44a3-fe0a-7dfafa091065"
      },
      "source": [
        "df_train.info()"
      ],
      "execution_count": 20,
      "outputs": [
        {
          "output_type": "stream",
          "text": [
            "<class 'pandas.core.frame.DataFrame'>\n",
            "RangeIndex: 199523 entries, 0 to 199522\n",
            "Data columns (total 14 columns):\n",
            " #   Column                        Non-Null Count   Dtype  \n",
            "---  ------                        --------------   -----  \n",
            " 0   age                           199523 non-null  int64  \n",
            " 1   class of worker               199523 non-null  object \n",
            " 2   instance weight               199523 non-null  float64\n",
            " 3   education                     199523 non-null  object \n",
            " 4   enrolled in edu inst last wk  199523 non-null  object \n",
            " 5   marital status                199523 non-null  object \n",
            " 6   occupation code               199523 non-null  int64  \n",
            " 7   race                          199523 non-null  object \n",
            " 8   sex                           199523 non-null  object \n",
            " 9   capital gains                 199523 non-null  int64  \n",
            " 10  capital losses                199523 non-null  int64  \n",
            " 11  weeks worked in year          199523 non-null  int64  \n",
            " 12  country of birth self         199523 non-null  object \n",
            " 13  Label                         199523 non-null  object \n",
            "dtypes: float64(1), int64(5), object(8)\n",
            "memory usage: 21.3+ MB\n"
          ],
          "name": "stdout"
        }
      ]
    },
    {
      "cell_type": "code",
      "metadata": {
        "colab": {
          "base_uri": "https://localhost:8080/"
        },
        "id": "fMk3ezyS0WWe",
        "outputId": "c1c78ba2-6fd7-4914-bc68-1cebabc5e17e"
      },
      "source": [
        "print(col_list)"
      ],
      "execution_count": 21,
      "outputs": [
        {
          "output_type": "stream",
          "text": [
            "['age', 'class of worker', 'instance weight', 'education', 'enrolled in edu inst last wk', 'marital status', 'occupation code', 'race', 'sex', 'capital gains', 'capital losses', 'weeks worked in year', 'country of birth self', 'Label']\n"
          ],
          "name": "stdout"
        }
      ]
    },
    {
      "cell_type": "code",
      "metadata": {
        "colab": {
          "base_uri": "https://localhost:8080/",
          "height": 428
        },
        "id": "5aVeFxq53AGT",
        "outputId": "1cdea75c-4cfa-4fd1-93cd-b993fc035fc2"
      },
      "source": [
        "df_train.head()"
      ],
      "execution_count": 22,
      "outputs": [
        {
          "output_type": "execute_result",
          "data": {
            "text/html": [
              "<div>\n",
              "<style scoped>\n",
              "    .dataframe tbody tr th:only-of-type {\n",
              "        vertical-align: middle;\n",
              "    }\n",
              "\n",
              "    .dataframe tbody tr th {\n",
              "        vertical-align: top;\n",
              "    }\n",
              "\n",
              "    .dataframe thead th {\n",
              "        text-align: right;\n",
              "    }\n",
              "</style>\n",
              "<table border=\"1\" class=\"dataframe\">\n",
              "  <thead>\n",
              "    <tr style=\"text-align: right;\">\n",
              "      <th></th>\n",
              "      <th>age</th>\n",
              "      <th>class of worker</th>\n",
              "      <th>instance weight</th>\n",
              "      <th>education</th>\n",
              "      <th>enrolled in edu inst last wk</th>\n",
              "      <th>marital status</th>\n",
              "      <th>occupation code</th>\n",
              "      <th>race</th>\n",
              "      <th>sex</th>\n",
              "      <th>capital gains</th>\n",
              "      <th>capital losses</th>\n",
              "      <th>weeks worked in year</th>\n",
              "      <th>country of birth self</th>\n",
              "      <th>Label</th>\n",
              "    </tr>\n",
              "  </thead>\n",
              "  <tbody>\n",
              "    <tr>\n",
              "      <th>0</th>\n",
              "      <td>73</td>\n",
              "      <td>Not in universe</td>\n",
              "      <td>1700.09</td>\n",
              "      <td>High school graduate</td>\n",
              "      <td>Not in universe</td>\n",
              "      <td>Widowed</td>\n",
              "      <td>0</td>\n",
              "      <td>White</td>\n",
              "      <td>Female</td>\n",
              "      <td>0</td>\n",
              "      <td>0</td>\n",
              "      <td>0</td>\n",
              "      <td>United-States</td>\n",
              "      <td>- 50000.</td>\n",
              "    </tr>\n",
              "    <tr>\n",
              "      <th>1</th>\n",
              "      <td>58</td>\n",
              "      <td>Self-employed-not incorporated</td>\n",
              "      <td>1053.55</td>\n",
              "      <td>Some college but no degree</td>\n",
              "      <td>Not in universe</td>\n",
              "      <td>Divorced</td>\n",
              "      <td>34</td>\n",
              "      <td>White</td>\n",
              "      <td>Male</td>\n",
              "      <td>0</td>\n",
              "      <td>0</td>\n",
              "      <td>52</td>\n",
              "      <td>United-States</td>\n",
              "      <td>- 50000.</td>\n",
              "    </tr>\n",
              "    <tr>\n",
              "      <th>2</th>\n",
              "      <td>18</td>\n",
              "      <td>Not in universe</td>\n",
              "      <td>991.95</td>\n",
              "      <td>10th grade</td>\n",
              "      <td>High school</td>\n",
              "      <td>Never married</td>\n",
              "      <td>0</td>\n",
              "      <td>Asian or Pacific Islander</td>\n",
              "      <td>Female</td>\n",
              "      <td>0</td>\n",
              "      <td>0</td>\n",
              "      <td>0</td>\n",
              "      <td>Vietnam</td>\n",
              "      <td>- 50000.</td>\n",
              "    </tr>\n",
              "    <tr>\n",
              "      <th>3</th>\n",
              "      <td>9</td>\n",
              "      <td>Not in universe</td>\n",
              "      <td>1758.14</td>\n",
              "      <td>Children</td>\n",
              "      <td>Not in universe</td>\n",
              "      <td>Never married</td>\n",
              "      <td>0</td>\n",
              "      <td>White</td>\n",
              "      <td>Female</td>\n",
              "      <td>0</td>\n",
              "      <td>0</td>\n",
              "      <td>0</td>\n",
              "      <td>United-States</td>\n",
              "      <td>- 50000.</td>\n",
              "    </tr>\n",
              "    <tr>\n",
              "      <th>4</th>\n",
              "      <td>10</td>\n",
              "      <td>Not in universe</td>\n",
              "      <td>1069.16</td>\n",
              "      <td>Children</td>\n",
              "      <td>Not in universe</td>\n",
              "      <td>Never married</td>\n",
              "      <td>0</td>\n",
              "      <td>White</td>\n",
              "      <td>Female</td>\n",
              "      <td>0</td>\n",
              "      <td>0</td>\n",
              "      <td>0</td>\n",
              "      <td>United-States</td>\n",
              "      <td>- 50000.</td>\n",
              "    </tr>\n",
              "  </tbody>\n",
              "</table>\n",
              "</div>"
            ],
            "text/plain": [
              "   age                  class of worker  ...  country of birth self      Label\n",
              "0   73                  Not in universe  ...          United-States   - 50000.\n",
              "1   58   Self-employed-not incorporated  ...          United-States   - 50000.\n",
              "2   18                  Not in universe  ...                Vietnam   - 50000.\n",
              "3    9                  Not in universe  ...          United-States   - 50000.\n",
              "4   10                  Not in universe  ...          United-States   - 50000.\n",
              "\n",
              "[5 rows x 14 columns]"
            ]
          },
          "metadata": {
            "tags": []
          },
          "execution_count": 22
        }
      ]
    },
    {
      "cell_type": "code",
      "metadata": {
        "colab": {
          "base_uri": "https://localhost:8080/"
        },
        "id": "puXfgT4q3wVs",
        "outputId": "69eb86cc-42dc-4031-e5e4-6436cd7f9582"
      },
      "source": [
        "df_train.isna().sum()"
      ],
      "execution_count": 23,
      "outputs": [
        {
          "output_type": "execute_result",
          "data": {
            "text/plain": [
              "age                             0\n",
              "class of worker                 0\n",
              "instance weight                 0\n",
              "education                       0\n",
              "enrolled in edu inst last wk    0\n",
              "marital status                  0\n",
              "occupation code                 0\n",
              "race                            0\n",
              "sex                             0\n",
              "capital gains                   0\n",
              "capital losses                  0\n",
              "weeks worked in year            0\n",
              "country of birth self           0\n",
              "Label                           0\n",
              "dtype: int64"
            ]
          },
          "metadata": {
            "tags": []
          },
          "execution_count": 23
        }
      ]
    },
    {
      "cell_type": "markdown",
      "metadata": {
        "id": "tCL9KoHrPTo1"
      },
      "source": [
        "### Exploratory Data Analysis"
      ]
    },
    {
      "cell_type": "code",
      "metadata": {
        "colab": {
          "base_uri": "https://localhost:8080/",
          "height": 296
        },
        "id": "9--vuN453_bc",
        "outputId": "7b1d00a0-1b13-46d5-83e0-f642a6877a0c"
      },
      "source": [
        "sns.countplot(x=\"Label\", data=df_train)"
      ],
      "execution_count": 24,
      "outputs": [
        {
          "output_type": "execute_result",
          "data": {
            "text/plain": [
              "<matplotlib.axes._subplots.AxesSubplot at 0x7f195fed7898>"
            ]
          },
          "metadata": {
            "tags": []
          },
          "execution_count": 24
        },
        {
          "output_type": "display_data",
          "data": {
            "image/png": "[encoded data removed]",
            "text/plain": [
              "<Figure size 432x288 with 1 Axes>"
            ]
          },
          "metadata": {
            "tags": [],
            "needs_background": "light"
          }
        }
      ]
    },
    {
      "cell_type": "code",
      "metadata": {
        "colab": {
          "base_uri": "https://localhost:8080/",
          "height": 296
        },
        "id": "w_U8GVIS2dOY",
        "outputId": "4ac28717-a3af-4672-fdb3-c125c792a457"
      },
      "source": [
        "plt.figure(figsize=(10,4))\n",
        "sns.barplot(x=\"Label\", y=\"age\", data=df_train)"
      ],
      "execution_count": 25,
      "outputs": [
        {
          "output_type": "execute_result",
          "data": {
            "text/plain": [
              "<matplotlib.axes._subplots.AxesSubplot at 0x7f195fca1d30>"
            ]
          },
          "metadata": {
            "tags": []
          },
          "execution_count": 25
        },
        {
          "output_type": "display_data",
          "data": {
            "image/png": "[encoded data removed]",
            "text/plain": [
              "<Figure size 720x288 with 1 Axes>"
            ]
          },
          "metadata": {
            "tags": [],
            "needs_background": "light"
          }
        }
      ]
    },
    {
      "cell_type": "code",
      "metadata": {
        "colab": {
          "base_uri": "https://localhost:8080/"
        },
        "id": "3GgNuCOB3sqO",
        "outputId": "f2dda990-8c39-4f12-d02c-6782bfc849b2"
      },
      "source": [
        "df_train['class of worker'].value_counts()"
      ],
      "execution_count": 26,
      "outputs": [
        {
          "output_type": "execute_result",
          "data": {
            "text/plain": [
              " Not in universe                   100245\n",
              " Private                            72028\n",
              " Self-employed-not incorporated      8445\n",
              " Local government                    7784\n",
              " State government                    4227\n",
              " Self-employed-incorporated          3265\n",
              " Federal government                  2925\n",
              " Never worked                         439\n",
              " Without pay                          165\n",
              "Name: class of worker, dtype: int64"
            ]
          },
          "metadata": {
            "tags": []
          },
          "execution_count": 26
        }
      ]
    },
    {
      "cell_type": "code",
      "metadata": {
        "colab": {
          "base_uri": "https://localhost:8080/"
        },
        "id": "mZEjXJHxpj_i",
        "outputId": "878f753f-f991-4a49-c543-245a78152dc5"
      },
      "source": [
        "num_attributes = df_train.select_dtypes(include=['int'])\n",
        "print(num_attributes.columns)"
      ],
      "execution_count": 27,
      "outputs": [
        {
          "output_type": "stream",
          "text": [
            "Index(['age', 'occupation code', 'capital gains', 'capital losses',\n",
            "       'weeks worked in year'],\n",
            "      dtype='object')\n"
          ],
          "name": "stdout"
        }
      ]
    },
    {
      "cell_type": "code",
      "metadata": {
        "colab": {
          "base_uri": "https://localhost:8080/",
          "height": 726
        },
        "id": "JIDrPN-xp95J",
        "outputId": "3131d274-62a0-406f-8602-5dd652b85b2f"
      },
      "source": [
        "num_attributes.hist(figsize=(10,10))"
      ],
      "execution_count": 28,
      "outputs": [
        {
          "output_type": "execute_result",
          "data": {
            "text/plain": [
              "array([[<matplotlib.axes._subplots.AxesSubplot object at 0x7f195f80c9b0>,\n",
              "        <matplotlib.axes._subplots.AxesSubplot object at 0x7f195f7bdc50>],\n",
              "       [<matplotlib.axes._subplots.AxesSubplot object at 0x7f195f771eb8>,\n",
              "        <matplotlib.axes._subplots.AxesSubplot object at 0x7f195f731160>],\n",
              "       [<matplotlib.axes._subplots.AxesSubplot object at 0x7f195f6e53c8>,\n",
              "        <matplotlib.axes._subplots.AxesSubplot object at 0x7f195f697630>]],\n",
              "      dtype=object)"
            ]
          },
          "metadata": {
            "tags": []
          },
          "execution_count": 28
        },
        {
          "output_type": "display_data",
          "data": {
            "image/png": "[encoded data removed]",
            "text/plain": [
              "<Figure size 720x720 with 6 Axes>"
            ]
          },
          "metadata": {
            "tags": [],
            "needs_background": "light"
          }
        }
      ]
    },
    {
      "cell_type": "code",
      "metadata": {
        "colab": {
          "base_uri": "https://localhost:8080/"
        },
        "id": "J1ZiR8IUqAZh",
        "outputId": "fd997d9f-e62f-481a-e537-4306606cdc55"
      },
      "source": [
        "cat_attributes = df_train.select_dtypes(include=['object'])\n",
        "print(cat_attributes.columns)\n"
      ],
      "execution_count": 29,
      "outputs": [
        {
          "output_type": "stream",
          "text": [
            "Index(['class of worker', 'education', 'enrolled in edu inst last wk',\n",
            "       'marital status', 'race', 'sex', 'country of birth self', 'Label'],\n",
            "      dtype='object')\n"
          ],
          "name": "stdout"
        }
      ]
    },
    {
      "cell_type": "code",
      "metadata": {
        "colab": {
          "base_uri": "https://localhost:8080/",
          "height": 296
        },
        "id": "awEupovaqE9Q",
        "outputId": "8b7f7839-35d9-4c7d-a163-1f57c3213b14"
      },
      "source": [
        "sns.countplot(y='class of worker', hue='Label', data = cat_attributes)"
      ],
      "execution_count": 30,
      "outputs": [
        {
          "output_type": "execute_result",
          "data": {
            "text/plain": [
              "<matplotlib.axes._subplots.AxesSubplot at 0x7f195f537438>"
            ]
          },
          "metadata": {
            "tags": []
          },
          "execution_count": 30
        },
        {
          "output_type": "display_data",
          "data": {
            "image/png": "[encoded data removed]",
            "text/plain": [
              "<Figure size 432x288 with 1 Axes>"
            ]
          },
          "metadata": {
            "tags": [],
            "needs_background": "light"
          }
        }
      ]
    },
    {
      "cell_type": "code",
      "metadata": {
        "colab": {
          "base_uri": "https://localhost:8080/",
          "height": 296
        },
        "id": "VJVPYV4CqRfV",
        "outputId": "3fb90586-a244-4b62-af08-14745ac6605a"
      },
      "source": [
        "sns.countplot(y='enrolled in edu inst last wk', hue='Label', data = cat_attributes)"
      ],
      "execution_count": 31,
      "outputs": [
        {
          "output_type": "execute_result",
          "data": {
            "text/plain": [
              "<matplotlib.axes._subplots.AxesSubplot at 0x7f195f46b400>"
            ]
          },
          "metadata": {
            "tags": []
          },
          "execution_count": 31
        },
        {
          "output_type": "display_data",
          "data": {
            "image/png": "[encoded data removed]",
            "text/plain": [
              "<Figure size 432x288 with 1 Axes>"
            ]
          },
          "metadata": {
            "tags": [],
            "needs_background": "light"
          }
        }
      ]
    },
    {
      "cell_type": "code",
      "metadata": {
        "colab": {
          "base_uri": "https://localhost:8080/",
          "height": 894
        },
        "id": "qu7OSLF9qbbX",
        "outputId": "e1d27a18-509c-4edd-d018-b161ca23c0fb"
      },
      "source": [
        "plt.figure(figsize=(10,15))\n",
        "sns.countplot(y='country of birth self', hue='Label', data = cat_attributes)"
      ],
      "execution_count": 32,
      "outputs": [
        {
          "output_type": "execute_result",
          "data": {
            "text/plain": [
              "<matplotlib.axes._subplots.AxesSubplot at 0x7f195f596b00>"
            ]
          },
          "metadata": {
            "tags": []
          },
          "execution_count": 32
        },
        {
          "output_type": "display_data",
          "data": {
            "image/png": "[encoded data removed]",
            "text/plain": [
              "<Figure size 720x1080 with 1 Axes>"
            ]
          },
          "metadata": {
            "tags": [],
            "needs_background": "light"
          }
        }
      ]
    },
    {
      "cell_type": "code",
      "metadata": {
        "colab": {
          "base_uri": "https://localhost:8080/",
          "height": 296
        },
        "id": "HP3G1L2qqXPK",
        "outputId": "4b6d7063-328b-49c4-9c9f-6765c4aa57e5"
      },
      "source": [
        "sns.countplot(y='marital status', hue='Label', data = cat_attributes)"
      ],
      "execution_count": 33,
      "outputs": [
        {
          "output_type": "execute_result",
          "data": {
            "text/plain": [
              "<matplotlib.axes._subplots.AxesSubplot at 0x7f195f3dd630>"
            ]
          },
          "metadata": {
            "tags": []
          },
          "execution_count": 33
        },
        {
          "output_type": "display_data",
          "data": {
            "image/png": "[encoded data removed]",
            "text/plain": [
              "<Figure size 432x288 with 1 Axes>"
            ]
          },
          "metadata": {
            "tags": [],
            "needs_background": "light"
          }
        }
      ]
    },
    {
      "cell_type": "code",
      "metadata": {
        "colab": {
          "base_uri": "https://localhost:8080/",
          "height": 342
        },
        "id": "5F9AaFNcEYkk",
        "outputId": "4679c06f-32b8-4adb-f507-e682e930edf2"
      },
      "source": [
        "to_visualise = []\n",
        "\n",
        "#Count the missing values\n",
        "for col in df_train.columns:\n",
        "    to_visualise.append(df_train[col].isin([\" ?\"]).sum())\n",
        "print(to_visualise)\n",
        "#Build the plot\n",
        "fig, ax =  plt.subplots(figsize=(25,7))\n",
        "x_idx   = np.arange(df_train.shape[1])\n",
        "\n",
        "ax.bar(x_idx, to_visualise, alpha = 0.5, color = 'r')\n",
        "ax.set_ylabel('Null Data')\n",
        "ax.set_xticks(x_idx)\n",
        "ax.set_xticklabels((df_train.columns))\n",
        "\n",
        "fig.tight_layout()\n",
        "\n",
        "plt.xticks(rotation=20)\n",
        "plt.show()\n"
      ],
      "execution_count": 35,
      "outputs": [
        {
          "output_type": "stream",
          "text": [
            "[0, 0, 0, 0, 0, 0, 0, 0, 0, 0, 0, 0, 3393, 0]\n"
          ],
          "name": "stdout"
        },
        {
          "output_type": "display_data",
          "data": {
            "image/png": "[encoded data removed]",
            "text/plain": [
              "<Figure size 1800x504 with 1 Axes>"
            ]
          },
          "metadata": {
            "tags": [],
            "needs_background": "light"
          }
        }
      ]
    },
    {
      "cell_type": "markdown",
      "metadata": {
        "id": "D1b1gQOiEEdj"
      },
      "source": [
        "As the missing values size is less compared to dataset size, dropping the rows of those columns would not affect the data much"
      ]
    },
    {
      "cell_type": "code",
      "metadata": {
        "colab": {
          "base_uri": "https://localhost:8080/",
          "height": 398
        },
        "id": "SfYABrktEgGG",
        "outputId": "d17a4e59-8749-4088-b23f-00f66cd674be"
      },
      "source": [
        "to_plot = [df_train.shape[0], to_visualise[12]]\n",
        "\n",
        "fig, ax = plt.subplots()\n",
        "x_val   = np.arange(2)\n",
        "print(df_train.shape[0])\n",
        "print(to_visualise[12])\n",
        "ax.bar(x_val, to_plot, alpha = 0.4, color = 'g')\n",
        "ax.set_ylabel('Data')\n",
        "ax.set_xticks(x_val)\n",
        "ax.set_xticklabels(('data set size','country of birth self'))\n",
        "\n",
        "fig.tight_layout()\n",
        "\n",
        "plt.xticks(rotation=45)\n",
        "plt.show()"
      ],
      "execution_count": 36,
      "outputs": [
        {
          "output_type": "stream",
          "text": [
            "199523\n",
            "3393\n"
          ],
          "name": "stdout"
        },
        {
          "output_type": "display_data",
          "data": {
            "image/png": "[encoded data removed]",
            "text/plain": [
              "<Figure size 432x288 with 1 Axes>"
            ]
          },
          "metadata": {
            "tags": [],
            "needs_background": "light"
          }
        }
      ]
    },
    {
      "cell_type": "code",
      "metadata": {
        "colab": {
          "base_uri": "https://localhost:8080/",
          "height": 342
        },
        "id": "LKmUuVj33O81",
        "outputId": "b4dc28b1-e624-4537-e645-f2d2aeedec14"
      },
      "source": [
        "to_visualise = []\n",
        "\n",
        "#Count the missing values\n",
        "for col in df_train.columns:\n",
        "    to_visualise.append(df_train[col].isin([\" Not in universe\"]).sum())\n",
        "print(to_visualise)\n",
        "#Build the plot\n",
        "fig, ax =  plt.subplots(figsize=(25,7))\n",
        "x_val   = np.arange(df_train.shape[1])\n",
        "\n",
        "ax.bar(x_val, to_visualise, alpha = 0.4, color = 'b')\n",
        "ax.set_ylabel('Missing Values')\n",
        "ax.set_xticks(x_val)\n",
        "ax.set_xticklabels((df_train.columns))\n",
        "\n",
        "fig.tight_layout()\n",
        "\n",
        "plt.xticks(rotation=20)\n",
        "plt.show()\n"
      ],
      "execution_count": 37,
      "outputs": [
        {
          "output_type": "stream",
          "text": [
            "[0, 100245, 0, 0, 186943, 0, 0, 0, 0, 0, 0, 0, 0, 0]\n"
          ],
          "name": "stdout"
        },
        {
          "output_type": "display_data",
          "data": {
            "image/png": "[encoded data removed]",
            "text/plain": [
              "<Figure size 1800x504 with 1 Axes>"
            ]
          },
          "metadata": {
            "tags": [],
            "needs_background": "light"
          }
        }
      ]
    },
    {
      "cell_type": "code",
      "metadata": {
        "colab": {
          "base_uri": "https://localhost:8080/",
          "height": 347
        },
        "id": "KJ3dcei5CftF",
        "outputId": "20282804-ffb7-48e4-8d1b-0552cb15dbca"
      },
      "source": [
        "to_plot = [df_train.shape[0], to_visualise[1],to_visualise[4]]\n",
        "\n",
        "fig, ax = plt.subplots()\n",
        "x_val   = np.arange(3)\n",
        "# print(df_train.shape[0])\n",
        "# print(to_plot[12])\n",
        "ax.bar(x_val, to_plot, alpha = 0.4, color = 'g')\n",
        "ax.set_ylabel('Data')\n",
        "ax.set_xticks(x_val)\n",
        "ax.set_xticklabels(('data set size','class of worker','education'))\n",
        "\n",
        "fig.tight_layout()\n",
        "\n",
        "plt.xticks(rotation=45)\n",
        "plt.show()"
      ],
      "execution_count": 38,
      "outputs": [
        {
          "output_type": "display_data",
          "data": {
            "image/png": "[encoded data removed]",
            "text/plain": [
              "<Figure size 432x288 with 1 Axes>"
            ]
          },
          "metadata": {
            "tags": [],
            "needs_background": "light"
          }
        }
      ]
    },
    {
      "cell_type": "code",
      "metadata": {
        "colab": {
          "base_uri": "https://localhost:8080/"
        },
        "id": "y_Ct1G88A12D",
        "outputId": "121efe98-95af-4e29-9e78-9b42f2327dae"
      },
      "source": [
        "df_train['enrolled in edu inst last wk'].value_counts()"
      ],
      "execution_count": 39,
      "outputs": [
        {
          "output_type": "execute_result",
          "data": {
            "text/plain": [
              " Not in universe          186943\n",
              " High school                6892\n",
              " College or university      5688\n",
              "Name: enrolled in edu inst last wk, dtype: int64"
            ]
          },
          "metadata": {
            "tags": []
          },
          "execution_count": 39
        }
      ]
    },
    {
      "cell_type": "code",
      "metadata": {
        "colab": {
          "base_uri": "https://localhost:8080/",
          "height": 283
        },
        "id": "f6R7Jdma7YzQ",
        "outputId": "afd832e8-f995-463b-d477-2d7cbc96fea3"
      },
      "source": [
        "plt.hist(df_train.age, facecolor='blue', alpha=0.5, bins=25, edgecolor='black')\n",
        "plt.xlabel('Age')\n",
        "plt.axvline(df_train.age.mean(), color='red', label='average age')\n",
        "plt.axis([0, 95, 0, 14000])\n",
        "plt.legend()\n",
        "plt.show()"
      ],
      "execution_count": 40,
      "outputs": [
        {
          "output_type": "display_data",
          "data": {
            "image/png": "[encoded data removed]",
            "text/plain": [
              "<Figure size 432x288 with 1 Axes>"
            ]
          },
          "metadata": {
            "tags": [],
            "needs_background": "light"
          }
        }
      ]
    },
    {
      "cell_type": "code",
      "metadata": {
        "colab": {
          "base_uri": "https://localhost:8080/"
        },
        "id": "7PVoEbwe-XSX",
        "outputId": "cf631dae-238a-4347-ad75-1512874b3d03"
      },
      "source": [
        "df_train['sex'].value_counts()"
      ],
      "execution_count": 41,
      "outputs": [
        {
          "output_type": "execute_result",
          "data": {
            "text/plain": [
              " Female    103984\n",
              " Male       95539\n",
              "Name: sex, dtype: int64"
            ]
          },
          "metadata": {
            "tags": []
          },
          "execution_count": 41
        }
      ]
    },
    {
      "cell_type": "code",
      "metadata": {
        "colab": {
          "base_uri": "https://localhost:8080/",
          "height": 314
        },
        "id": "ohZiQsPF99dO",
        "outputId": "6bba1d7c-5fab-4e53-e3c1-23f1101bd52e"
      },
      "source": [
        "male = 0\n",
        "female = 0\n",
        "for person in df_train['sex']:\n",
        "  if person==' Male':\n",
        "    male += 1\n",
        "  elif person==' Female':\n",
        "    female+= 1\n",
        "print(female, male)\n",
        "#Set up pie chart\n",
        "colors = ['lightblue', 'pink']\n",
        "to_plot = [male, female] \n",
        "labels = ['Male', 'Female'] \n",
        "plt.pie(to_plot, labels=labels, colors=colors, startangle=90, autopct='%.2f')\n",
        "plt.axis('equal')\n",
        "plt.tight_layout()\n",
        "plt.show()\n"
      ],
      "execution_count": 42,
      "outputs": [
        {
          "output_type": "stream",
          "text": [
            "103984 95539\n"
          ],
          "name": "stdout"
        },
        {
          "output_type": "display_data",
          "data": {
            "image/png": "[encoded data removed]",
            "text/plain": [
              "<Figure size 432x288 with 1 Axes>"
            ]
          },
          "metadata": {
            "tags": []
          }
        }
      ]
    },
    {
      "cell_type": "code",
      "metadata": {
        "colab": {
          "base_uri": "https://localhost:8080/",
          "height": 297
        },
        "id": "ePiqjfNHBJCo",
        "outputId": "4b82d164-7b91-41ff-d47b-d0c47fa56d98"
      },
      "source": [
        "print('Mean:', df_train['weeks worked in year'].mean())\n",
        "#Set up a histogram\n",
        "plt.hist(df_train['weeks worked in year'], facecolor='red', alpha=0.5, bins=20, edgecolor='black')\n",
        "plt.xlabel('Age')\n",
        "plt.axvline(df_train['weeks worked in year'].mean(), color='red', label='average weeks worked in year')\n",
        "plt.legend()\n",
        "plt.show()"
      ],
      "execution_count": 43,
      "outputs": [
        {
          "output_type": "stream",
          "text": [
            "Mean: 23.174897129654227\n"
          ],
          "name": "stdout"
        },
        {
          "output_type": "display_data",
          "data": {
            "image/png": "[encoded data removed]",
            "text/plain": [
              "<Figure size 432x288 with 1 Axes>"
            ]
          },
          "metadata": {
            "tags": [],
            "needs_background": "light"
          }
        }
      ]
    },
    {
      "cell_type": "code",
      "metadata": {
        "colab": {
          "base_uri": "https://localhost:8080/"
        },
        "id": "vOFoJnBhBqFD",
        "outputId": "16e1318a-6618-4705-8b39-02394cdbb916"
      },
      "source": [
        "df['country of birth self'].value_counts()"
      ],
      "execution_count": 44,
      "outputs": [
        {
          "output_type": "execute_result",
          "data": {
            "text/plain": [
              " United-States                   176989\n",
              " Mexico                            5767\n",
              " ?                                 3393\n",
              " Puerto-Rico                       1400\n",
              " Germany                            851\n",
              " Philippines                        845\n",
              " Cuba                               837\n",
              " Canada                             700\n",
              " Dominican-Republic                 690\n",
              " El-Salvador                        689\n",
              " China                              478\n",
              " South Korea                        471\n",
              " England                            457\n",
              " Columbia                           434\n",
              " Italy                              419\n",
              " India                              408\n",
              " Vietnam                            391\n",
              " Poland                             381\n",
              " Guatemala                          344\n",
              " Japan                              339\n",
              " Jamaica                            320\n",
              " Peru                               268\n",
              " Ecuador                            258\n",
              " Haiti                              228\n",
              " Nicaragua                          218\n",
              " Taiwan                             201\n",
              " Portugal                           174\n",
              " Iran                               157\n",
              " Greece                             147\n",
              " Honduras                           144\n",
              " Ireland                            135\n",
              " France                             121\n",
              " Outlying-U S (Guam USVI etc)       119\n",
              " Thailand                           113\n",
              " Laos                               105\n",
              " Hong Kong                          100\n",
              " Cambodia                            95\n",
              " Hungary                             79\n",
              " Scotland                            75\n",
              " Trinadad&Tobago                     66\n",
              " Yugoslavia                          66\n",
              " Panama                              28\n",
              " Holand-Netherlands                  23\n",
              "Name: country of birth self, dtype: int64"
            ]
          },
          "metadata": {
            "tags": []
          },
          "execution_count": 44
        }
      ]
    },
    {
      "cell_type": "code",
      "metadata": {
        "colab": {
          "base_uri": "https://localhost:8080/"
        },
        "id": "GqG3rq0gGLkP",
        "outputId": "238a9f24-b2f0-4544-fbef-864ad0a91958"
      },
      "source": [
        "df_train['Label'].value_counts()"
      ],
      "execution_count": 45,
      "outputs": [
        {
          "output_type": "execute_result",
          "data": {
            "text/plain": [
              " - 50000.    187141\n",
              " 50000+.      12382\n",
              "Name: Label, dtype: int64"
            ]
          },
          "metadata": {
            "tags": []
          },
          "execution_count": 45
        }
      ]
    },
    {
      "cell_type": "code",
      "metadata": {
        "colab": {
          "base_uri": "https://localhost:8080/",
          "height": 319
        },
        "id": "mSMEqUH6E2QT",
        "outputId": "a08ae5c6-6361-4b7c-d363-21711401f8d4"
      },
      "source": [
        "more = 0\n",
        "less = 0\n",
        "for i in df_train.Label:\n",
        "    if i == ' - 50000.':\n",
        "        less += 1\n",
        "    if i == ' 50000+.':\n",
        "        more += 1\n",
        "print(more,less)\n",
        "#Set up pie chart\n",
        "colors = ['green', 'red']\n",
        "to_plot = [less, more] \n",
        "labels = ['<=50k', '>50k'] \n",
        "plt.pie(to_plot, labels=labels, colors=colors, startangle=90, autopct='%.2f')\n",
        "plt.axis('equal')\n",
        "plt.tight_layout()\n",
        "plt.show()"
      ],
      "execution_count": 46,
      "outputs": [
        {
          "output_type": "stream",
          "text": [
            "12382 187141\n"
          ],
          "name": "stdout"
        },
        {
          "output_type": "display_data",
          "data": {
            "image/png": "[encoded data removed]",
            "text/plain": [
              "<Figure size 432x288 with 1 Axes>"
            ]
          },
          "metadata": {
            "tags": []
          }
        }
      ]
    },
    {
      "cell_type": "code",
      "metadata": {
        "colab": {
          "base_uri": "https://localhost:8080/",
          "height": 425
        },
        "id": "Eqzb9Nzj6XHC",
        "outputId": "e32ab811-5a7d-4d05-a390-b52df3d0fc1a"
      },
      "source": [
        "plt.figure(figsize=(15,6))\n",
        "sns.stripplot(x=\"Label\", y=\"education\", data=df_train)"
      ],
      "execution_count": 47,
      "outputs": [
        {
          "output_type": "execute_result",
          "data": {
            "text/plain": [
              "<matplotlib.axes._subplots.AxesSubplot at 0x7f195c577978>"
            ]
          },
          "metadata": {
            "tags": []
          },
          "execution_count": 47
        },
        {
          "output_type": "display_data",
          "data": {
            "image/png": "[encoded data removed]",
            "text/plain": [
              "<Figure size 1080x432 with 1 Axes>"
            ]
          },
          "metadata": {
            "tags": [],
            "needs_background": "light"
          }
        }
      ]
    },
    {
      "cell_type": "markdown",
      "metadata": {
        "id": "iS6Ox0jkPFzx"
      },
      "source": [
        "### Feature Tuning and Data Cleaning"
      ]
    },
    {
      "cell_type": "code",
      "metadata": {
        "colab": {
          "base_uri": "https://localhost:8080/",
          "height": 510
        },
        "id": "py7xV7G0JYjV",
        "outputId": "2ce72439-afad-4c63-e5f4-a63169b585e5"
      },
      "source": [
        "# Class of worker column cleaning.\n",
        "counts = df_train['class of worker'].value_counts().reset_index()\n",
        "counts.columns = ['class of worker', 'count']\n",
        "print(counts)\n",
        "df_train.head()"
      ],
      "execution_count": null,
      "outputs": [
        {
          "output_type": "stream",
          "text": [
            "                   class of worker   count\n",
            "0                  Not in universe  100245\n",
            "1                          Private   72028\n",
            "2   Self-employed-not incorporated    8445\n",
            "3                 Local government    7784\n",
            "4                 State government    4227\n",
            "5       Self-employed-incorporated    3265\n",
            "6               Federal government    2925\n",
            "7                     Never worked     439\n",
            "8                      Without pay     165\n"
          ],
          "name": "stdout"
        },
        {
          "output_type": "execute_result",
          "data": {
            "text/html": [
              "<div>\n",
              "<style scoped>\n",
              "    .dataframe tbody tr th:only-of-type {\n",
              "        vertical-align: middle;\n",
              "    }\n",
              "\n",
              "    .dataframe tbody tr th {\n",
              "        vertical-align: top;\n",
              "    }\n",
              "\n",
              "    .dataframe thead th {\n",
              "        text-align: right;\n",
              "    }\n",
              "</style>\n",
              "<table border=\"1\" class=\"dataframe\">\n",
              "  <thead>\n",
              "    <tr style=\"text-align: right;\">\n",
              "      <th></th>\n",
              "      <th>age</th>\n",
              "      <th>class of worker</th>\n",
              "      <th>instance weight</th>\n",
              "      <th>education</th>\n",
              "      <th>enrolled in edu inst last wk</th>\n",
              "      <th>marital status</th>\n",
              "      <th>occupation code</th>\n",
              "      <th>race</th>\n",
              "      <th>sex</th>\n",
              "      <th>capital gains</th>\n",
              "      <th>capital losses</th>\n",
              "      <th>weeks worked in year</th>\n",
              "      <th>country of birth self</th>\n",
              "      <th>Label</th>\n",
              "    </tr>\n",
              "  </thead>\n",
              "  <tbody>\n",
              "    <tr>\n",
              "      <th>0</th>\n",
              "      <td>73</td>\n",
              "      <td>Not in universe</td>\n",
              "      <td>1700.09</td>\n",
              "      <td>High school graduate</td>\n",
              "      <td>Not in universe</td>\n",
              "      <td>Widowed</td>\n",
              "      <td>0</td>\n",
              "      <td>White</td>\n",
              "      <td>Female</td>\n",
              "      <td>0</td>\n",
              "      <td>0</td>\n",
              "      <td>0</td>\n",
              "      <td>United-States</td>\n",
              "      <td>- 50000.</td>\n",
              "    </tr>\n",
              "    <tr>\n",
              "      <th>1</th>\n",
              "      <td>58</td>\n",
              "      <td>Self-employed-not incorporated</td>\n",
              "      <td>1053.55</td>\n",
              "      <td>Some college but no degree</td>\n",
              "      <td>Not in universe</td>\n",
              "      <td>Divorced</td>\n",
              "      <td>34</td>\n",
              "      <td>White</td>\n",
              "      <td>Male</td>\n",
              "      <td>0</td>\n",
              "      <td>0</td>\n",
              "      <td>52</td>\n",
              "      <td>United-States</td>\n",
              "      <td>- 50000.</td>\n",
              "    </tr>\n",
              "    <tr>\n",
              "      <th>2</th>\n",
              "      <td>18</td>\n",
              "      <td>Not in universe</td>\n",
              "      <td>991.95</td>\n",
              "      <td>10th grade</td>\n",
              "      <td>High school</td>\n",
              "      <td>Never married</td>\n",
              "      <td>0</td>\n",
              "      <td>Asian or Pacific Islander</td>\n",
              "      <td>Female</td>\n",
              "      <td>0</td>\n",
              "      <td>0</td>\n",
              "      <td>0</td>\n",
              "      <td>Vietnam</td>\n",
              "      <td>- 50000.</td>\n",
              "    </tr>\n",
              "    <tr>\n",
              "      <th>3</th>\n",
              "      <td>9</td>\n",
              "      <td>Not in universe</td>\n",
              "      <td>1758.14</td>\n",
              "      <td>Children</td>\n",
              "      <td>Not in universe</td>\n",
              "      <td>Never married</td>\n",
              "      <td>0</td>\n",
              "      <td>White</td>\n",
              "      <td>Female</td>\n",
              "      <td>0</td>\n",
              "      <td>0</td>\n",
              "      <td>0</td>\n",
              "      <td>United-States</td>\n",
              "      <td>- 50000.</td>\n",
              "    </tr>\n",
              "    <tr>\n",
              "      <th>4</th>\n",
              "      <td>10</td>\n",
              "      <td>Not in universe</td>\n",
              "      <td>1069.16</td>\n",
              "      <td>Children</td>\n",
              "      <td>Not in universe</td>\n",
              "      <td>Never married</td>\n",
              "      <td>0</td>\n",
              "      <td>White</td>\n",
              "      <td>Female</td>\n",
              "      <td>0</td>\n",
              "      <td>0</td>\n",
              "      <td>0</td>\n",
              "      <td>United-States</td>\n",
              "      <td>- 50000.</td>\n",
              "    </tr>\n",
              "  </tbody>\n",
              "</table>\n",
              "</div>"
            ],
            "text/plain": [
              "   age                  class of worker  ...  country of birth self      Label\n",
              "0   73                  Not in universe  ...          United-States   - 50000.\n",
              "1   58   Self-employed-not incorporated  ...          United-States   - 50000.\n",
              "2   18                  Not in universe  ...                Vietnam   - 50000.\n",
              "3    9                  Not in universe  ...          United-States   - 50000.\n",
              "4   10                  Not in universe  ...          United-States   - 50000.\n",
              "\n",
              "[5 rows x 14 columns]"
            ]
          },
          "metadata": {
            "tags": []
          },
          "execution_count": 39
        }
      ]
    },
    {
      "cell_type": "code",
      "metadata": {
        "colab": {
          "base_uri": "https://localhost:8080/",
          "height": 323
        },
        "id": "JQrQJRhX2xs7",
        "outputId": "e16f3b03-47d7-42d2-9c2e-33c1b0d07b55"
      },
      "source": [
        "df_test.head()"
      ],
      "execution_count": null,
      "outputs": [
        {
          "output_type": "execute_result",
          "data": {
            "text/html": [
              "<div>\n",
              "<style scoped>\n",
              "    .dataframe tbody tr th:only-of-type {\n",
              "        vertical-align: middle;\n",
              "    }\n",
              "\n",
              "    .dataframe tbody tr th {\n",
              "        vertical-align: top;\n",
              "    }\n",
              "\n",
              "    .dataframe thead th {\n",
              "        text-align: right;\n",
              "    }\n",
              "</style>\n",
              "<table border=\"1\" class=\"dataframe\">\n",
              "  <thead>\n",
              "    <tr style=\"text-align: right;\">\n",
              "      <th></th>\n",
              "      <th>age</th>\n",
              "      <th>class of worker</th>\n",
              "      <th>instance weight</th>\n",
              "      <th>education</th>\n",
              "      <th>enrolled in edu inst last wk</th>\n",
              "      <th>marital status</th>\n",
              "      <th>occupation code</th>\n",
              "      <th>race</th>\n",
              "      <th>sex</th>\n",
              "      <th>capital gains</th>\n",
              "      <th>capital losses</th>\n",
              "      <th>weeks worked in year</th>\n",
              "      <th>country of birth self</th>\n",
              "      <th>Label</th>\n",
              "    </tr>\n",
              "  </thead>\n",
              "  <tbody>\n",
              "    <tr>\n",
              "      <th>0</th>\n",
              "      <td>38</td>\n",
              "      <td>Private</td>\n",
              "      <td>1032.38</td>\n",
              "      <td>1st 2nd 3rd or 4th grade</td>\n",
              "      <td>Not in universe</td>\n",
              "      <td>Married-civilian spouse present</td>\n",
              "      <td>36</td>\n",
              "      <td>White</td>\n",
              "      <td>Female</td>\n",
              "      <td>0</td>\n",
              "      <td>0</td>\n",
              "      <td>12</td>\n",
              "      <td>Mexico</td>\n",
              "      <td>- 50000.</td>\n",
              "    </tr>\n",
              "    <tr>\n",
              "      <th>1</th>\n",
              "      <td>44</td>\n",
              "      <td>Self-employed-not incorporated</td>\n",
              "      <td>1462.33</td>\n",
              "      <td>Associates degree-occup /vocational</td>\n",
              "      <td>Not in universe</td>\n",
              "      <td>Married-civilian spouse present</td>\n",
              "      <td>12</td>\n",
              "      <td>White</td>\n",
              "      <td>Female</td>\n",
              "      <td>0</td>\n",
              "      <td>0</td>\n",
              "      <td>26</td>\n",
              "      <td>United-States</td>\n",
              "      <td>- 50000.</td>\n",
              "    </tr>\n",
              "    <tr>\n",
              "      <th>2</th>\n",
              "      <td>2</td>\n",
              "      <td>Not in universe</td>\n",
              "      <td>1601.75</td>\n",
              "      <td>Children</td>\n",
              "      <td>Not in universe</td>\n",
              "      <td>Never married</td>\n",
              "      <td>0</td>\n",
              "      <td>White</td>\n",
              "      <td>Male</td>\n",
              "      <td>0</td>\n",
              "      <td>0</td>\n",
              "      <td>0</td>\n",
              "      <td>United-States</td>\n",
              "      <td>- 50000.</td>\n",
              "    </tr>\n",
              "    <tr>\n",
              "      <th>3</th>\n",
              "      <td>35</td>\n",
              "      <td>Private</td>\n",
              "      <td>1866.88</td>\n",
              "      <td>High school graduate</td>\n",
              "      <td>Not in universe</td>\n",
              "      <td>Divorced</td>\n",
              "      <td>3</td>\n",
              "      <td>White</td>\n",
              "      <td>Female</td>\n",
              "      <td>0</td>\n",
              "      <td>0</td>\n",
              "      <td>52</td>\n",
              "      <td>United-States</td>\n",
              "      <td>- 50000.</td>\n",
              "    </tr>\n",
              "    <tr>\n",
              "      <th>4</th>\n",
              "      <td>49</td>\n",
              "      <td>Private</td>\n",
              "      <td>1394.54</td>\n",
              "      <td>High school graduate</td>\n",
              "      <td>Not in universe</td>\n",
              "      <td>Divorced</td>\n",
              "      <td>34</td>\n",
              "      <td>White</td>\n",
              "      <td>Male</td>\n",
              "      <td>0</td>\n",
              "      <td>0</td>\n",
              "      <td>50</td>\n",
              "      <td>United-States</td>\n",
              "      <td>- 50000.</td>\n",
              "    </tr>\n",
              "  </tbody>\n",
              "</table>\n",
              "</div>"
            ],
            "text/plain": [
              "   age                  class of worker  ...  country of birth self      Label\n",
              "0   38                          Private  ...                 Mexico   - 50000.\n",
              "1   44   Self-employed-not incorporated  ...          United-States   - 50000.\n",
              "2    2                  Not in universe  ...          United-States   - 50000.\n",
              "3   35                          Private  ...          United-States   - 50000.\n",
              "4   49                          Private  ...          United-States   - 50000.\n",
              "\n",
              "[5 rows x 14 columns]"
            ]
          },
          "metadata": {
            "tags": []
          },
          "execution_count": 40
        }
      ]
    },
    {
      "cell_type": "code",
      "metadata": {
        "colab": {
          "base_uri": "https://localhost:8080/"
        },
        "id": "zL4P8WK2JYrT",
        "outputId": "e87ea6a3-c5f2-48c5-f71d-fa10fa4a7f78"
      },
      "source": [
        "#Combine the mentioned attributes\n",
        "df_train['class of worker'].replace('(.*Self-employed.*)','Self-employed',regex=True, inplace = True)\n",
        "df_train['class of worker'].replace('(.*government.*)','Government',regex=True, inplace = True)\n",
        "df_train['class of worker'].replace('(.*Never worked.*)','No pay',regex=True, inplace = True)\n",
        "df_train['class of worker'].replace('(.*Without pay.*)','No pay',regex=True, inplace = True)\n",
        "\n",
        "counts = df_train['class of worker'].value_counts().reset_index()\n",
        "counts.columns = ['class of worker', 'count']\n",
        "print(counts)"
      ],
      "execution_count": null,
      "outputs": [
        {
          "output_type": "stream",
          "text": [
            "/usr/local/lib/python3.6/dist-packages/pandas/core/series.py:4581: SettingWithCopyWarning: \n",
            "A value is trying to be set on a copy of a slice from a DataFrame\n",
            "\n",
            "See the caveats in the documentation: https://pandas.pydata.org/pandas-docs/stable/user_guide/indexing.html#returning-a-view-versus-a-copy\n",
            "  method=method,\n"
          ],
          "name": "stderr"
        },
        {
          "output_type": "stream",
          "text": [
            "    class of worker   count\n",
            "0   Not in universe  100245\n",
            "1           Private   72028\n",
            "2        Government   14936\n",
            "3     Self-employed   11710\n",
            "4            No pay     604\n"
          ],
          "name": "stdout"
        }
      ]
    },
    {
      "cell_type": "code",
      "metadata": {
        "colab": {
          "base_uri": "https://localhost:8080/"
        },
        "id": "fgVOTGOO3vQ7",
        "outputId": "558d0350-63eb-483f-a8fd-6d579817b276"
      },
      "source": [
        "#Combine the mentioned attributes\n",
        "df_test['class of worker'].replace('(.*Self-employed.*)','Self-employed',regex=True, inplace = True)\n",
        "df_test['class of worker'].replace('(.*government.*)','Government',regex=True, inplace = True)\n",
        "df_test['class of worker'].replace('(.*Never worked.*)','No pay',regex=True, inplace = True)\n",
        "df_test['class of worker'].replace('(.*Without pay.*)','No pay',regex=True, inplace = True)\n",
        "\n",
        "counts = df_test['class of worker'].value_counts().reset_index()\n",
        "counts.columns = ['class of worker', 'count']\n",
        "print(counts)"
      ],
      "execution_count": null,
      "outputs": [
        {
          "output_type": "stream",
          "text": [
            "/usr/local/lib/python3.6/dist-packages/pandas/core/series.py:4581: SettingWithCopyWarning: \n",
            "A value is trying to be set on a copy of a slice from a DataFrame\n",
            "\n",
            "See the caveats in the documentation: https://pandas.pydata.org/pandas-docs/stable/user_guide/indexing.html#returning-a-view-versus-a-copy\n",
            "  method=method,\n"
          ],
          "name": "stderr"
        },
        {
          "output_type": "stream",
          "text": [
            "    class of worker  count\n",
            "0   Not in universe  50079\n",
            "1           Private  36071\n",
            "2        Government   7405\n",
            "3     Self-employed   5928\n",
            "4            No pay    279\n"
          ],
          "name": "stdout"
        }
      ]
    },
    {
      "cell_type": "code",
      "metadata": {
        "colab": {
          "base_uri": "https://localhost:8080/"
        },
        "id": "YB-xEE-RJYt-",
        "outputId": "65c555d5-d948-4a56-a607-1d022e852d23"
      },
      "source": [
        "f = df_train['education'].value_counts().reset_index()\n",
        "f.columns = ['education', 'count']\n",
        "print('\\n',f)"
      ],
      "execution_count": null,
      "outputs": [
        {
          "output_type": "stream",
          "text": [
            "\n",
            "                                   education  count\n",
            "0                      High school graduate  48407\n",
            "1                                  Children  47422\n",
            "2                Some college but no degree  27820\n",
            "3                Bachelors degree(BA AB BS)  19865\n",
            "4                         7th and 8th grade   8007\n",
            "5                                10th grade   7557\n",
            "6                                11th grade   6876\n",
            "7    Masters degree(MA MS MEng MEd MSW MBA)   6541\n",
            "8                                 9th grade   6230\n",
            "9       Associates degree-occup /vocational   5358\n",
            "10       Associates degree-academic program   4363\n",
            "11                         5th or 6th grade   3277\n",
            "12                    12th grade no diploma   2126\n",
            "13                 1st 2nd 3rd or 4th grade   1799\n",
            "14   Prof school degree (MD DDS DVM LLB JD)   1793\n",
            "15                Doctorate degree(PhD EdD)   1263\n",
            "16                      Less than 1st grade    819\n"
          ],
          "name": "stdout"
        }
      ]
    },
    {
      "cell_type": "code",
      "metadata": {
        "colab": {
          "base_uri": "https://localhost:8080/"
        },
        "id": "4U14DFajJYwP",
        "outputId": "dd90eaec-d3d6-4a65-8913-f3fa79b0115b"
      },
      "source": [
        "df_train['education'].replace('(.*Children.*)','No-School',regex=True, inplace = True)\n",
        "df_train['education'].replace('(.*grade.*)','No-School',regex=True, inplace = True)\n",
        "\n",
        "df_train['education'].replace('(.*Some college but no degree.*)','College',regex=True, inplace = True)\n",
        "df_train['education'].replace('(.*Associates degree-occup /vocational.*)','College',regex=True, inplace = True)\n",
        "df_train['education'].replace('(.*Associates degree-academic program.*)','College',regex=True, inplace = True)\n",
        "\n",
        "f = df_train['education'].value_counts().reset_index()\n",
        "f.columns = ['education', 'count']\n",
        "print('\\n',f)"
      ],
      "execution_count": null,
      "outputs": [
        {
          "output_type": "stream",
          "text": [
            "/usr/local/lib/python3.6/dist-packages/pandas/core/series.py:4581: SettingWithCopyWarning: \n",
            "A value is trying to be set on a copy of a slice from a DataFrame\n",
            "\n",
            "See the caveats in the documentation: https://pandas.pydata.org/pandas-docs/stable/user_guide/indexing.html#returning-a-view-versus-a-copy\n",
            "  method=method,\n"
          ],
          "name": "stderr"
        },
        {
          "output_type": "stream",
          "text": [
            "\n",
            "                                  education  count\n",
            "0                                No-School  84113\n",
            "1                     High school graduate  48407\n",
            "2                                  College  37541\n",
            "3               Bachelors degree(BA AB BS)  19865\n",
            "4   Masters degree(MA MS MEng MEd MSW MBA)   6541\n",
            "5   Prof school degree (MD DDS DVM LLB JD)   1793\n",
            "6                Doctorate degree(PhD EdD)   1263\n"
          ],
          "name": "stdout"
        }
      ]
    },
    {
      "cell_type": "code",
      "metadata": {
        "colab": {
          "base_uri": "https://localhost:8080/"
        },
        "id": "o2ywiG-335kH",
        "outputId": "586819ec-3d40-49e5-dfc2-484854dff0f6"
      },
      "source": [
        "df_test['education'].replace('(.*Children.*)','No-School',regex=True, inplace = True)\n",
        "df_test['education'].replace('(.*grade.*)','No-School',regex=True, inplace = True)\n",
        "\n",
        "df_test['education'].replace('(.*Some college but no degree.*)','College',regex=True, inplace = True)\n",
        "df_test['education'].replace('(.*Associates degree-occup /vocational.*)','College',regex=True, inplace = True)\n",
        "df_test['education'].replace('(.*Associates degree-academic program.*)','College',regex=True, inplace = True)\n",
        "\n",
        "f = df_test['education'].value_counts().reset_index()\n",
        "f.columns = ['education', 'count']\n",
        "print('\\n',f)"
      ],
      "execution_count": null,
      "outputs": [
        {
          "output_type": "stream",
          "text": [
            "/usr/local/lib/python3.6/dist-packages/pandas/core/series.py:4581: SettingWithCopyWarning: \n",
            "A value is trying to be set on a copy of a slice from a DataFrame\n",
            "\n",
            "See the caveats in the documentation: https://pandas.pydata.org/pandas-docs/stable/user_guide/indexing.html#returning-a-view-versus-a-copy\n",
            "  method=method,\n"
          ],
          "name": "stderr"
        },
        {
          "output_type": "stream",
          "text": [
            "\n",
            "                                  education  count\n",
            "0                                No-School  42205\n",
            "1                     High school graduate  24147\n",
            "2                                  College  18723\n",
            "3               Bachelors degree(BA AB BS)   9885\n",
            "4   Masters degree(MA MS MEng MEd MSW MBA)   3306\n",
            "5   Prof school degree (MD DDS DVM LLB JD)    876\n",
            "6                Doctorate degree(PhD EdD)    620\n"
          ],
          "name": "stdout"
        }
      ]
    },
    {
      "cell_type": "code",
      "metadata": {
        "colab": {
          "base_uri": "https://localhost:8080/"
        },
        "id": "fwFTL1QqJYy-",
        "outputId": "fadacbd7-e8e0-41cc-ce00-a5c8e1fd6e39"
      },
      "source": [
        "f = df_train['marital status'].value_counts().reset_index()\n",
        "f.columns = ['marital status', 'count']\n",
        "print('\\n',f)"
      ],
      "execution_count": null,
      "outputs": [
        {
          "output_type": "stream",
          "text": [
            "\n",
            "                      marital status  count\n",
            "0                     Never married  86485\n",
            "1   Married-civilian spouse present  84222\n",
            "2                          Divorced  12710\n",
            "3                           Widowed  10463\n",
            "4                         Separated   3460\n",
            "5             Married-spouse absent   1518\n",
            "6        Married-A F spouse present    665\n"
          ],
          "name": "stdout"
        }
      ]
    },
    {
      "cell_type": "code",
      "metadata": {
        "colab": {
          "base_uri": "https://localhost:8080/",
          "height": 527
        },
        "id": "8ELgE39FJY1l",
        "outputId": "896013ad-1cdb-4c93-e8a6-af252ca6865f"
      },
      "source": [
        "df_train['marital status'].replace('(.*Married-civilian spouse present.*)', 'Married',regex=True,inplace=True)\n",
        "df_train['marital status'].replace('(.*Never married.*)', 'Not married',regex=True, inplace=True)\n",
        "df_train['marital status'].replace('(.*Divorced.*)', 'Separated' ,regex=True, inplace=True)\n",
        "df_train['marital status'].replace('(.*Separated.*)', 'Separated',regex=True, inplace=True)\n",
        "df_train['marital status'].replace('(.*Married-spouse absent.*)', 'Married',regex=True, inplace=True)\n",
        "df_train['marital status'].replace('(.*Married-A F spouse.*)', 'Married',regex=True, inplace=True)\n",
        "\n",
        "f = df_train['marital status'].value_counts().reset_index()\n",
        "f.columns = ['marital status', 'count']\n",
        "print('\\n',f)\n",
        "df_train.head()"
      ],
      "execution_count": null,
      "outputs": [
        {
          "output_type": "stream",
          "text": [
            "/usr/local/lib/python3.6/dist-packages/pandas/core/series.py:4581: SettingWithCopyWarning: \n",
            "A value is trying to be set on a copy of a slice from a DataFrame\n",
            "\n",
            "See the caveats in the documentation: https://pandas.pydata.org/pandas-docs/stable/user_guide/indexing.html#returning-a-view-versus-a-copy\n",
            "  method=method,\n"
          ],
          "name": "stderr"
        },
        {
          "output_type": "stream",
          "text": [
            "\n",
            "   marital status  count\n",
            "0    Not married  86485\n",
            "1        Married  86405\n",
            "2      Separated  16170\n",
            "3        Widowed  10463\n"
          ],
          "name": "stdout"
        },
        {
          "output_type": "execute_result",
          "data": {
            "text/html": [
              "<div>\n",
              "<style scoped>\n",
              "    .dataframe tbody tr th:only-of-type {\n",
              "        vertical-align: middle;\n",
              "    }\n",
              "\n",
              "    .dataframe tbody tr th {\n",
              "        vertical-align: top;\n",
              "    }\n",
              "\n",
              "    .dataframe thead th {\n",
              "        text-align: right;\n",
              "    }\n",
              "</style>\n",
              "<table border=\"1\" class=\"dataframe\">\n",
              "  <thead>\n",
              "    <tr style=\"text-align: right;\">\n",
              "      <th></th>\n",
              "      <th>age</th>\n",
              "      <th>class of worker</th>\n",
              "      <th>instance weight</th>\n",
              "      <th>education</th>\n",
              "      <th>enrolled in edu inst last wk</th>\n",
              "      <th>marital status</th>\n",
              "      <th>occupation code</th>\n",
              "      <th>race</th>\n",
              "      <th>sex</th>\n",
              "      <th>capital gains</th>\n",
              "      <th>capital losses</th>\n",
              "      <th>weeks worked in year</th>\n",
              "      <th>country of birth self</th>\n",
              "      <th>Label</th>\n",
              "    </tr>\n",
              "  </thead>\n",
              "  <tbody>\n",
              "    <tr>\n",
              "      <th>0</th>\n",
              "      <td>73</td>\n",
              "      <td>Not in universe</td>\n",
              "      <td>1700.09</td>\n",
              "      <td>High school graduate</td>\n",
              "      <td>Not in universe</td>\n",
              "      <td>Widowed</td>\n",
              "      <td>0</td>\n",
              "      <td>White</td>\n",
              "      <td>Female</td>\n",
              "      <td>0</td>\n",
              "      <td>0</td>\n",
              "      <td>0</td>\n",
              "      <td>United-States</td>\n",
              "      <td>- 50000.</td>\n",
              "    </tr>\n",
              "    <tr>\n",
              "      <th>1</th>\n",
              "      <td>58</td>\n",
              "      <td>Self-employed</td>\n",
              "      <td>1053.55</td>\n",
              "      <td>College</td>\n",
              "      <td>Not in universe</td>\n",
              "      <td>Separated</td>\n",
              "      <td>34</td>\n",
              "      <td>White</td>\n",
              "      <td>Male</td>\n",
              "      <td>0</td>\n",
              "      <td>0</td>\n",
              "      <td>52</td>\n",
              "      <td>United-States</td>\n",
              "      <td>- 50000.</td>\n",
              "    </tr>\n",
              "    <tr>\n",
              "      <th>2</th>\n",
              "      <td>18</td>\n",
              "      <td>Not in universe</td>\n",
              "      <td>991.95</td>\n",
              "      <td>No-School</td>\n",
              "      <td>High school</td>\n",
              "      <td>Not married</td>\n",
              "      <td>0</td>\n",
              "      <td>Asian or Pacific Islander</td>\n",
              "      <td>Female</td>\n",
              "      <td>0</td>\n",
              "      <td>0</td>\n",
              "      <td>0</td>\n",
              "      <td>Vietnam</td>\n",
              "      <td>- 50000.</td>\n",
              "    </tr>\n",
              "    <tr>\n",
              "      <th>3</th>\n",
              "      <td>9</td>\n",
              "      <td>Not in universe</td>\n",
              "      <td>1758.14</td>\n",
              "      <td>No-School</td>\n",
              "      <td>Not in universe</td>\n",
              "      <td>Not married</td>\n",
              "      <td>0</td>\n",
              "      <td>White</td>\n",
              "      <td>Female</td>\n",
              "      <td>0</td>\n",
              "      <td>0</td>\n",
              "      <td>0</td>\n",
              "      <td>United-States</td>\n",
              "      <td>- 50000.</td>\n",
              "    </tr>\n",
              "    <tr>\n",
              "      <th>4</th>\n",
              "      <td>10</td>\n",
              "      <td>Not in universe</td>\n",
              "      <td>1069.16</td>\n",
              "      <td>No-School</td>\n",
              "      <td>Not in universe</td>\n",
              "      <td>Not married</td>\n",
              "      <td>0</td>\n",
              "      <td>White</td>\n",
              "      <td>Female</td>\n",
              "      <td>0</td>\n",
              "      <td>0</td>\n",
              "      <td>0</td>\n",
              "      <td>United-States</td>\n",
              "      <td>- 50000.</td>\n",
              "    </tr>\n",
              "  </tbody>\n",
              "</table>\n",
              "</div>"
            ],
            "text/plain": [
              "   age   class of worker  ...  country of birth self      Label\n",
              "0   73   Not in universe  ...          United-States   - 50000.\n",
              "1   58     Self-employed  ...          United-States   - 50000.\n",
              "2   18   Not in universe  ...                Vietnam   - 50000.\n",
              "3    9   Not in universe  ...          United-States   - 50000.\n",
              "4   10   Not in universe  ...          United-States   - 50000.\n",
              "\n",
              "[5 rows x 14 columns]"
            ]
          },
          "metadata": {
            "tags": []
          },
          "execution_count": 47
        }
      ]
    },
    {
      "cell_type": "code",
      "metadata": {
        "colab": {
          "base_uri": "https://localhost:8080/",
          "height": 493
        },
        "id": "uO-qlo_o4LuA",
        "outputId": "fbf2028a-4d23-4468-d40b-ab9fd407961b"
      },
      "source": [
        "df_test['marital status'].replace('(.*Married-civilian spouse present.*)', 'Married',regex=True,inplace=True)\n",
        "df_test['marital status'].replace('(.*Never married.*)', 'Not married',regex=True, inplace=True)\n",
        "df_test['marital status'].replace('(.*Divorced.*)', 'Separated' ,regex=True, inplace=True)\n",
        "df_test['marital status'].replace('(.*Separated.*)', 'Separated',regex=True, inplace=True)\n",
        "df_test['marital status'].replace('(.*Married-spouse absent.*)', 'Married',regex=True, inplace=True)\n",
        "df_test['marital status'].replace('(.*Married-A F spouse.*)', 'Married',regex=True, inplace=True)\n",
        "\n",
        "f = df_test['marital status'].value_counts().reset_index()\n",
        "f.columns = ['marital status', 'count']\n",
        "print('\\n',f)\n",
        "df_test.head()"
      ],
      "execution_count": null,
      "outputs": [
        {
          "output_type": "stream",
          "text": [
            "/usr/local/lib/python3.6/dist-packages/pandas/core/series.py:4581: SettingWithCopyWarning: \n",
            "A value is trying to be set on a copy of a slice from a DataFrame\n",
            "\n",
            "See the caveats in the documentation: https://pandas.pydata.org/pandas-docs/stable/user_guide/indexing.html#returning-a-view-versus-a-copy\n",
            "  method=method,\n"
          ],
          "name": "stderr"
        },
        {
          "output_type": "stream",
          "text": [
            "\n",
            "   marital status  count\n",
            "0        Married  43148\n",
            "1    Not married  43143\n",
            "2      Separated   8146\n",
            "3        Widowed   5325\n"
          ],
          "name": "stdout"
        },
        {
          "output_type": "execute_result",
          "data": {
            "text/html": [
              "<div>\n",
              "<style scoped>\n",
              "    .dataframe tbody tr th:only-of-type {\n",
              "        vertical-align: middle;\n",
              "    }\n",
              "\n",
              "    .dataframe tbody tr th {\n",
              "        vertical-align: top;\n",
              "    }\n",
              "\n",
              "    .dataframe thead th {\n",
              "        text-align: right;\n",
              "    }\n",
              "</style>\n",
              "<table border=\"1\" class=\"dataframe\">\n",
              "  <thead>\n",
              "    <tr style=\"text-align: right;\">\n",
              "      <th></th>\n",
              "      <th>age</th>\n",
              "      <th>class of worker</th>\n",
              "      <th>instance weight</th>\n",
              "      <th>education</th>\n",
              "      <th>enrolled in edu inst last wk</th>\n",
              "      <th>marital status</th>\n",
              "      <th>occupation code</th>\n",
              "      <th>race</th>\n",
              "      <th>sex</th>\n",
              "      <th>capital gains</th>\n",
              "      <th>capital losses</th>\n",
              "      <th>weeks worked in year</th>\n",
              "      <th>country of birth self</th>\n",
              "      <th>Label</th>\n",
              "    </tr>\n",
              "  </thead>\n",
              "  <tbody>\n",
              "    <tr>\n",
              "      <th>0</th>\n",
              "      <td>38</td>\n",
              "      <td>Private</td>\n",
              "      <td>1032.38</td>\n",
              "      <td>No-School</td>\n",
              "      <td>Not in universe</td>\n",
              "      <td>Married</td>\n",
              "      <td>36</td>\n",
              "      <td>White</td>\n",
              "      <td>Female</td>\n",
              "      <td>0</td>\n",
              "      <td>0</td>\n",
              "      <td>12</td>\n",
              "      <td>Mexico</td>\n",
              "      <td>- 50000.</td>\n",
              "    </tr>\n",
              "    <tr>\n",
              "      <th>1</th>\n",
              "      <td>44</td>\n",
              "      <td>Self-employed</td>\n",
              "      <td>1462.33</td>\n",
              "      <td>College</td>\n",
              "      <td>Not in universe</td>\n",
              "      <td>Married</td>\n",
              "      <td>12</td>\n",
              "      <td>White</td>\n",
              "      <td>Female</td>\n",
              "      <td>0</td>\n",
              "      <td>0</td>\n",
              "      <td>26</td>\n",
              "      <td>United-States</td>\n",
              "      <td>- 50000.</td>\n",
              "    </tr>\n",
              "    <tr>\n",
              "      <th>2</th>\n",
              "      <td>2</td>\n",
              "      <td>Not in universe</td>\n",
              "      <td>1601.75</td>\n",
              "      <td>No-School</td>\n",
              "      <td>Not in universe</td>\n",
              "      <td>Not married</td>\n",
              "      <td>0</td>\n",
              "      <td>White</td>\n",
              "      <td>Male</td>\n",
              "      <td>0</td>\n",
              "      <td>0</td>\n",
              "      <td>0</td>\n",
              "      <td>United-States</td>\n",
              "      <td>- 50000.</td>\n",
              "    </tr>\n",
              "    <tr>\n",
              "      <th>3</th>\n",
              "      <td>35</td>\n",
              "      <td>Private</td>\n",
              "      <td>1866.88</td>\n",
              "      <td>High school graduate</td>\n",
              "      <td>Not in universe</td>\n",
              "      <td>Separated</td>\n",
              "      <td>3</td>\n",
              "      <td>White</td>\n",
              "      <td>Female</td>\n",
              "      <td>0</td>\n",
              "      <td>0</td>\n",
              "      <td>52</td>\n",
              "      <td>United-States</td>\n",
              "      <td>- 50000.</td>\n",
              "    </tr>\n",
              "    <tr>\n",
              "      <th>4</th>\n",
              "      <td>49</td>\n",
              "      <td>Private</td>\n",
              "      <td>1394.54</td>\n",
              "      <td>High school graduate</td>\n",
              "      <td>Not in universe</td>\n",
              "      <td>Separated</td>\n",
              "      <td>34</td>\n",
              "      <td>White</td>\n",
              "      <td>Male</td>\n",
              "      <td>0</td>\n",
              "      <td>0</td>\n",
              "      <td>50</td>\n",
              "      <td>United-States</td>\n",
              "      <td>- 50000.</td>\n",
              "    </tr>\n",
              "  </tbody>\n",
              "</table>\n",
              "</div>"
            ],
            "text/plain": [
              "   age   class of worker  ...  country of birth self      Label\n",
              "0   38           Private  ...                 Mexico   - 50000.\n",
              "1   44     Self-employed  ...          United-States   - 50000.\n",
              "2    2   Not in universe  ...          United-States   - 50000.\n",
              "3   35           Private  ...          United-States   - 50000.\n",
              "4   49           Private  ...          United-States   - 50000.\n",
              "\n",
              "[5 rows x 14 columns]"
            ]
          },
          "metadata": {
            "tags": []
          },
          "execution_count": 48
        }
      ]
    },
    {
      "cell_type": "code",
      "metadata": {
        "id": "WRaA3JVV4FJw"
      },
      "source": [
        ""
      ],
      "execution_count": null,
      "outputs": []
    },
    {
      "cell_type": "code",
      "metadata": {
        "colab": {
          "base_uri": "https://localhost:8080/"
        },
        "id": "0lNw2EHFJY39",
        "outputId": "55f0f7fa-ce0d-48ea-ffb3-259d8b7660c3"
      },
      "source": [
        "f = df_train['country of birth self'].value_counts().reset_index()\n",
        "f.columns = ['country of birth self', 'count']\n",
        "print('\\n',f)"
      ],
      "execution_count": null,
      "outputs": [
        {
          "output_type": "stream",
          "text": [
            "\n",
            "             country of birth self   count\n",
            "0                   United-States  176989\n",
            "1                          Mexico    5767\n",
            "2                               ?    3393\n",
            "3                     Puerto-Rico    1400\n",
            "4                         Germany     851\n",
            "5                     Philippines     845\n",
            "6                            Cuba     837\n",
            "7                          Canada     700\n",
            "8              Dominican-Republic     690\n",
            "9                     El-Salvador     689\n",
            "10                          China     478\n",
            "11                    South Korea     471\n",
            "12                        England     457\n",
            "13                       Columbia     434\n",
            "14                          Italy     419\n",
            "15                          India     408\n",
            "16                        Vietnam     391\n",
            "17                         Poland     381\n",
            "18                      Guatemala     344\n",
            "19                          Japan     339\n",
            "20                        Jamaica     320\n",
            "21                           Peru     268\n",
            "22                        Ecuador     258\n",
            "23                          Haiti     228\n",
            "24                      Nicaragua     218\n",
            "25                         Taiwan     201\n",
            "26                       Portugal     174\n",
            "27                           Iran     157\n",
            "28                         Greece     147\n",
            "29                       Honduras     144\n",
            "30                        Ireland     135\n",
            "31                         France     121\n",
            "32   Outlying-U S (Guam USVI etc)     119\n",
            "33                       Thailand     113\n",
            "34                           Laos     105\n",
            "35                      Hong Kong     100\n",
            "36                       Cambodia      95\n",
            "37                        Hungary      79\n",
            "38                       Scotland      75\n",
            "39                     Yugoslavia      66\n",
            "40                Trinadad&Tobago      66\n",
            "41                         Panama      28\n",
            "42             Holand-Netherlands      23\n"
          ],
          "name": "stdout"
        }
      ]
    },
    {
      "cell_type": "code",
      "metadata": {
        "colab": {
          "base_uri": "https://localhost:8080/"
        },
        "id": "Yjs4wipmJY6j",
        "outputId": "98dde0ca-23cf-4e6b-f606-2df2e134f777"
      },
      "source": [
        "df_train['country of birth self'].replace('(.*Outlying.*)', 'North America',regex=True, inplace=True)\n",
        "df_train['country of birth self'].replace('(.*Canada.*)', 'North America',regex=True, inplace=True)\n",
        "df_train['country of birth self'].replace('(.*Panama.*)', 'North America',regex=True, inplace=True)\n",
        "df_train['country of birth self'].replace('(.*Guatemala.*)', 'North America',regex=True, inplace=True)\n",
        "df_train['country of birth self'].replace('(.*Honduras.*)', 'North America',regex=True, inplace=True)\n",
        "df_train['country of birth self'].replace('(.*Nicaragua.*)', 'North America',regex=True, inplace=True)\n",
        "df_train['country of birth self'].replace('(.*Jamaica.*)', 'North America',regex=True, inplace=True)\n",
        "df_train['country of birth self'].replace('(.*Haiti.*)', 'North America',regex=True, inplace=True)\n",
        "df_train['country of birth self'].replace('(.*Cuba.*)', 'North America',regex=True, inplace=True)\n",
        "df_train['country of birth self'].replace('(.*United-States.*)', 'North America',regex=True, inplace=True)\n",
        "df_train['country of birth self'].replace('(.*Mexico.*)', 'North America',regex=True, inplace=True)\n",
        "df_train['country of birth self'].replace('(.*Puerto-Rico.*)', 'North America',regex=True, inplace=True)\n",
        "df_train['country of birth self'].replace('(.*Dominican-Republic.*)', 'North America',regex=True, inplace=True)\n",
        "df_train['country of birth self'].replace('(.*El-Salvador.*)', 'North America',regex=True, inplace=True)\n",
        "\n",
        "df_train['country of birth self'] = df_train['country of birth self'].replace(to_replace=['Philippines', 'Laos', 'Cambodia', 'China', 'Vietnam', 'Hong Kong', 'South Korea','India','Japan', 'Taiwan', 'Iran', 'Thailand'], value='Asia', regex=True)\n",
        "df_train['country of birth self'] = df_train['country of birth self'].replace(to_replace=['Germany','England', 'Holand-Netherlands', 'Yugoslavia', 'Italy', 'Poland', 'Scotland', 'Hungary', 'Portugal','Greece','Ireland','France'], value='Europe', regex=True)\n",
        "df_train['country of birth self'] = df_train['country of birth self'].replace(to_replace=['Columbia', 'Peru', 'Ecuador', 'Trinadad&Tobago'], value='South America', regex=True)\n",
        "\n",
        "f = df_train['country of birth self'].value_counts().reset_index()\n",
        "f.columns = ['country of birth self', 'count']\n",
        "print('\\n',f)"
      ],
      "execution_count": null,
      "outputs": [
        {
          "output_type": "stream",
          "text": [
            "/usr/local/lib/python3.6/dist-packages/pandas/core/series.py:4581: SettingWithCopyWarning: \n",
            "A value is trying to be set on a copy of a slice from a DataFrame\n",
            "\n",
            "See the caveats in the documentation: https://pandas.pydata.org/pandas-docs/stable/user_guide/indexing.html#returning-a-view-versus-a-copy\n",
            "  method=method,\n",
            "/usr/local/lib/python3.6/dist-packages/ipykernel_launcher.py:16: SettingWithCopyWarning: \n",
            "A value is trying to be set on a copy of a slice from a DataFrame.\n",
            "Try using .loc[row_indexer,col_indexer] = value instead\n",
            "\n",
            "See the caveats in the documentation: https://pandas.pydata.org/pandas-docs/stable/user_guide/indexing.html#returning-a-view-versus-a-copy\n",
            "  app.launch_new_instance()\n",
            "/usr/local/lib/python3.6/dist-packages/ipykernel_launcher.py:17: SettingWithCopyWarning: \n",
            "A value is trying to be set on a copy of a slice from a DataFrame.\n",
            "Try using .loc[row_indexer,col_indexer] = value instead\n",
            "\n",
            "See the caveats in the documentation: https://pandas.pydata.org/pandas-docs/stable/user_guide/indexing.html#returning-a-view-versus-a-copy\n"
          ],
          "name": "stderr"
        },
        {
          "output_type": "stream",
          "text": [
            "\n",
            "   country of birth self   count\n",
            "0         North America  188473\n",
            "1                  Asia    3703\n",
            "2                     ?    3393\n",
            "3                Europe    2928\n",
            "4         South America    1026\n"
          ],
          "name": "stdout"
        },
        {
          "output_type": "stream",
          "text": [
            "/usr/local/lib/python3.6/dist-packages/ipykernel_launcher.py:18: SettingWithCopyWarning: \n",
            "A value is trying to be set on a copy of a slice from a DataFrame.\n",
            "Try using .loc[row_indexer,col_indexer] = value instead\n",
            "\n",
            "See the caveats in the documentation: https://pandas.pydata.org/pandas-docs/stable/user_guide/indexing.html#returning-a-view-versus-a-copy\n"
          ],
          "name": "stderr"
        }
      ]
    },
    {
      "cell_type": "code",
      "metadata": {
        "colab": {
          "base_uri": "https://localhost:8080/"
        },
        "id": "9mrwNDYN4W7M",
        "outputId": "cd459ac3-1371-490f-f816-54303b91e823"
      },
      "source": [
        "df_test['country of birth self'].replace('(.*Outlying.*)', 'North America',regex=True, inplace=True)\n",
        "df_test['country of birth self'].replace('(.*Canada.*)', 'North America',regex=True, inplace=True)\n",
        "df_test['country of birth self'].replace('(.*Panama.*)', 'North America',regex=True, inplace=True)\n",
        "df_test['country of birth self'].replace('(.*Guatemala.*)', 'North America',regex=True, inplace=True)\n",
        "df_test['country of birth self'].replace('(.*Honduras.*)', 'North America',regex=True, inplace=True)\n",
        "df_test['country of birth self'].replace('(.*Nicaragua.*)', 'North America',regex=True, inplace=True)\n",
        "df_test['country of birth self'].replace('(.*Jamaica.*)', 'North America',regex=True, inplace=True)\n",
        "df_test['country of birth self'].replace('(.*Haiti.*)', 'North America',regex=True, inplace=True)\n",
        "df_test['country of birth self'].replace('(.*Cuba.*)', 'North America',regex=True, inplace=True)\n",
        "df_test['country of birth self'].replace('(.*United-States.*)', 'North America',regex=True, inplace=True)\n",
        "df_test['country of birth self'].replace('(.*Mexico.*)', 'North America',regex=True, inplace=True)\n",
        "df_test['country of birth self'].replace('(.*Puerto-Rico.*)', 'North America',regex=True, inplace=True)\n",
        "df_test['country of birth self'].replace('(.*Dominican-Republic.*)', 'North America',regex=True, inplace=True)\n",
        "df_test['country of birth self'].replace('(.*El-Salvador.*)', 'North America',regex=True, inplace=True)\n",
        "\n",
        "df_test['country of birth self'] = df_test['country of birth self'].replace(to_replace=['Philippines', 'Laos', 'Cambodia', 'China', 'Vietnam', 'Hong Kong', 'South Korea','India','Japan', 'Taiwan', 'Iran', 'Thailand'], value='Asia', regex=True)\n",
        "df_test['country of birth self'] = df_test['country of birth self'].replace(to_replace=['Germany','England', 'Holand-Netherlands', 'Yugoslavia', 'Italy', 'Poland', 'Scotland', 'Hungary', 'Portugal','Greece','Ireland','France'], value='Europe', regex=True)\n",
        "df_test['country of birth self'] = df_test['country of birth self'].replace(to_replace=['Columbia', 'Peru', 'Ecuador', 'Trinadad&Tobago'], value='South America', regex=True)\n",
        "\n",
        "f = df_test['country of birth self'].value_counts().reset_index()\n",
        "f.columns = ['country of birth self', 'count']\n",
        "print('\\n',f)"
      ],
      "execution_count": null,
      "outputs": [
        {
          "output_type": "stream",
          "text": [
            "/usr/local/lib/python3.6/dist-packages/pandas/core/series.py:4581: SettingWithCopyWarning: \n",
            "A value is trying to be set on a copy of a slice from a DataFrame\n",
            "\n",
            "See the caveats in the documentation: https://pandas.pydata.org/pandas-docs/stable/user_guide/indexing.html#returning-a-view-versus-a-copy\n",
            "  method=method,\n",
            "/usr/local/lib/python3.6/dist-packages/ipykernel_launcher.py:16: SettingWithCopyWarning: \n",
            "A value is trying to be set on a copy of a slice from a DataFrame.\n",
            "Try using .loc[row_indexer,col_indexer] = value instead\n",
            "\n",
            "See the caveats in the documentation: https://pandas.pydata.org/pandas-docs/stable/user_guide/indexing.html#returning-a-view-versus-a-copy\n",
            "  app.launch_new_instance()\n",
            "/usr/local/lib/python3.6/dist-packages/ipykernel_launcher.py:17: SettingWithCopyWarning: \n",
            "A value is trying to be set on a copy of a slice from a DataFrame.\n",
            "Try using .loc[row_indexer,col_indexer] = value instead\n",
            "\n",
            "See the caveats in the documentation: https://pandas.pydata.org/pandas-docs/stable/user_guide/indexing.html#returning-a-view-versus-a-copy\n"
          ],
          "name": "stderr"
        },
        {
          "output_type": "stream",
          "text": [
            "\n",
            "   country of birth self  count\n",
            "0         North America  94133\n",
            "1                  Asia   1887\n",
            "2                     ?   1764\n",
            "3                Europe   1464\n",
            "4         South America    514\n"
          ],
          "name": "stdout"
        },
        {
          "output_type": "stream",
          "text": [
            "/usr/local/lib/python3.6/dist-packages/ipykernel_launcher.py:18: SettingWithCopyWarning: \n",
            "A value is trying to be set on a copy of a slice from a DataFrame.\n",
            "Try using .loc[row_indexer,col_indexer] = value instead\n",
            "\n",
            "See the caveats in the documentation: https://pandas.pydata.org/pandas-docs/stable/user_guide/indexing.html#returning-a-view-versus-a-copy\n"
          ],
          "name": "stderr"
        }
      ]
    },
    {
      "cell_type": "code",
      "metadata": {
        "colab": {
          "base_uri": "https://localhost:8080/"
        },
        "id": "PM1C9bONJY9U",
        "outputId": "4e76e426-36ec-4a98-aaa0-fda1e5e7cee4"
      },
      "source": [
        "df_train.drop(df_train[df_train['country of birth self'].str.strip() == '?'].index, inplace = True) \n",
        "\n",
        "f = df_train['country of birth self'].value_counts().reset_index()\n",
        "f.columns = ['country of birth self', 'count']\n",
        "print('\\n',f)"
      ],
      "execution_count": null,
      "outputs": [
        {
          "output_type": "stream",
          "text": [
            "\n",
            "   country of birth self   count\n",
            "0         North America  188473\n",
            "1                  Asia    3703\n",
            "2                Europe    2928\n",
            "3         South America    1026\n"
          ],
          "name": "stdout"
        },
        {
          "output_type": "stream",
          "text": [
            "/usr/local/lib/python3.6/dist-packages/pandas/core/frame.py:4174: SettingWithCopyWarning: \n",
            "A value is trying to be set on a copy of a slice from a DataFrame\n",
            "\n",
            "See the caveats in the documentation: https://pandas.pydata.org/pandas-docs/stable/user_guide/indexing.html#returning-a-view-versus-a-copy\n",
            "  errors=errors,\n"
          ],
          "name": "stderr"
        }
      ]
    },
    {
      "cell_type": "code",
      "metadata": {
        "colab": {
          "base_uri": "https://localhost:8080/"
        },
        "id": "ETa_Rjdi4nBw",
        "outputId": "f4845dfe-8aa7-433f-a90f-24e0161d9237"
      },
      "source": [
        "df_test.drop(df_train[df_train['country of birth self'].str.strip() == '?'].index, inplace = True) \n",
        "\n",
        "f = df_test['country of birth self'].value_counts().reset_index()\n",
        "f.columns = ['country of birth self', 'count']\n",
        "print('\\n',f)"
      ],
      "execution_count": null,
      "outputs": [
        {
          "output_type": "stream",
          "text": [
            "\n",
            "   country of birth self  count\n",
            "0         North America  94133\n",
            "1                  Asia   1887\n",
            "2                     ?   1764\n",
            "3                Europe   1464\n",
            "4         South America    514\n"
          ],
          "name": "stdout"
        },
        {
          "output_type": "stream",
          "text": [
            "/usr/local/lib/python3.6/dist-packages/pandas/core/frame.py:4174: SettingWithCopyWarning: \n",
            "A value is trying to be set on a copy of a slice from a DataFrame\n",
            "\n",
            "See the caveats in the documentation: https://pandas.pydata.org/pandas-docs/stable/user_guide/indexing.html#returning-a-view-versus-a-copy\n",
            "  errors=errors,\n"
          ],
          "name": "stderr"
        }
      ]
    },
    {
      "cell_type": "code",
      "metadata": {
        "colab": {
          "base_uri": "https://localhost:8080/"
        },
        "id": "qF5wTO2XJZAd",
        "outputId": "340f2fd0-1d04-4a87-9651-b8288bebd8de"
      },
      "source": [
        "f = df_train['race'].value_counts().reset_index()\n",
        "f.columns = ['race', 'count']\n",
        "print('\\n',f)\n",
        "\n",
        "f = df_train['sex'].value_counts().reset_index()\n",
        "f.columns = ['sex', 'count']\n",
        "print('\\n',f)\n",
        "\n",
        "# have managable values. so not tuning it"
      ],
      "execution_count": null,
      "outputs": [
        {
          "output_type": "stream",
          "text": [
            "\n",
            "                            race   count\n",
            "0                         White  164977\n",
            "1                         Black   20008\n",
            "2     Asian or Pacific Islander    5410\n",
            "3                         Other    3487\n",
            "4   Amer Indian Aleut or Eskimo    2248\n",
            "\n",
            "        sex   count\n",
            "0   Female  102267\n",
            "1     Male   93863\n"
          ],
          "name": "stdout"
        }
      ]
    },
    {
      "cell_type": "code",
      "metadata": {
        "colab": {
          "base_uri": "https://localhost:8080/"
        },
        "id": "b2QfS3ty4uoR",
        "outputId": "7144c705-9eb4-4eea-c045-e3ffd8031273"
      },
      "source": [
        "f = df_test['race'].value_counts().reset_index()\n",
        "f.columns = ['race', 'count']\n",
        "print('\\n',f)\n",
        "\n",
        "f = df_test['sex'].value_counts().reset_index()\n",
        "f.columns = ['sex', 'count']\n",
        "print('\\n',f)\n",
        "\n",
        "# have managable values. so not tuning it"
      ],
      "execution_count": null,
      "outputs": [
        {
          "output_type": "stream",
          "text": [
            "\n",
            "                            race  count\n",
            "0                         White  83613\n",
            "1                         Black  10124\n",
            "2     Asian or Pacific Islander   2913\n",
            "3                         Other   1903\n",
            "4   Amer Indian Aleut or Eskimo   1209\n",
            "\n",
            "        sex  count\n",
            "0   Female  51791\n",
            "1     Male  47971\n"
          ],
          "name": "stdout"
        }
      ]
    },
    {
      "cell_type": "code",
      "metadata": {
        "colab": {
          "base_uri": "https://localhost:8080/",
          "height": 391
        },
        "id": "U0VzODRNJZC5",
        "outputId": "6844e0a5-5cac-4f8b-ccf7-8c107b70236b"
      },
      "source": [
        "#Drop the columns not needed\n",
        "df_train.drop(columns=['enrolled in edu inst last wk'], axis=1, inplace=True)\n",
        "df_train.head()"
      ],
      "execution_count": null,
      "outputs": [
        {
          "output_type": "stream",
          "text": [
            "/usr/local/lib/python3.6/dist-packages/pandas/core/frame.py:4174: SettingWithCopyWarning: \n",
            "A value is trying to be set on a copy of a slice from a DataFrame\n",
            "\n",
            "See the caveats in the documentation: https://pandas.pydata.org/pandas-docs/stable/user_guide/indexing.html#returning-a-view-versus-a-copy\n",
            "  errors=errors,\n"
          ],
          "name": "stderr"
        },
        {
          "output_type": "execute_result",
          "data": {
            "text/html": [
              "<div>\n",
              "<style scoped>\n",
              "    .dataframe tbody tr th:only-of-type {\n",
              "        vertical-align: middle;\n",
              "    }\n",
              "\n",
              "    .dataframe tbody tr th {\n",
              "        vertical-align: top;\n",
              "    }\n",
              "\n",
              "    .dataframe thead th {\n",
              "        text-align: right;\n",
              "    }\n",
              "</style>\n",
              "<table border=\"1\" class=\"dataframe\">\n",
              "  <thead>\n",
              "    <tr style=\"text-align: right;\">\n",
              "      <th></th>\n",
              "      <th>age</th>\n",
              "      <th>class of worker</th>\n",
              "      <th>instance weight</th>\n",
              "      <th>education</th>\n",
              "      <th>marital status</th>\n",
              "      <th>occupation code</th>\n",
              "      <th>race</th>\n",
              "      <th>sex</th>\n",
              "      <th>capital gains</th>\n",
              "      <th>capital losses</th>\n",
              "      <th>weeks worked in year</th>\n",
              "      <th>country of birth self</th>\n",
              "      <th>Label</th>\n",
              "    </tr>\n",
              "  </thead>\n",
              "  <tbody>\n",
              "    <tr>\n",
              "      <th>0</th>\n",
              "      <td>73</td>\n",
              "      <td>Not in universe</td>\n",
              "      <td>1700.09</td>\n",
              "      <td>High school graduate</td>\n",
              "      <td>Widowed</td>\n",
              "      <td>0</td>\n",
              "      <td>White</td>\n",
              "      <td>Female</td>\n",
              "      <td>0</td>\n",
              "      <td>0</td>\n",
              "      <td>0</td>\n",
              "      <td>North America</td>\n",
              "      <td>- 50000.</td>\n",
              "    </tr>\n",
              "    <tr>\n",
              "      <th>1</th>\n",
              "      <td>58</td>\n",
              "      <td>Self-employed</td>\n",
              "      <td>1053.55</td>\n",
              "      <td>College</td>\n",
              "      <td>Separated</td>\n",
              "      <td>34</td>\n",
              "      <td>White</td>\n",
              "      <td>Male</td>\n",
              "      <td>0</td>\n",
              "      <td>0</td>\n",
              "      <td>52</td>\n",
              "      <td>North America</td>\n",
              "      <td>- 50000.</td>\n",
              "    </tr>\n",
              "    <tr>\n",
              "      <th>2</th>\n",
              "      <td>18</td>\n",
              "      <td>Not in universe</td>\n",
              "      <td>991.95</td>\n",
              "      <td>No-School</td>\n",
              "      <td>Not married</td>\n",
              "      <td>0</td>\n",
              "      <td>Asian or Pacific Islander</td>\n",
              "      <td>Female</td>\n",
              "      <td>0</td>\n",
              "      <td>0</td>\n",
              "      <td>0</td>\n",
              "      <td>Asia</td>\n",
              "      <td>- 50000.</td>\n",
              "    </tr>\n",
              "    <tr>\n",
              "      <th>3</th>\n",
              "      <td>9</td>\n",
              "      <td>Not in universe</td>\n",
              "      <td>1758.14</td>\n",
              "      <td>No-School</td>\n",
              "      <td>Not married</td>\n",
              "      <td>0</td>\n",
              "      <td>White</td>\n",
              "      <td>Female</td>\n",
              "      <td>0</td>\n",
              "      <td>0</td>\n",
              "      <td>0</td>\n",
              "      <td>North America</td>\n",
              "      <td>- 50000.</td>\n",
              "    </tr>\n",
              "    <tr>\n",
              "      <th>4</th>\n",
              "      <td>10</td>\n",
              "      <td>Not in universe</td>\n",
              "      <td>1069.16</td>\n",
              "      <td>No-School</td>\n",
              "      <td>Not married</td>\n",
              "      <td>0</td>\n",
              "      <td>White</td>\n",
              "      <td>Female</td>\n",
              "      <td>0</td>\n",
              "      <td>0</td>\n",
              "      <td>0</td>\n",
              "      <td>North America</td>\n",
              "      <td>- 50000.</td>\n",
              "    </tr>\n",
              "  </tbody>\n",
              "</table>\n",
              "</div>"
            ],
            "text/plain": [
              "   age   class of worker  ...  country of birth self      Label\n",
              "0   73   Not in universe  ...          North America   - 50000.\n",
              "1   58     Self-employed  ...          North America   - 50000.\n",
              "2   18   Not in universe  ...                   Asia   - 50000.\n",
              "3    9   Not in universe  ...          North America   - 50000.\n",
              "4   10   Not in universe  ...          North America   - 50000.\n",
              "\n",
              "[5 rows x 13 columns]"
            ]
          },
          "metadata": {
            "tags": []
          },
          "execution_count": 56
        }
      ]
    },
    {
      "cell_type": "code",
      "metadata": {
        "colab": {
          "base_uri": "https://localhost:8080/",
          "height": 391
        },
        "id": "ctogHtSY4256",
        "outputId": "eb24b4a7-fc80-4596-d5b0-0de8ab38eca7"
      },
      "source": [
        "#Drop the columns not needed\n",
        "df_test.drop(columns=['enrolled in edu inst last wk'], axis=1, inplace=True)\n",
        "df_test.head()"
      ],
      "execution_count": null,
      "outputs": [
        {
          "output_type": "stream",
          "text": [
            "/usr/local/lib/python3.6/dist-packages/pandas/core/frame.py:4174: SettingWithCopyWarning: \n",
            "A value is trying to be set on a copy of a slice from a DataFrame\n",
            "\n",
            "See the caveats in the documentation: https://pandas.pydata.org/pandas-docs/stable/user_guide/indexing.html#returning-a-view-versus-a-copy\n",
            "  errors=errors,\n"
          ],
          "name": "stderr"
        },
        {
          "output_type": "execute_result",
          "data": {
            "text/html": [
              "<div>\n",
              "<style scoped>\n",
              "    .dataframe tbody tr th:only-of-type {\n",
              "        vertical-align: middle;\n",
              "    }\n",
              "\n",
              "    .dataframe tbody tr th {\n",
              "        vertical-align: top;\n",
              "    }\n",
              "\n",
              "    .dataframe thead th {\n",
              "        text-align: right;\n",
              "    }\n",
              "</style>\n",
              "<table border=\"1\" class=\"dataframe\">\n",
              "  <thead>\n",
              "    <tr style=\"text-align: right;\">\n",
              "      <th></th>\n",
              "      <th>age</th>\n",
              "      <th>class of worker</th>\n",
              "      <th>instance weight</th>\n",
              "      <th>education</th>\n",
              "      <th>marital status</th>\n",
              "      <th>occupation code</th>\n",
              "      <th>race</th>\n",
              "      <th>sex</th>\n",
              "      <th>capital gains</th>\n",
              "      <th>capital losses</th>\n",
              "      <th>weeks worked in year</th>\n",
              "      <th>country of birth self</th>\n",
              "      <th>Label</th>\n",
              "    </tr>\n",
              "  </thead>\n",
              "  <tbody>\n",
              "    <tr>\n",
              "      <th>0</th>\n",
              "      <td>38</td>\n",
              "      <td>Private</td>\n",
              "      <td>1032.38</td>\n",
              "      <td>No-School</td>\n",
              "      <td>Married</td>\n",
              "      <td>36</td>\n",
              "      <td>White</td>\n",
              "      <td>Female</td>\n",
              "      <td>0</td>\n",
              "      <td>0</td>\n",
              "      <td>12</td>\n",
              "      <td>North America</td>\n",
              "      <td>- 50000.</td>\n",
              "    </tr>\n",
              "    <tr>\n",
              "      <th>1</th>\n",
              "      <td>44</td>\n",
              "      <td>Self-employed</td>\n",
              "      <td>1462.33</td>\n",
              "      <td>College</td>\n",
              "      <td>Married</td>\n",
              "      <td>12</td>\n",
              "      <td>White</td>\n",
              "      <td>Female</td>\n",
              "      <td>0</td>\n",
              "      <td>0</td>\n",
              "      <td>26</td>\n",
              "      <td>North America</td>\n",
              "      <td>- 50000.</td>\n",
              "    </tr>\n",
              "    <tr>\n",
              "      <th>2</th>\n",
              "      <td>2</td>\n",
              "      <td>Not in universe</td>\n",
              "      <td>1601.75</td>\n",
              "      <td>No-School</td>\n",
              "      <td>Not married</td>\n",
              "      <td>0</td>\n",
              "      <td>White</td>\n",
              "      <td>Male</td>\n",
              "      <td>0</td>\n",
              "      <td>0</td>\n",
              "      <td>0</td>\n",
              "      <td>North America</td>\n",
              "      <td>- 50000.</td>\n",
              "    </tr>\n",
              "    <tr>\n",
              "      <th>3</th>\n",
              "      <td>35</td>\n",
              "      <td>Private</td>\n",
              "      <td>1866.88</td>\n",
              "      <td>High school graduate</td>\n",
              "      <td>Separated</td>\n",
              "      <td>3</td>\n",
              "      <td>White</td>\n",
              "      <td>Female</td>\n",
              "      <td>0</td>\n",
              "      <td>0</td>\n",
              "      <td>52</td>\n",
              "      <td>North America</td>\n",
              "      <td>- 50000.</td>\n",
              "    </tr>\n",
              "    <tr>\n",
              "      <th>4</th>\n",
              "      <td>49</td>\n",
              "      <td>Private</td>\n",
              "      <td>1394.54</td>\n",
              "      <td>High school graduate</td>\n",
              "      <td>Separated</td>\n",
              "      <td>34</td>\n",
              "      <td>White</td>\n",
              "      <td>Male</td>\n",
              "      <td>0</td>\n",
              "      <td>0</td>\n",
              "      <td>50</td>\n",
              "      <td>North America</td>\n",
              "      <td>- 50000.</td>\n",
              "    </tr>\n",
              "  </tbody>\n",
              "</table>\n",
              "</div>"
            ],
            "text/plain": [
              "   age   class of worker  ...  country of birth self      Label\n",
              "0   38           Private  ...          North America   - 50000.\n",
              "1   44     Self-employed  ...          North America   - 50000.\n",
              "2    2   Not in universe  ...          North America   - 50000.\n",
              "3   35           Private  ...          North America   - 50000.\n",
              "4   49           Private  ...          North America   - 50000.\n",
              "\n",
              "[5 rows x 13 columns]"
            ]
          },
          "metadata": {
            "tags": []
          },
          "execution_count": 57
        }
      ]
    },
    {
      "cell_type": "code",
      "metadata": {
        "colab": {
          "base_uri": "https://localhost:8080/",
          "height": 357
        },
        "id": "oe1MtC3rJZGd",
        "outputId": "f5c602c9-e2a2-406d-99e3-53df25d3e360"
      },
      "source": [
        "print('dataset size')\n",
        "print('# of rows:', df_train.shape[0])\n",
        "print('# of columns:', df_train.shape[1])\n",
        "df_train.head()"
      ],
      "execution_count": null,
      "outputs": [
        {
          "output_type": "stream",
          "text": [
            "dataset size\n",
            "# of rows: 196130\n",
            "# of columns: 13\n"
          ],
          "name": "stdout"
        },
        {
          "output_type": "execute_result",
          "data": {
            "text/html": [
              "<div>\n",
              "<style scoped>\n",
              "    .dataframe tbody tr th:only-of-type {\n",
              "        vertical-align: middle;\n",
              "    }\n",
              "\n",
              "    .dataframe tbody tr th {\n",
              "        vertical-align: top;\n",
              "    }\n",
              "\n",
              "    .dataframe thead th {\n",
              "        text-align: right;\n",
              "    }\n",
              "</style>\n",
              "<table border=\"1\" class=\"dataframe\">\n",
              "  <thead>\n",
              "    <tr style=\"text-align: right;\">\n",
              "      <th></th>\n",
              "      <th>age</th>\n",
              "      <th>class of worker</th>\n",
              "      <th>instance weight</th>\n",
              "      <th>education</th>\n",
              "      <th>marital status</th>\n",
              "      <th>occupation code</th>\n",
              "      <th>race</th>\n",
              "      <th>sex</th>\n",
              "      <th>capital gains</th>\n",
              "      <th>capital losses</th>\n",
              "      <th>weeks worked in year</th>\n",
              "      <th>country of birth self</th>\n",
              "      <th>Label</th>\n",
              "    </tr>\n",
              "  </thead>\n",
              "  <tbody>\n",
              "    <tr>\n",
              "      <th>0</th>\n",
              "      <td>73</td>\n",
              "      <td>Not in universe</td>\n",
              "      <td>1700.09</td>\n",
              "      <td>High school graduate</td>\n",
              "      <td>Widowed</td>\n",
              "      <td>0</td>\n",
              "      <td>White</td>\n",
              "      <td>Female</td>\n",
              "      <td>0</td>\n",
              "      <td>0</td>\n",
              "      <td>0</td>\n",
              "      <td>North America</td>\n",
              "      <td>- 50000.</td>\n",
              "    </tr>\n",
              "    <tr>\n",
              "      <th>1</th>\n",
              "      <td>58</td>\n",
              "      <td>Self-employed</td>\n",
              "      <td>1053.55</td>\n",
              "      <td>College</td>\n",
              "      <td>Separated</td>\n",
              "      <td>34</td>\n",
              "      <td>White</td>\n",
              "      <td>Male</td>\n",
              "      <td>0</td>\n",
              "      <td>0</td>\n",
              "      <td>52</td>\n",
              "      <td>North America</td>\n",
              "      <td>- 50000.</td>\n",
              "    </tr>\n",
              "    <tr>\n",
              "      <th>2</th>\n",
              "      <td>18</td>\n",
              "      <td>Not in universe</td>\n",
              "      <td>991.95</td>\n",
              "      <td>No-School</td>\n",
              "      <td>Not married</td>\n",
              "      <td>0</td>\n",
              "      <td>Asian or Pacific Islander</td>\n",
              "      <td>Female</td>\n",
              "      <td>0</td>\n",
              "      <td>0</td>\n",
              "      <td>0</td>\n",
              "      <td>Asia</td>\n",
              "      <td>- 50000.</td>\n",
              "    </tr>\n",
              "    <tr>\n",
              "      <th>3</th>\n",
              "      <td>9</td>\n",
              "      <td>Not in universe</td>\n",
              "      <td>1758.14</td>\n",
              "      <td>No-School</td>\n",
              "      <td>Not married</td>\n",
              "      <td>0</td>\n",
              "      <td>White</td>\n",
              "      <td>Female</td>\n",
              "      <td>0</td>\n",
              "      <td>0</td>\n",
              "      <td>0</td>\n",
              "      <td>North America</td>\n",
              "      <td>- 50000.</td>\n",
              "    </tr>\n",
              "    <tr>\n",
              "      <th>4</th>\n",
              "      <td>10</td>\n",
              "      <td>Not in universe</td>\n",
              "      <td>1069.16</td>\n",
              "      <td>No-School</td>\n",
              "      <td>Not married</td>\n",
              "      <td>0</td>\n",
              "      <td>White</td>\n",
              "      <td>Female</td>\n",
              "      <td>0</td>\n",
              "      <td>0</td>\n",
              "      <td>0</td>\n",
              "      <td>North America</td>\n",
              "      <td>- 50000.</td>\n",
              "    </tr>\n",
              "  </tbody>\n",
              "</table>\n",
              "</div>"
            ],
            "text/plain": [
              "   age   class of worker  ...  country of birth self      Label\n",
              "0   73   Not in universe  ...          North America   - 50000.\n",
              "1   58     Self-employed  ...          North America   - 50000.\n",
              "2   18   Not in universe  ...                   Asia   - 50000.\n",
              "3    9   Not in universe  ...          North America   - 50000.\n",
              "4   10   Not in universe  ...          North America   - 50000.\n",
              "\n",
              "[5 rows x 13 columns]"
            ]
          },
          "metadata": {
            "tags": []
          },
          "execution_count": 58
        }
      ]
    },
    {
      "cell_type": "code",
      "metadata": {
        "colab": {
          "base_uri": "https://localhost:8080/",
          "height": 357
        },
        "id": "808tHut34_R3",
        "outputId": "d212ebf7-c51e-476a-9963-4b3499bf93fa"
      },
      "source": [
        "print('dataset size')\n",
        "print('# of rows:', df_test.shape[0])\n",
        "print('# of columns:', df_test.shape[1])\n",
        "df_test.head()"
      ],
      "execution_count": null,
      "outputs": [
        {
          "output_type": "stream",
          "text": [
            "dataset size\n",
            "# of rows: 99762\n",
            "# of columns: 13\n"
          ],
          "name": "stdout"
        },
        {
          "output_type": "execute_result",
          "data": {
            "text/html": [
              "<div>\n",
              "<style scoped>\n",
              "    .dataframe tbody tr th:only-of-type {\n",
              "        vertical-align: middle;\n",
              "    }\n",
              "\n",
              "    .dataframe tbody tr th {\n",
              "        vertical-align: top;\n",
              "    }\n",
              "\n",
              "    .dataframe thead th {\n",
              "        text-align: right;\n",
              "    }\n",
              "</style>\n",
              "<table border=\"1\" class=\"dataframe\">\n",
              "  <thead>\n",
              "    <tr style=\"text-align: right;\">\n",
              "      <th></th>\n",
              "      <th>age</th>\n",
              "      <th>class of worker</th>\n",
              "      <th>instance weight</th>\n",
              "      <th>education</th>\n",
              "      <th>marital status</th>\n",
              "      <th>occupation code</th>\n",
              "      <th>race</th>\n",
              "      <th>sex</th>\n",
              "      <th>capital gains</th>\n",
              "      <th>capital losses</th>\n",
              "      <th>weeks worked in year</th>\n",
              "      <th>country of birth self</th>\n",
              "      <th>Label</th>\n",
              "    </tr>\n",
              "  </thead>\n",
              "  <tbody>\n",
              "    <tr>\n",
              "      <th>0</th>\n",
              "      <td>38</td>\n",
              "      <td>Private</td>\n",
              "      <td>1032.38</td>\n",
              "      <td>No-School</td>\n",
              "      <td>Married</td>\n",
              "      <td>36</td>\n",
              "      <td>White</td>\n",
              "      <td>Female</td>\n",
              "      <td>0</td>\n",
              "      <td>0</td>\n",
              "      <td>12</td>\n",
              "      <td>North America</td>\n",
              "      <td>- 50000.</td>\n",
              "    </tr>\n",
              "    <tr>\n",
              "      <th>1</th>\n",
              "      <td>44</td>\n",
              "      <td>Self-employed</td>\n",
              "      <td>1462.33</td>\n",
              "      <td>College</td>\n",
              "      <td>Married</td>\n",
              "      <td>12</td>\n",
              "      <td>White</td>\n",
              "      <td>Female</td>\n",
              "      <td>0</td>\n",
              "      <td>0</td>\n",
              "      <td>26</td>\n",
              "      <td>North America</td>\n",
              "      <td>- 50000.</td>\n",
              "    </tr>\n",
              "    <tr>\n",
              "      <th>2</th>\n",
              "      <td>2</td>\n",
              "      <td>Not in universe</td>\n",
              "      <td>1601.75</td>\n",
              "      <td>No-School</td>\n",
              "      <td>Not married</td>\n",
              "      <td>0</td>\n",
              "      <td>White</td>\n",
              "      <td>Male</td>\n",
              "      <td>0</td>\n",
              "      <td>0</td>\n",
              "      <td>0</td>\n",
              "      <td>North America</td>\n",
              "      <td>- 50000.</td>\n",
              "    </tr>\n",
              "    <tr>\n",
              "      <th>3</th>\n",
              "      <td>35</td>\n",
              "      <td>Private</td>\n",
              "      <td>1866.88</td>\n",
              "      <td>High school graduate</td>\n",
              "      <td>Separated</td>\n",
              "      <td>3</td>\n",
              "      <td>White</td>\n",
              "      <td>Female</td>\n",
              "      <td>0</td>\n",
              "      <td>0</td>\n",
              "      <td>52</td>\n",
              "      <td>North America</td>\n",
              "      <td>- 50000.</td>\n",
              "    </tr>\n",
              "    <tr>\n",
              "      <th>4</th>\n",
              "      <td>49</td>\n",
              "      <td>Private</td>\n",
              "      <td>1394.54</td>\n",
              "      <td>High school graduate</td>\n",
              "      <td>Separated</td>\n",
              "      <td>34</td>\n",
              "      <td>White</td>\n",
              "      <td>Male</td>\n",
              "      <td>0</td>\n",
              "      <td>0</td>\n",
              "      <td>50</td>\n",
              "      <td>North America</td>\n",
              "      <td>- 50000.</td>\n",
              "    </tr>\n",
              "  </tbody>\n",
              "</table>\n",
              "</div>"
            ],
            "text/plain": [
              "   age   class of worker  ...  country of birth self      Label\n",
              "0   38           Private  ...          North America   - 50000.\n",
              "1   44     Self-employed  ...          North America   - 50000.\n",
              "2    2   Not in universe  ...          North America   - 50000.\n",
              "3   35           Private  ...          North America   - 50000.\n",
              "4   49           Private  ...          North America   - 50000.\n",
              "\n",
              "[5 rows x 13 columns]"
            ]
          },
          "metadata": {
            "tags": []
          },
          "execution_count": 59
        }
      ]
    },
    {
      "cell_type": "markdown",
      "metadata": {
        "id": "JILBC0-GPfr2"
      },
      "source": [
        "### Converting categorical attributes into numerical values"
      ]
    },
    {
      "cell_type": "code",
      "metadata": {
        "colab": {
          "base_uri": "https://localhost:8080/"
        },
        "id": "sxQbfOGr7uno",
        "outputId": "caeb3e2b-51b1-46ba-e6eb-15ed9ab76c56"
      },
      "source": [
        "df_train[\"class of worker\"] = df_train[\"class of worker\"].astype('category')\n",
        "df_train.dtypes"
      ],
      "execution_count": null,
      "outputs": [
        {
          "output_type": "stream",
          "text": [
            "/usr/local/lib/python3.6/dist-packages/ipykernel_launcher.py:1: SettingWithCopyWarning: \n",
            "A value is trying to be set on a copy of a slice from a DataFrame.\n",
            "Try using .loc[row_indexer,col_indexer] = value instead\n",
            "\n",
            "See the caveats in the documentation: https://pandas.pydata.org/pandas-docs/stable/user_guide/indexing.html#returning-a-view-versus-a-copy\n",
            "  \"\"\"Entry point for launching an IPython kernel.\n"
          ],
          "name": "stderr"
        },
        {
          "output_type": "execute_result",
          "data": {
            "text/plain": [
              "age                         int64\n",
              "class of worker          category\n",
              "instance weight           float64\n",
              "education                  object\n",
              "marital status             object\n",
              "occupation code             int64\n",
              "race                       object\n",
              "sex                        object\n",
              "capital gains               int64\n",
              "capital losses              int64\n",
              "weeks worked in year        int64\n",
              "country of birth self      object\n",
              "Label                      object\n",
              "dtype: object"
            ]
          },
          "metadata": {
            "tags": []
          },
          "execution_count": 60
        }
      ]
    },
    {
      "cell_type": "code",
      "metadata": {
        "colab": {
          "base_uri": "https://localhost:8080/"
        },
        "id": "29Nkr1rk5IvD",
        "outputId": "db796be5-f7f4-4d01-dfec-45d1604f8813"
      },
      "source": [
        "df_test[\"class of worker\"] = df_test[\"class of worker\"].astype('category')\n",
        "df_test.dtypes"
      ],
      "execution_count": null,
      "outputs": [
        {
          "output_type": "stream",
          "text": [
            "/usr/local/lib/python3.6/dist-packages/ipykernel_launcher.py:1: SettingWithCopyWarning: \n",
            "A value is trying to be set on a copy of a slice from a DataFrame.\n",
            "Try using .loc[row_indexer,col_indexer] = value instead\n",
            "\n",
            "See the caveats in the documentation: https://pandas.pydata.org/pandas-docs/stable/user_guide/indexing.html#returning-a-view-versus-a-copy\n",
            "  \"\"\"Entry point for launching an IPython kernel.\n"
          ],
          "name": "stderr"
        },
        {
          "output_type": "execute_result",
          "data": {
            "text/plain": [
              "age                         int64\n",
              "class of worker          category\n",
              "instance weight           float64\n",
              "education                  object\n",
              "marital status             object\n",
              "occupation code             int64\n",
              "race                       object\n",
              "sex                        object\n",
              "capital gains               int64\n",
              "capital losses              int64\n",
              "weeks worked in year        int64\n",
              "country of birth self      object\n",
              "Label                      object\n",
              "dtype: object"
            ]
          },
          "metadata": {
            "tags": []
          },
          "execution_count": 61
        }
      ]
    },
    {
      "cell_type": "code",
      "metadata": {
        "colab": {
          "base_uri": "https://localhost:8080/",
          "height": 442
        },
        "id": "hl3KfKZX_EBn",
        "outputId": "b7476761-5418-4f6b-f1e1-e58491d68197"
      },
      "source": [
        "df_train[\"class_of_worker_cat\"] = df_train[\"class of worker\"].cat.codes\n",
        "df_train.head()"
      ],
      "execution_count": null,
      "outputs": [
        {
          "output_type": "stream",
          "text": [
            "/usr/local/lib/python3.6/dist-packages/ipykernel_launcher.py:1: SettingWithCopyWarning: \n",
            "A value is trying to be set on a copy of a slice from a DataFrame.\n",
            "Try using .loc[row_indexer,col_indexer] = value instead\n",
            "\n",
            "See the caveats in the documentation: https://pandas.pydata.org/pandas-docs/stable/user_guide/indexing.html#returning-a-view-versus-a-copy\n",
            "  \"\"\"Entry point for launching an IPython kernel.\n"
          ],
          "name": "stderr"
        },
        {
          "output_type": "execute_result",
          "data": {
            "text/html": [
              "<div>\n",
              "<style scoped>\n",
              "    .dataframe tbody tr th:only-of-type {\n",
              "        vertical-align: middle;\n",
              "    }\n",
              "\n",
              "    .dataframe tbody tr th {\n",
              "        vertical-align: top;\n",
              "    }\n",
              "\n",
              "    .dataframe thead th {\n",
              "        text-align: right;\n",
              "    }\n",
              "</style>\n",
              "<table border=\"1\" class=\"dataframe\">\n",
              "  <thead>\n",
              "    <tr style=\"text-align: right;\">\n",
              "      <th></th>\n",
              "      <th>age</th>\n",
              "      <th>class of worker</th>\n",
              "      <th>instance weight</th>\n",
              "      <th>education</th>\n",
              "      <th>marital status</th>\n",
              "      <th>occupation code</th>\n",
              "      <th>race</th>\n",
              "      <th>sex</th>\n",
              "      <th>capital gains</th>\n",
              "      <th>capital losses</th>\n",
              "      <th>weeks worked in year</th>\n",
              "      <th>country of birth self</th>\n",
              "      <th>Label</th>\n",
              "      <th>class_of_worker_cat</th>\n",
              "    </tr>\n",
              "  </thead>\n",
              "  <tbody>\n",
              "    <tr>\n",
              "      <th>0</th>\n",
              "      <td>73</td>\n",
              "      <td>Not in universe</td>\n",
              "      <td>1700.09</td>\n",
              "      <td>High school graduate</td>\n",
              "      <td>Widowed</td>\n",
              "      <td>0</td>\n",
              "      <td>White</td>\n",
              "      <td>Female</td>\n",
              "      <td>0</td>\n",
              "      <td>0</td>\n",
              "      <td>0</td>\n",
              "      <td>North America</td>\n",
              "      <td>- 50000.</td>\n",
              "      <td>0</td>\n",
              "    </tr>\n",
              "    <tr>\n",
              "      <th>1</th>\n",
              "      <td>58</td>\n",
              "      <td>Self-employed</td>\n",
              "      <td>1053.55</td>\n",
              "      <td>College</td>\n",
              "      <td>Separated</td>\n",
              "      <td>34</td>\n",
              "      <td>White</td>\n",
              "      <td>Male</td>\n",
              "      <td>0</td>\n",
              "      <td>0</td>\n",
              "      <td>52</td>\n",
              "      <td>North America</td>\n",
              "      <td>- 50000.</td>\n",
              "      <td>4</td>\n",
              "    </tr>\n",
              "    <tr>\n",
              "      <th>2</th>\n",
              "      <td>18</td>\n",
              "      <td>Not in universe</td>\n",
              "      <td>991.95</td>\n",
              "      <td>No-School</td>\n",
              "      <td>Not married</td>\n",
              "      <td>0</td>\n",
              "      <td>Asian or Pacific Islander</td>\n",
              "      <td>Female</td>\n",
              "      <td>0</td>\n",
              "      <td>0</td>\n",
              "      <td>0</td>\n",
              "      <td>Asia</td>\n",
              "      <td>- 50000.</td>\n",
              "      <td>0</td>\n",
              "    </tr>\n",
              "    <tr>\n",
              "      <th>3</th>\n",
              "      <td>9</td>\n",
              "      <td>Not in universe</td>\n",
              "      <td>1758.14</td>\n",
              "      <td>No-School</td>\n",
              "      <td>Not married</td>\n",
              "      <td>0</td>\n",
              "      <td>White</td>\n",
              "      <td>Female</td>\n",
              "      <td>0</td>\n",
              "      <td>0</td>\n",
              "      <td>0</td>\n",
              "      <td>North America</td>\n",
              "      <td>- 50000.</td>\n",
              "      <td>0</td>\n",
              "    </tr>\n",
              "    <tr>\n",
              "      <th>4</th>\n",
              "      <td>10</td>\n",
              "      <td>Not in universe</td>\n",
              "      <td>1069.16</td>\n",
              "      <td>No-School</td>\n",
              "      <td>Not married</td>\n",
              "      <td>0</td>\n",
              "      <td>White</td>\n",
              "      <td>Female</td>\n",
              "      <td>0</td>\n",
              "      <td>0</td>\n",
              "      <td>0</td>\n",
              "      <td>North America</td>\n",
              "      <td>- 50000.</td>\n",
              "      <td>0</td>\n",
              "    </tr>\n",
              "  </tbody>\n",
              "</table>\n",
              "</div>"
            ],
            "text/plain": [
              "   age   class of worker  ...      Label class_of_worker_cat\n",
              "0   73   Not in universe  ...   - 50000.                   0\n",
              "1   58     Self-employed  ...   - 50000.                   4\n",
              "2   18   Not in universe  ...   - 50000.                   0\n",
              "3    9   Not in universe  ...   - 50000.                   0\n",
              "4   10   Not in universe  ...   - 50000.                   0\n",
              "\n",
              "[5 rows x 14 columns]"
            ]
          },
          "metadata": {
            "tags": []
          },
          "execution_count": 62
        }
      ]
    },
    {
      "cell_type": "code",
      "metadata": {
        "colab": {
          "base_uri": "https://localhost:8080/",
          "height": 408
        },
        "id": "sp0eHk6U5Uxk",
        "outputId": "2091b8c2-6595-4f5a-e383-a776e808c250"
      },
      "source": [
        "df_test[\"class_of_worker_cat\"] = df_test[\"class of worker\"].cat.codes\n",
        "df_test.head()"
      ],
      "execution_count": null,
      "outputs": [
        {
          "output_type": "stream",
          "text": [
            "/usr/local/lib/python3.6/dist-packages/ipykernel_launcher.py:1: SettingWithCopyWarning: \n",
            "A value is trying to be set on a copy of a slice from a DataFrame.\n",
            "Try using .loc[row_indexer,col_indexer] = value instead\n",
            "\n",
            "See the caveats in the documentation: https://pandas.pydata.org/pandas-docs/stable/user_guide/indexing.html#returning-a-view-versus-a-copy\n",
            "  \"\"\"Entry point for launching an IPython kernel.\n"
          ],
          "name": "stderr"
        },
        {
          "output_type": "execute_result",
          "data": {
            "text/html": [
              "<div>\n",
              "<style scoped>\n",
              "    .dataframe tbody tr th:only-of-type {\n",
              "        vertical-align: middle;\n",
              "    }\n",
              "\n",
              "    .dataframe tbody tr th {\n",
              "        vertical-align: top;\n",
              "    }\n",
              "\n",
              "    .dataframe thead th {\n",
              "        text-align: right;\n",
              "    }\n",
              "</style>\n",
              "<table border=\"1\" class=\"dataframe\">\n",
              "  <thead>\n",
              "    <tr style=\"text-align: right;\">\n",
              "      <th></th>\n",
              "      <th>age</th>\n",
              "      <th>class of worker</th>\n",
              "      <th>instance weight</th>\n",
              "      <th>education</th>\n",
              "      <th>marital status</th>\n",
              "      <th>occupation code</th>\n",
              "      <th>race</th>\n",
              "      <th>sex</th>\n",
              "      <th>capital gains</th>\n",
              "      <th>capital losses</th>\n",
              "      <th>weeks worked in year</th>\n",
              "      <th>country of birth self</th>\n",
              "      <th>Label</th>\n",
              "      <th>class_of_worker_cat</th>\n",
              "    </tr>\n",
              "  </thead>\n",
              "  <tbody>\n",
              "    <tr>\n",
              "      <th>0</th>\n",
              "      <td>38</td>\n",
              "      <td>Private</td>\n",
              "      <td>1032.38</td>\n",
              "      <td>No-School</td>\n",
              "      <td>Married</td>\n",
              "      <td>36</td>\n",
              "      <td>White</td>\n",
              "      <td>Female</td>\n",
              "      <td>0</td>\n",
              "      <td>0</td>\n",
              "      <td>12</td>\n",
              "      <td>North America</td>\n",
              "      <td>- 50000.</td>\n",
              "      <td>1</td>\n",
              "    </tr>\n",
              "    <tr>\n",
              "      <th>1</th>\n",
              "      <td>44</td>\n",
              "      <td>Self-employed</td>\n",
              "      <td>1462.33</td>\n",
              "      <td>College</td>\n",
              "      <td>Married</td>\n",
              "      <td>12</td>\n",
              "      <td>White</td>\n",
              "      <td>Female</td>\n",
              "      <td>0</td>\n",
              "      <td>0</td>\n",
              "      <td>26</td>\n",
              "      <td>North America</td>\n",
              "      <td>- 50000.</td>\n",
              "      <td>4</td>\n",
              "    </tr>\n",
              "    <tr>\n",
              "      <th>2</th>\n",
              "      <td>2</td>\n",
              "      <td>Not in universe</td>\n",
              "      <td>1601.75</td>\n",
              "      <td>No-School</td>\n",
              "      <td>Not married</td>\n",
              "      <td>0</td>\n",
              "      <td>White</td>\n",
              "      <td>Male</td>\n",
              "      <td>0</td>\n",
              "      <td>0</td>\n",
              "      <td>0</td>\n",
              "      <td>North America</td>\n",
              "      <td>- 50000.</td>\n",
              "      <td>0</td>\n",
              "    </tr>\n",
              "    <tr>\n",
              "      <th>3</th>\n",
              "      <td>35</td>\n",
              "      <td>Private</td>\n",
              "      <td>1866.88</td>\n",
              "      <td>High school graduate</td>\n",
              "      <td>Separated</td>\n",
              "      <td>3</td>\n",
              "      <td>White</td>\n",
              "      <td>Female</td>\n",
              "      <td>0</td>\n",
              "      <td>0</td>\n",
              "      <td>52</td>\n",
              "      <td>North America</td>\n",
              "      <td>- 50000.</td>\n",
              "      <td>1</td>\n",
              "    </tr>\n",
              "    <tr>\n",
              "      <th>4</th>\n",
              "      <td>49</td>\n",
              "      <td>Private</td>\n",
              "      <td>1394.54</td>\n",
              "      <td>High school graduate</td>\n",
              "      <td>Separated</td>\n",
              "      <td>34</td>\n",
              "      <td>White</td>\n",
              "      <td>Male</td>\n",
              "      <td>0</td>\n",
              "      <td>0</td>\n",
              "      <td>50</td>\n",
              "      <td>North America</td>\n",
              "      <td>- 50000.</td>\n",
              "      <td>1</td>\n",
              "    </tr>\n",
              "  </tbody>\n",
              "</table>\n",
              "</div>"
            ],
            "text/plain": [
              "   age   class of worker  ...      Label class_of_worker_cat\n",
              "0   38           Private  ...   - 50000.                   1\n",
              "1   44     Self-employed  ...   - 50000.                   4\n",
              "2    2   Not in universe  ...   - 50000.                   0\n",
              "3   35           Private  ...   - 50000.                   1\n",
              "4   49           Private  ...   - 50000.                   1\n",
              "\n",
              "[5 rows x 14 columns]"
            ]
          },
          "metadata": {
            "tags": []
          },
          "execution_count": 63
        }
      ]
    },
    {
      "cell_type": "code",
      "metadata": {
        "colab": {
          "base_uri": "https://localhost:8080/",
          "height": 544
        },
        "id": "UDYVdd0X_aDG",
        "outputId": "f4d3654f-f1e5-4d65-c885-2023c9ae2336"
      },
      "source": [
        "df_train[\"education\"] = df_train[\"education\"].astype('category')\n",
        "# df_train.dtypes\n",
        "df_train[\"education_cat\"] = df_train[\"education\"].cat.codes\n",
        "df_train.head()"
      ],
      "execution_count": null,
      "outputs": [
        {
          "output_type": "stream",
          "text": [
            "/usr/local/lib/python3.6/dist-packages/ipykernel_launcher.py:1: SettingWithCopyWarning: \n",
            "A value is trying to be set on a copy of a slice from a DataFrame.\n",
            "Try using .loc[row_indexer,col_indexer] = value instead\n",
            "\n",
            "See the caveats in the documentation: https://pandas.pydata.org/pandas-docs/stable/user_guide/indexing.html#returning-a-view-versus-a-copy\n",
            "  \"\"\"Entry point for launching an IPython kernel.\n",
            "/usr/local/lib/python3.6/dist-packages/ipykernel_launcher.py:3: SettingWithCopyWarning: \n",
            "A value is trying to be set on a copy of a slice from a DataFrame.\n",
            "Try using .loc[row_indexer,col_indexer] = value instead\n",
            "\n",
            "See the caveats in the documentation: https://pandas.pydata.org/pandas-docs/stable/user_guide/indexing.html#returning-a-view-versus-a-copy\n",
            "  This is separate from the ipykernel package so we can avoid doing imports until\n"
          ],
          "name": "stderr"
        },
        {
          "output_type": "execute_result",
          "data": {
            "text/html": [
              "<div>\n",
              "<style scoped>\n",
              "    .dataframe tbody tr th:only-of-type {\n",
              "        vertical-align: middle;\n",
              "    }\n",
              "\n",
              "    .dataframe tbody tr th {\n",
              "        vertical-align: top;\n",
              "    }\n",
              "\n",
              "    .dataframe thead th {\n",
              "        text-align: right;\n",
              "    }\n",
              "</style>\n",
              "<table border=\"1\" class=\"dataframe\">\n",
              "  <thead>\n",
              "    <tr style=\"text-align: right;\">\n",
              "      <th></th>\n",
              "      <th>age</th>\n",
              "      <th>class of worker</th>\n",
              "      <th>instance weight</th>\n",
              "      <th>education</th>\n",
              "      <th>marital status</th>\n",
              "      <th>occupation code</th>\n",
              "      <th>race</th>\n",
              "      <th>sex</th>\n",
              "      <th>capital gains</th>\n",
              "      <th>capital losses</th>\n",
              "      <th>weeks worked in year</th>\n",
              "      <th>country of birth self</th>\n",
              "      <th>Label</th>\n",
              "      <th>class_of_worker_cat</th>\n",
              "      <th>education_cat</th>\n",
              "    </tr>\n",
              "  </thead>\n",
              "  <tbody>\n",
              "    <tr>\n",
              "      <th>0</th>\n",
              "      <td>73</td>\n",
              "      <td>Not in universe</td>\n",
              "      <td>1700.09</td>\n",
              "      <td>High school graduate</td>\n",
              "      <td>Widowed</td>\n",
              "      <td>0</td>\n",
              "      <td>White</td>\n",
              "      <td>Female</td>\n",
              "      <td>0</td>\n",
              "      <td>0</td>\n",
              "      <td>0</td>\n",
              "      <td>North America</td>\n",
              "      <td>- 50000.</td>\n",
              "      <td>0</td>\n",
              "      <td>2</td>\n",
              "    </tr>\n",
              "    <tr>\n",
              "      <th>1</th>\n",
              "      <td>58</td>\n",
              "      <td>Self-employed</td>\n",
              "      <td>1053.55</td>\n",
              "      <td>College</td>\n",
              "      <td>Separated</td>\n",
              "      <td>34</td>\n",
              "      <td>White</td>\n",
              "      <td>Male</td>\n",
              "      <td>0</td>\n",
              "      <td>0</td>\n",
              "      <td>52</td>\n",
              "      <td>North America</td>\n",
              "      <td>- 50000.</td>\n",
              "      <td>4</td>\n",
              "      <td>5</td>\n",
              "    </tr>\n",
              "    <tr>\n",
              "      <th>2</th>\n",
              "      <td>18</td>\n",
              "      <td>Not in universe</td>\n",
              "      <td>991.95</td>\n",
              "      <td>No-School</td>\n",
              "      <td>Not married</td>\n",
              "      <td>0</td>\n",
              "      <td>Asian or Pacific Islander</td>\n",
              "      <td>Female</td>\n",
              "      <td>0</td>\n",
              "      <td>0</td>\n",
              "      <td>0</td>\n",
              "      <td>Asia</td>\n",
              "      <td>- 50000.</td>\n",
              "      <td>0</td>\n",
              "      <td>6</td>\n",
              "    </tr>\n",
              "    <tr>\n",
              "      <th>3</th>\n",
              "      <td>9</td>\n",
              "      <td>Not in universe</td>\n",
              "      <td>1758.14</td>\n",
              "      <td>No-School</td>\n",
              "      <td>Not married</td>\n",
              "      <td>0</td>\n",
              "      <td>White</td>\n",
              "      <td>Female</td>\n",
              "      <td>0</td>\n",
              "      <td>0</td>\n",
              "      <td>0</td>\n",
              "      <td>North America</td>\n",
              "      <td>- 50000.</td>\n",
              "      <td>0</td>\n",
              "      <td>6</td>\n",
              "    </tr>\n",
              "    <tr>\n",
              "      <th>4</th>\n",
              "      <td>10</td>\n",
              "      <td>Not in universe</td>\n",
              "      <td>1069.16</td>\n",
              "      <td>No-School</td>\n",
              "      <td>Not married</td>\n",
              "      <td>0</td>\n",
              "      <td>White</td>\n",
              "      <td>Female</td>\n",
              "      <td>0</td>\n",
              "      <td>0</td>\n",
              "      <td>0</td>\n",
              "      <td>North America</td>\n",
              "      <td>- 50000.</td>\n",
              "      <td>0</td>\n",
              "      <td>6</td>\n",
              "    </tr>\n",
              "  </tbody>\n",
              "</table>\n",
              "</div>"
            ],
            "text/plain": [
              "   age   class of worker  ...  class_of_worker_cat education_cat\n",
              "0   73   Not in universe  ...                    0             2\n",
              "1   58     Self-employed  ...                    4             5\n",
              "2   18   Not in universe  ...                    0             6\n",
              "3    9   Not in universe  ...                    0             6\n",
              "4   10   Not in universe  ...                    0             6\n",
              "\n",
              "[5 rows x 15 columns]"
            ]
          },
          "metadata": {
            "tags": []
          },
          "execution_count": 64
        }
      ]
    },
    {
      "cell_type": "code",
      "metadata": {
        "colab": {
          "base_uri": "https://localhost:8080/",
          "height": 527
        },
        "id": "pPbZR5wl5Zo8",
        "outputId": "c1338925-c93f-487a-96c7-f601ca87b9c6"
      },
      "source": [
        "df_test[\"education\"] = df_test[\"education\"].astype('category')\n",
        "# df_train.dtypes\n",
        "df_test[\"education_cat\"] = df_test[\"education\"].cat.codes\n",
        "df_test.head()"
      ],
      "execution_count": null,
      "outputs": [
        {
          "output_type": "stream",
          "text": [
            "/usr/local/lib/python3.6/dist-packages/ipykernel_launcher.py:1: SettingWithCopyWarning: \n",
            "A value is trying to be set on a copy of a slice from a DataFrame.\n",
            "Try using .loc[row_indexer,col_indexer] = value instead\n",
            "\n",
            "See the caveats in the documentation: https://pandas.pydata.org/pandas-docs/stable/user_guide/indexing.html#returning-a-view-versus-a-copy\n",
            "  \"\"\"Entry point for launching an IPython kernel.\n",
            "/usr/local/lib/python3.6/dist-packages/ipykernel_launcher.py:3: SettingWithCopyWarning: \n",
            "A value is trying to be set on a copy of a slice from a DataFrame.\n",
            "Try using .loc[row_indexer,col_indexer] = value instead\n",
            "\n",
            "See the caveats in the documentation: https://pandas.pydata.org/pandas-docs/stable/user_guide/indexing.html#returning-a-view-versus-a-copy\n",
            "  This is separate from the ipykernel package so we can avoid doing imports until\n"
          ],
          "name": "stderr"
        },
        {
          "output_type": "execute_result",
          "data": {
            "text/html": [
              "<div>\n",
              "<style scoped>\n",
              "    .dataframe tbody tr th:only-of-type {\n",
              "        vertical-align: middle;\n",
              "    }\n",
              "\n",
              "    .dataframe tbody tr th {\n",
              "        vertical-align: top;\n",
              "    }\n",
              "\n",
              "    .dataframe thead th {\n",
              "        text-align: right;\n",
              "    }\n",
              "</style>\n",
              "<table border=\"1\" class=\"dataframe\">\n",
              "  <thead>\n",
              "    <tr style=\"text-align: right;\">\n",
              "      <th></th>\n",
              "      <th>age</th>\n",
              "      <th>class of worker</th>\n",
              "      <th>instance weight</th>\n",
              "      <th>education</th>\n",
              "      <th>marital status</th>\n",
              "      <th>occupation code</th>\n",
              "      <th>race</th>\n",
              "      <th>sex</th>\n",
              "      <th>capital gains</th>\n",
              "      <th>capital losses</th>\n",
              "      <th>weeks worked in year</th>\n",
              "      <th>country of birth self</th>\n",
              "      <th>Label</th>\n",
              "      <th>class_of_worker_cat</th>\n",
              "      <th>education_cat</th>\n",
              "    </tr>\n",
              "  </thead>\n",
              "  <tbody>\n",
              "    <tr>\n",
              "      <th>0</th>\n",
              "      <td>38</td>\n",
              "      <td>Private</td>\n",
              "      <td>1032.38</td>\n",
              "      <td>No-School</td>\n",
              "      <td>Married</td>\n",
              "      <td>36</td>\n",
              "      <td>White</td>\n",
              "      <td>Female</td>\n",
              "      <td>0</td>\n",
              "      <td>0</td>\n",
              "      <td>12</td>\n",
              "      <td>North America</td>\n",
              "      <td>- 50000.</td>\n",
              "      <td>1</td>\n",
              "      <td>6</td>\n",
              "    </tr>\n",
              "    <tr>\n",
              "      <th>1</th>\n",
              "      <td>44</td>\n",
              "      <td>Self-employed</td>\n",
              "      <td>1462.33</td>\n",
              "      <td>College</td>\n",
              "      <td>Married</td>\n",
              "      <td>12</td>\n",
              "      <td>White</td>\n",
              "      <td>Female</td>\n",
              "      <td>0</td>\n",
              "      <td>0</td>\n",
              "      <td>26</td>\n",
              "      <td>North America</td>\n",
              "      <td>- 50000.</td>\n",
              "      <td>4</td>\n",
              "      <td>5</td>\n",
              "    </tr>\n",
              "    <tr>\n",
              "      <th>2</th>\n",
              "      <td>2</td>\n",
              "      <td>Not in universe</td>\n",
              "      <td>1601.75</td>\n",
              "      <td>No-School</td>\n",
              "      <td>Not married</td>\n",
              "      <td>0</td>\n",
              "      <td>White</td>\n",
              "      <td>Male</td>\n",
              "      <td>0</td>\n",
              "      <td>0</td>\n",
              "      <td>0</td>\n",
              "      <td>North America</td>\n",
              "      <td>- 50000.</td>\n",
              "      <td>0</td>\n",
              "      <td>6</td>\n",
              "    </tr>\n",
              "    <tr>\n",
              "      <th>3</th>\n",
              "      <td>35</td>\n",
              "      <td>Private</td>\n",
              "      <td>1866.88</td>\n",
              "      <td>High school graduate</td>\n",
              "      <td>Separated</td>\n",
              "      <td>3</td>\n",
              "      <td>White</td>\n",
              "      <td>Female</td>\n",
              "      <td>0</td>\n",
              "      <td>0</td>\n",
              "      <td>52</td>\n",
              "      <td>North America</td>\n",
              "      <td>- 50000.</td>\n",
              "      <td>1</td>\n",
              "      <td>2</td>\n",
              "    </tr>\n",
              "    <tr>\n",
              "      <th>4</th>\n",
              "      <td>49</td>\n",
              "      <td>Private</td>\n",
              "      <td>1394.54</td>\n",
              "      <td>High school graduate</td>\n",
              "      <td>Separated</td>\n",
              "      <td>34</td>\n",
              "      <td>White</td>\n",
              "      <td>Male</td>\n",
              "      <td>0</td>\n",
              "      <td>0</td>\n",
              "      <td>50</td>\n",
              "      <td>North America</td>\n",
              "      <td>- 50000.</td>\n",
              "      <td>1</td>\n",
              "      <td>2</td>\n",
              "    </tr>\n",
              "  </tbody>\n",
              "</table>\n",
              "</div>"
            ],
            "text/plain": [
              "   age   class of worker  ...  class_of_worker_cat education_cat\n",
              "0   38           Private  ...                    1             6\n",
              "1   44     Self-employed  ...                    4             5\n",
              "2    2   Not in universe  ...                    0             6\n",
              "3   35           Private  ...                    1             2\n",
              "4   49           Private  ...                    1             2\n",
              "\n",
              "[5 rows x 15 columns]"
            ]
          },
          "metadata": {
            "tags": []
          },
          "execution_count": 65
        }
      ]
    },
    {
      "cell_type": "code",
      "metadata": {
        "colab": {
          "base_uri": "https://localhost:8080/",
          "height": 615
        },
        "id": "ekEZZOJsAAIw",
        "outputId": "0164f68e-8307-44a9-d896-1e294cc0f37e"
      },
      "source": [
        "df_train[\"marital status\"] = df_train[\"marital status\"].astype('category')\n",
        "# df_train.dtypes\n",
        "df_train[\"marital_status_cat\"] = df_train[\"marital status\"].cat.codes\n",
        "df_train.head()"
      ],
      "execution_count": null,
      "outputs": [
        {
          "output_type": "stream",
          "text": [
            "/usr/local/lib/python3.6/dist-packages/ipykernel_launcher.py:1: SettingWithCopyWarning: \n",
            "A value is trying to be set on a copy of a slice from a DataFrame.\n",
            "Try using .loc[row_indexer,col_indexer] = value instead\n",
            "\n",
            "See the caveats in the documentation: https://pandas.pydata.org/pandas-docs/stable/user_guide/indexing.html#returning-a-view-versus-a-copy\n",
            "  \"\"\"Entry point for launching an IPython kernel.\n",
            "/usr/local/lib/python3.6/dist-packages/ipykernel_launcher.py:3: SettingWithCopyWarning: \n",
            "A value is trying to be set on a copy of a slice from a DataFrame.\n",
            "Try using .loc[row_indexer,col_indexer] = value instead\n",
            "\n",
            "See the caveats in the documentation: https://pandas.pydata.org/pandas-docs/stable/user_guide/indexing.html#returning-a-view-versus-a-copy\n",
            "  This is separate from the ipykernel package so we can avoid doing imports until\n"
          ],
          "name": "stderr"
        },
        {
          "output_type": "execute_result",
          "data": {
            "text/html": [
              "<div>\n",
              "<style scoped>\n",
              "    .dataframe tbody tr th:only-of-type {\n",
              "        vertical-align: middle;\n",
              "    }\n",
              "\n",
              "    .dataframe tbody tr th {\n",
              "        vertical-align: top;\n",
              "    }\n",
              "\n",
              "    .dataframe thead th {\n",
              "        text-align: right;\n",
              "    }\n",
              "</style>\n",
              "<table border=\"1\" class=\"dataframe\">\n",
              "  <thead>\n",
              "    <tr style=\"text-align: right;\">\n",
              "      <th></th>\n",
              "      <th>age</th>\n",
              "      <th>class of worker</th>\n",
              "      <th>instance weight</th>\n",
              "      <th>education</th>\n",
              "      <th>marital status</th>\n",
              "      <th>occupation code</th>\n",
              "      <th>race</th>\n",
              "      <th>sex</th>\n",
              "      <th>capital gains</th>\n",
              "      <th>capital losses</th>\n",
              "      <th>weeks worked in year</th>\n",
              "      <th>country of birth self</th>\n",
              "      <th>Label</th>\n",
              "      <th>class_of_worker_cat</th>\n",
              "      <th>education_cat</th>\n",
              "      <th>marital_status_cat</th>\n",
              "    </tr>\n",
              "  </thead>\n",
              "  <tbody>\n",
              "    <tr>\n",
              "      <th>0</th>\n",
              "      <td>73</td>\n",
              "      <td>Not in universe</td>\n",
              "      <td>1700.09</td>\n",
              "      <td>High school graduate</td>\n",
              "      <td>Widowed</td>\n",
              "      <td>0</td>\n",
              "      <td>White</td>\n",
              "      <td>Female</td>\n",
              "      <td>0</td>\n",
              "      <td>0</td>\n",
              "      <td>0</td>\n",
              "      <td>North America</td>\n",
              "      <td>- 50000.</td>\n",
              "      <td>0</td>\n",
              "      <td>2</td>\n",
              "      <td>0</td>\n",
              "    </tr>\n",
              "    <tr>\n",
              "      <th>1</th>\n",
              "      <td>58</td>\n",
              "      <td>Self-employed</td>\n",
              "      <td>1053.55</td>\n",
              "      <td>College</td>\n",
              "      <td>Separated</td>\n",
              "      <td>34</td>\n",
              "      <td>White</td>\n",
              "      <td>Male</td>\n",
              "      <td>0</td>\n",
              "      <td>0</td>\n",
              "      <td>52</td>\n",
              "      <td>North America</td>\n",
              "      <td>- 50000.</td>\n",
              "      <td>4</td>\n",
              "      <td>5</td>\n",
              "      <td>3</td>\n",
              "    </tr>\n",
              "    <tr>\n",
              "      <th>2</th>\n",
              "      <td>18</td>\n",
              "      <td>Not in universe</td>\n",
              "      <td>991.95</td>\n",
              "      <td>No-School</td>\n",
              "      <td>Not married</td>\n",
              "      <td>0</td>\n",
              "      <td>Asian or Pacific Islander</td>\n",
              "      <td>Female</td>\n",
              "      <td>0</td>\n",
              "      <td>0</td>\n",
              "      <td>0</td>\n",
              "      <td>Asia</td>\n",
              "      <td>- 50000.</td>\n",
              "      <td>0</td>\n",
              "      <td>6</td>\n",
              "      <td>2</td>\n",
              "    </tr>\n",
              "    <tr>\n",
              "      <th>3</th>\n",
              "      <td>9</td>\n",
              "      <td>Not in universe</td>\n",
              "      <td>1758.14</td>\n",
              "      <td>No-School</td>\n",
              "      <td>Not married</td>\n",
              "      <td>0</td>\n",
              "      <td>White</td>\n",
              "      <td>Female</td>\n",
              "      <td>0</td>\n",
              "      <td>0</td>\n",
              "      <td>0</td>\n",
              "      <td>North America</td>\n",
              "      <td>- 50000.</td>\n",
              "      <td>0</td>\n",
              "      <td>6</td>\n",
              "      <td>2</td>\n",
              "    </tr>\n",
              "    <tr>\n",
              "      <th>4</th>\n",
              "      <td>10</td>\n",
              "      <td>Not in universe</td>\n",
              "      <td>1069.16</td>\n",
              "      <td>No-School</td>\n",
              "      <td>Not married</td>\n",
              "      <td>0</td>\n",
              "      <td>White</td>\n",
              "      <td>Female</td>\n",
              "      <td>0</td>\n",
              "      <td>0</td>\n",
              "      <td>0</td>\n",
              "      <td>North America</td>\n",
              "      <td>- 50000.</td>\n",
              "      <td>0</td>\n",
              "      <td>6</td>\n",
              "      <td>2</td>\n",
              "    </tr>\n",
              "  </tbody>\n",
              "</table>\n",
              "</div>"
            ],
            "text/plain": [
              "   age   class of worker  ...  education_cat marital_status_cat\n",
              "0   73   Not in universe  ...              2                  0\n",
              "1   58     Self-employed  ...              5                  3\n",
              "2   18   Not in universe  ...              6                  2\n",
              "3    9   Not in universe  ...              6                  2\n",
              "4   10   Not in universe  ...              6                  2\n",
              "\n",
              "[5 rows x 16 columns]"
            ]
          },
          "metadata": {
            "tags": []
          },
          "execution_count": 66
        }
      ]
    },
    {
      "cell_type": "code",
      "metadata": {
        "colab": {
          "base_uri": "https://localhost:8080/",
          "height": 598
        },
        "id": "abd7fWTT5iu4",
        "outputId": "5f8b3687-7a00-482a-e369-2109d7ee2fd9"
      },
      "source": [
        "df_test[\"marital status\"] = df_test[\"marital status\"].astype('category')\n",
        "# df_train.dtypes\n",
        "df_test[\"marital_status_cat\"] = df_test[\"marital status\"].cat.codes\n",
        "df_test.head()"
      ],
      "execution_count": null,
      "outputs": [
        {
          "output_type": "stream",
          "text": [
            "/usr/local/lib/python3.6/dist-packages/ipykernel_launcher.py:1: SettingWithCopyWarning: \n",
            "A value is trying to be set on a copy of a slice from a DataFrame.\n",
            "Try using .loc[row_indexer,col_indexer] = value instead\n",
            "\n",
            "See the caveats in the documentation: https://pandas.pydata.org/pandas-docs/stable/user_guide/indexing.html#returning-a-view-versus-a-copy\n",
            "  \"\"\"Entry point for launching an IPython kernel.\n",
            "/usr/local/lib/python3.6/dist-packages/ipykernel_launcher.py:3: SettingWithCopyWarning: \n",
            "A value is trying to be set on a copy of a slice from a DataFrame.\n",
            "Try using .loc[row_indexer,col_indexer] = value instead\n",
            "\n",
            "See the caveats in the documentation: https://pandas.pydata.org/pandas-docs/stable/user_guide/indexing.html#returning-a-view-versus-a-copy\n",
            "  This is separate from the ipykernel package so we can avoid doing imports until\n"
          ],
          "name": "stderr"
        },
        {
          "output_type": "execute_result",
          "data": {
            "text/html": [
              "<div>\n",
              "<style scoped>\n",
              "    .dataframe tbody tr th:only-of-type {\n",
              "        vertical-align: middle;\n",
              "    }\n",
              "\n",
              "    .dataframe tbody tr th {\n",
              "        vertical-align: top;\n",
              "    }\n",
              "\n",
              "    .dataframe thead th {\n",
              "        text-align: right;\n",
              "    }\n",
              "</style>\n",
              "<table border=\"1\" class=\"dataframe\">\n",
              "  <thead>\n",
              "    <tr style=\"text-align: right;\">\n",
              "      <th></th>\n",
              "      <th>age</th>\n",
              "      <th>class of worker</th>\n",
              "      <th>instance weight</th>\n",
              "      <th>education</th>\n",
              "      <th>marital status</th>\n",
              "      <th>occupation code</th>\n",
              "      <th>race</th>\n",
              "      <th>sex</th>\n",
              "      <th>capital gains</th>\n",
              "      <th>capital losses</th>\n",
              "      <th>weeks worked in year</th>\n",
              "      <th>country of birth self</th>\n",
              "      <th>Label</th>\n",
              "      <th>class_of_worker_cat</th>\n",
              "      <th>education_cat</th>\n",
              "      <th>marital_status_cat</th>\n",
              "    </tr>\n",
              "  </thead>\n",
              "  <tbody>\n",
              "    <tr>\n",
              "      <th>0</th>\n",
              "      <td>38</td>\n",
              "      <td>Private</td>\n",
              "      <td>1032.38</td>\n",
              "      <td>No-School</td>\n",
              "      <td>Married</td>\n",
              "      <td>36</td>\n",
              "      <td>White</td>\n",
              "      <td>Female</td>\n",
              "      <td>0</td>\n",
              "      <td>0</td>\n",
              "      <td>12</td>\n",
              "      <td>North America</td>\n",
              "      <td>- 50000.</td>\n",
              "      <td>1</td>\n",
              "      <td>6</td>\n",
              "      <td>1</td>\n",
              "    </tr>\n",
              "    <tr>\n",
              "      <th>1</th>\n",
              "      <td>44</td>\n",
              "      <td>Self-employed</td>\n",
              "      <td>1462.33</td>\n",
              "      <td>College</td>\n",
              "      <td>Married</td>\n",
              "      <td>12</td>\n",
              "      <td>White</td>\n",
              "      <td>Female</td>\n",
              "      <td>0</td>\n",
              "      <td>0</td>\n",
              "      <td>26</td>\n",
              "      <td>North America</td>\n",
              "      <td>- 50000.</td>\n",
              "      <td>4</td>\n",
              "      <td>5</td>\n",
              "      <td>1</td>\n",
              "    </tr>\n",
              "    <tr>\n",
              "      <th>2</th>\n",
              "      <td>2</td>\n",
              "      <td>Not in universe</td>\n",
              "      <td>1601.75</td>\n",
              "      <td>No-School</td>\n",
              "      <td>Not married</td>\n",
              "      <td>0</td>\n",
              "      <td>White</td>\n",
              "      <td>Male</td>\n",
              "      <td>0</td>\n",
              "      <td>0</td>\n",
              "      <td>0</td>\n",
              "      <td>North America</td>\n",
              "      <td>- 50000.</td>\n",
              "      <td>0</td>\n",
              "      <td>6</td>\n",
              "      <td>2</td>\n",
              "    </tr>\n",
              "    <tr>\n",
              "      <th>3</th>\n",
              "      <td>35</td>\n",
              "      <td>Private</td>\n",
              "      <td>1866.88</td>\n",
              "      <td>High school graduate</td>\n",
              "      <td>Separated</td>\n",
              "      <td>3</td>\n",
              "      <td>White</td>\n",
              "      <td>Female</td>\n",
              "      <td>0</td>\n",
              "      <td>0</td>\n",
              "      <td>52</td>\n",
              "      <td>North America</td>\n",
              "      <td>- 50000.</td>\n",
              "      <td>1</td>\n",
              "      <td>2</td>\n",
              "      <td>3</td>\n",
              "    </tr>\n",
              "    <tr>\n",
              "      <th>4</th>\n",
              "      <td>49</td>\n",
              "      <td>Private</td>\n",
              "      <td>1394.54</td>\n",
              "      <td>High school graduate</td>\n",
              "      <td>Separated</td>\n",
              "      <td>34</td>\n",
              "      <td>White</td>\n",
              "      <td>Male</td>\n",
              "      <td>0</td>\n",
              "      <td>0</td>\n",
              "      <td>50</td>\n",
              "      <td>North America</td>\n",
              "      <td>- 50000.</td>\n",
              "      <td>1</td>\n",
              "      <td>2</td>\n",
              "      <td>3</td>\n",
              "    </tr>\n",
              "  </tbody>\n",
              "</table>\n",
              "</div>"
            ],
            "text/plain": [
              "   age   class of worker  ...  education_cat marital_status_cat\n",
              "0   38           Private  ...              6                  1\n",
              "1   44     Self-employed  ...              5                  1\n",
              "2    2   Not in universe  ...              6                  2\n",
              "3   35           Private  ...              2                  3\n",
              "4   49           Private  ...              2                  3\n",
              "\n",
              "[5 rows x 16 columns]"
            ]
          },
          "metadata": {
            "tags": []
          },
          "execution_count": 67
        }
      ]
    },
    {
      "cell_type": "code",
      "metadata": {
        "colab": {
          "base_uri": "https://localhost:8080/",
          "height": 615
        },
        "id": "nE6MtYiaAJ0S",
        "outputId": "51177fe8-48bf-49b2-8457-40e08c4786ff"
      },
      "source": [
        "df_train[\"race\"] = df_train[\"race\"].astype('category')\n",
        "# df_train.dtypes\n",
        "df_train[\"race_cat\"] = df_train[\"race\"].cat.codes\n",
        "df_train.head()"
      ],
      "execution_count": null,
      "outputs": [
        {
          "output_type": "stream",
          "text": [
            "/usr/local/lib/python3.6/dist-packages/ipykernel_launcher.py:1: SettingWithCopyWarning: \n",
            "A value is trying to be set on a copy of a slice from a DataFrame.\n",
            "Try using .loc[row_indexer,col_indexer] = value instead\n",
            "\n",
            "See the caveats in the documentation: https://pandas.pydata.org/pandas-docs/stable/user_guide/indexing.html#returning-a-view-versus-a-copy\n",
            "  \"\"\"Entry point for launching an IPython kernel.\n",
            "/usr/local/lib/python3.6/dist-packages/ipykernel_launcher.py:3: SettingWithCopyWarning: \n",
            "A value is trying to be set on a copy of a slice from a DataFrame.\n",
            "Try using .loc[row_indexer,col_indexer] = value instead\n",
            "\n",
            "See the caveats in the documentation: https://pandas.pydata.org/pandas-docs/stable/user_guide/indexing.html#returning-a-view-versus-a-copy\n",
            "  This is separate from the ipykernel package so we can avoid doing imports until\n"
          ],
          "name": "stderr"
        },
        {
          "output_type": "execute_result",
          "data": {
            "text/html": [
              "<div>\n",
              "<style scoped>\n",
              "    .dataframe tbody tr th:only-of-type {\n",
              "        vertical-align: middle;\n",
              "    }\n",
              "\n",
              "    .dataframe tbody tr th {\n",
              "        vertical-align: top;\n",
              "    }\n",
              "\n",
              "    .dataframe thead th {\n",
              "        text-align: right;\n",
              "    }\n",
              "</style>\n",
              "<table border=\"1\" class=\"dataframe\">\n",
              "  <thead>\n",
              "    <tr style=\"text-align: right;\">\n",
              "      <th></th>\n",
              "      <th>age</th>\n",
              "      <th>class of worker</th>\n",
              "      <th>instance weight</th>\n",
              "      <th>education</th>\n",
              "      <th>marital status</th>\n",
              "      <th>occupation code</th>\n",
              "      <th>race</th>\n",
              "      <th>sex</th>\n",
              "      <th>capital gains</th>\n",
              "      <th>capital losses</th>\n",
              "      <th>weeks worked in year</th>\n",
              "      <th>country of birth self</th>\n",
              "      <th>Label</th>\n",
              "      <th>class_of_worker_cat</th>\n",
              "      <th>education_cat</th>\n",
              "      <th>marital_status_cat</th>\n",
              "      <th>race_cat</th>\n",
              "    </tr>\n",
              "  </thead>\n",
              "  <tbody>\n",
              "    <tr>\n",
              "      <th>0</th>\n",
              "      <td>73</td>\n",
              "      <td>Not in universe</td>\n",
              "      <td>1700.09</td>\n",
              "      <td>High school graduate</td>\n",
              "      <td>Widowed</td>\n",
              "      <td>0</td>\n",
              "      <td>White</td>\n",
              "      <td>Female</td>\n",
              "      <td>0</td>\n",
              "      <td>0</td>\n",
              "      <td>0</td>\n",
              "      <td>North America</td>\n",
              "      <td>- 50000.</td>\n",
              "      <td>0</td>\n",
              "      <td>2</td>\n",
              "      <td>0</td>\n",
              "      <td>4</td>\n",
              "    </tr>\n",
              "    <tr>\n",
              "      <th>1</th>\n",
              "      <td>58</td>\n",
              "      <td>Self-employed</td>\n",
              "      <td>1053.55</td>\n",
              "      <td>College</td>\n",
              "      <td>Separated</td>\n",
              "      <td>34</td>\n",
              "      <td>White</td>\n",
              "      <td>Male</td>\n",
              "      <td>0</td>\n",
              "      <td>0</td>\n",
              "      <td>52</td>\n",
              "      <td>North America</td>\n",
              "      <td>- 50000.</td>\n",
              "      <td>4</td>\n",
              "      <td>5</td>\n",
              "      <td>3</td>\n",
              "      <td>4</td>\n",
              "    </tr>\n",
              "    <tr>\n",
              "      <th>2</th>\n",
              "      <td>18</td>\n",
              "      <td>Not in universe</td>\n",
              "      <td>991.95</td>\n",
              "      <td>No-School</td>\n",
              "      <td>Not married</td>\n",
              "      <td>0</td>\n",
              "      <td>Asian or Pacific Islander</td>\n",
              "      <td>Female</td>\n",
              "      <td>0</td>\n",
              "      <td>0</td>\n",
              "      <td>0</td>\n",
              "      <td>Asia</td>\n",
              "      <td>- 50000.</td>\n",
              "      <td>0</td>\n",
              "      <td>6</td>\n",
              "      <td>2</td>\n",
              "      <td>1</td>\n",
              "    </tr>\n",
              "    <tr>\n",
              "      <th>3</th>\n",
              "      <td>9</td>\n",
              "      <td>Not in universe</td>\n",
              "      <td>1758.14</td>\n",
              "      <td>No-School</td>\n",
              "      <td>Not married</td>\n",
              "      <td>0</td>\n",
              "      <td>White</td>\n",
              "      <td>Female</td>\n",
              "      <td>0</td>\n",
              "      <td>0</td>\n",
              "      <td>0</td>\n",
              "      <td>North America</td>\n",
              "      <td>- 50000.</td>\n",
              "      <td>0</td>\n",
              "      <td>6</td>\n",
              "      <td>2</td>\n",
              "      <td>4</td>\n",
              "    </tr>\n",
              "    <tr>\n",
              "      <th>4</th>\n",
              "      <td>10</td>\n",
              "      <td>Not in universe</td>\n",
              "      <td>1069.16</td>\n",
              "      <td>No-School</td>\n",
              "      <td>Not married</td>\n",
              "      <td>0</td>\n",
              "      <td>White</td>\n",
              "      <td>Female</td>\n",
              "      <td>0</td>\n",
              "      <td>0</td>\n",
              "      <td>0</td>\n",
              "      <td>North America</td>\n",
              "      <td>- 50000.</td>\n",
              "      <td>0</td>\n",
              "      <td>6</td>\n",
              "      <td>2</td>\n",
              "      <td>4</td>\n",
              "    </tr>\n",
              "  </tbody>\n",
              "</table>\n",
              "</div>"
            ],
            "text/plain": [
              "   age   class of worker  ...  marital_status_cat race_cat\n",
              "0   73   Not in universe  ...                   0        4\n",
              "1   58     Self-employed  ...                   3        4\n",
              "2   18   Not in universe  ...                   2        1\n",
              "3    9   Not in universe  ...                   2        4\n",
              "4   10   Not in universe  ...                   2        4\n",
              "\n",
              "[5 rows x 17 columns]"
            ]
          },
          "metadata": {
            "tags": []
          },
          "execution_count": 68
        }
      ]
    },
    {
      "cell_type": "code",
      "metadata": {
        "colab": {
          "base_uri": "https://localhost:8080/",
          "height": 598
        },
        "id": "T-isMuUi5rUV",
        "outputId": "15b7a494-dcf3-4d32-b7a9-13aa7ad0e26b"
      },
      "source": [
        "df_test[\"race\"] = df_test[\"race\"].astype('category')\n",
        "# df_train.dtypes\n",
        "df_test[\"race_cat\"] = df_test[\"race\"].cat.codes\n",
        "df_test.head()"
      ],
      "execution_count": null,
      "outputs": [
        {
          "output_type": "stream",
          "text": [
            "/usr/local/lib/python3.6/dist-packages/ipykernel_launcher.py:1: SettingWithCopyWarning: \n",
            "A value is trying to be set on a copy of a slice from a DataFrame.\n",
            "Try using .loc[row_indexer,col_indexer] = value instead\n",
            "\n",
            "See the caveats in the documentation: https://pandas.pydata.org/pandas-docs/stable/user_guide/indexing.html#returning-a-view-versus-a-copy\n",
            "  \"\"\"Entry point for launching an IPython kernel.\n",
            "/usr/local/lib/python3.6/dist-packages/ipykernel_launcher.py:3: SettingWithCopyWarning: \n",
            "A value is trying to be set on a copy of a slice from a DataFrame.\n",
            "Try using .loc[row_indexer,col_indexer] = value instead\n",
            "\n",
            "See the caveats in the documentation: https://pandas.pydata.org/pandas-docs/stable/user_guide/indexing.html#returning-a-view-versus-a-copy\n",
            "  This is separate from the ipykernel package so we can avoid doing imports until\n"
          ],
          "name": "stderr"
        },
        {
          "output_type": "execute_result",
          "data": {
            "text/html": [
              "<div>\n",
              "<style scoped>\n",
              "    .dataframe tbody tr th:only-of-type {\n",
              "        vertical-align: middle;\n",
              "    }\n",
              "\n",
              "    .dataframe tbody tr th {\n",
              "        vertical-align: top;\n",
              "    }\n",
              "\n",
              "    .dataframe thead th {\n",
              "        text-align: right;\n",
              "    }\n",
              "</style>\n",
              "<table border=\"1\" class=\"dataframe\">\n",
              "  <thead>\n",
              "    <tr style=\"text-align: right;\">\n",
              "      <th></th>\n",
              "      <th>age</th>\n",
              "      <th>class of worker</th>\n",
              "      <th>instance weight</th>\n",
              "      <th>education</th>\n",
              "      <th>marital status</th>\n",
              "      <th>occupation code</th>\n",
              "      <th>race</th>\n",
              "      <th>sex</th>\n",
              "      <th>capital gains</th>\n",
              "      <th>capital losses</th>\n",
              "      <th>weeks worked in year</th>\n",
              "      <th>country of birth self</th>\n",
              "      <th>Label</th>\n",
              "      <th>class_of_worker_cat</th>\n",
              "      <th>education_cat</th>\n",
              "      <th>marital_status_cat</th>\n",
              "      <th>race_cat</th>\n",
              "    </tr>\n",
              "  </thead>\n",
              "  <tbody>\n",
              "    <tr>\n",
              "      <th>0</th>\n",
              "      <td>38</td>\n",
              "      <td>Private</td>\n",
              "      <td>1032.38</td>\n",
              "      <td>No-School</td>\n",
              "      <td>Married</td>\n",
              "      <td>36</td>\n",
              "      <td>White</td>\n",
              "      <td>Female</td>\n",
              "      <td>0</td>\n",
              "      <td>0</td>\n",
              "      <td>12</td>\n",
              "      <td>North America</td>\n",
              "      <td>- 50000.</td>\n",
              "      <td>1</td>\n",
              "      <td>6</td>\n",
              "      <td>1</td>\n",
              "      <td>4</td>\n",
              "    </tr>\n",
              "    <tr>\n",
              "      <th>1</th>\n",
              "      <td>44</td>\n",
              "      <td>Self-employed</td>\n",
              "      <td>1462.33</td>\n",
              "      <td>College</td>\n",
              "      <td>Married</td>\n",
              "      <td>12</td>\n",
              "      <td>White</td>\n",
              "      <td>Female</td>\n",
              "      <td>0</td>\n",
              "      <td>0</td>\n",
              "      <td>26</td>\n",
              "      <td>North America</td>\n",
              "      <td>- 50000.</td>\n",
              "      <td>4</td>\n",
              "      <td>5</td>\n",
              "      <td>1</td>\n",
              "      <td>4</td>\n",
              "    </tr>\n",
              "    <tr>\n",
              "      <th>2</th>\n",
              "      <td>2</td>\n",
              "      <td>Not in universe</td>\n",
              "      <td>1601.75</td>\n",
              "      <td>No-School</td>\n",
              "      <td>Not married</td>\n",
              "      <td>0</td>\n",
              "      <td>White</td>\n",
              "      <td>Male</td>\n",
              "      <td>0</td>\n",
              "      <td>0</td>\n",
              "      <td>0</td>\n",
              "      <td>North America</td>\n",
              "      <td>- 50000.</td>\n",
              "      <td>0</td>\n",
              "      <td>6</td>\n",
              "      <td>2</td>\n",
              "      <td>4</td>\n",
              "    </tr>\n",
              "    <tr>\n",
              "      <th>3</th>\n",
              "      <td>35</td>\n",
              "      <td>Private</td>\n",
              "      <td>1866.88</td>\n",
              "      <td>High school graduate</td>\n",
              "      <td>Separated</td>\n",
              "      <td>3</td>\n",
              "      <td>White</td>\n",
              "      <td>Female</td>\n",
              "      <td>0</td>\n",
              "      <td>0</td>\n",
              "      <td>52</td>\n",
              "      <td>North America</td>\n",
              "      <td>- 50000.</td>\n",
              "      <td>1</td>\n",
              "      <td>2</td>\n",
              "      <td>3</td>\n",
              "      <td>4</td>\n",
              "    </tr>\n",
              "    <tr>\n",
              "      <th>4</th>\n",
              "      <td>49</td>\n",
              "      <td>Private</td>\n",
              "      <td>1394.54</td>\n",
              "      <td>High school graduate</td>\n",
              "      <td>Separated</td>\n",
              "      <td>34</td>\n",
              "      <td>White</td>\n",
              "      <td>Male</td>\n",
              "      <td>0</td>\n",
              "      <td>0</td>\n",
              "      <td>50</td>\n",
              "      <td>North America</td>\n",
              "      <td>- 50000.</td>\n",
              "      <td>1</td>\n",
              "      <td>2</td>\n",
              "      <td>3</td>\n",
              "      <td>4</td>\n",
              "    </tr>\n",
              "  </tbody>\n",
              "</table>\n",
              "</div>"
            ],
            "text/plain": [
              "   age   class of worker  ...  marital_status_cat race_cat\n",
              "0   38           Private  ...                   1        4\n",
              "1   44     Self-employed  ...                   1        4\n",
              "2    2   Not in universe  ...                   2        4\n",
              "3   35           Private  ...                   3        4\n",
              "4   49           Private  ...                   3        4\n",
              "\n",
              "[5 rows x 17 columns]"
            ]
          },
          "metadata": {
            "tags": []
          },
          "execution_count": 69
        }
      ]
    },
    {
      "cell_type": "code",
      "metadata": {
        "colab": {
          "base_uri": "https://localhost:8080/",
          "height": 615
        },
        "id": "pRUMMxSOAYhQ",
        "outputId": "cfe90cf6-84d7-43f1-9d17-542040d635a8"
      },
      "source": [
        "df_train[\"sex\"] = df_train[\"sex\"].astype('category')\n",
        "# df_train.dtypes\n",
        "df_train[\"sex_cat\"] = df_train[\"sex\"].cat.codes\n",
        "df_train.head()"
      ],
      "execution_count": null,
      "outputs": [
        {
          "output_type": "stream",
          "text": [
            "/usr/local/lib/python3.6/dist-packages/ipykernel_launcher.py:1: SettingWithCopyWarning: \n",
            "A value is trying to be set on a copy of a slice from a DataFrame.\n",
            "Try using .loc[row_indexer,col_indexer] = value instead\n",
            "\n",
            "See the caveats in the documentation: https://pandas.pydata.org/pandas-docs/stable/user_guide/indexing.html#returning-a-view-versus-a-copy\n",
            "  \"\"\"Entry point for launching an IPython kernel.\n",
            "/usr/local/lib/python3.6/dist-packages/ipykernel_launcher.py:3: SettingWithCopyWarning: \n",
            "A value is trying to be set on a copy of a slice from a DataFrame.\n",
            "Try using .loc[row_indexer,col_indexer] = value instead\n",
            "\n",
            "See the caveats in the documentation: https://pandas.pydata.org/pandas-docs/stable/user_guide/indexing.html#returning-a-view-versus-a-copy\n",
            "  This is separate from the ipykernel package so we can avoid doing imports until\n"
          ],
          "name": "stderr"
        },
        {
          "output_type": "execute_result",
          "data": {
            "text/html": [
              "<div>\n",
              "<style scoped>\n",
              "    .dataframe tbody tr th:only-of-type {\n",
              "        vertical-align: middle;\n",
              "    }\n",
              "\n",
              "    .dataframe tbody tr th {\n",
              "        vertical-align: top;\n",
              "    }\n",
              "\n",
              "    .dataframe thead th {\n",
              "        text-align: right;\n",
              "    }\n",
              "</style>\n",
              "<table border=\"1\" class=\"dataframe\">\n",
              "  <thead>\n",
              "    <tr style=\"text-align: right;\">\n",
              "      <th></th>\n",
              "      <th>age</th>\n",
              "      <th>class of worker</th>\n",
              "      <th>instance weight</th>\n",
              "      <th>education</th>\n",
              "      <th>marital status</th>\n",
              "      <th>occupation code</th>\n",
              "      <th>race</th>\n",
              "      <th>sex</th>\n",
              "      <th>capital gains</th>\n",
              "      <th>capital losses</th>\n",
              "      <th>weeks worked in year</th>\n",
              "      <th>country of birth self</th>\n",
              "      <th>Label</th>\n",
              "      <th>class_of_worker_cat</th>\n",
              "      <th>education_cat</th>\n",
              "      <th>marital_status_cat</th>\n",
              "      <th>race_cat</th>\n",
              "      <th>sex_cat</th>\n",
              "    </tr>\n",
              "  </thead>\n",
              "  <tbody>\n",
              "    <tr>\n",
              "      <th>0</th>\n",
              "      <td>73</td>\n",
              "      <td>Not in universe</td>\n",
              "      <td>1700.09</td>\n",
              "      <td>High school graduate</td>\n",
              "      <td>Widowed</td>\n",
              "      <td>0</td>\n",
              "      <td>White</td>\n",
              "      <td>Female</td>\n",
              "      <td>0</td>\n",
              "      <td>0</td>\n",
              "      <td>0</td>\n",
              "      <td>North America</td>\n",
              "      <td>- 50000.</td>\n",
              "      <td>0</td>\n",
              "      <td>2</td>\n",
              "      <td>0</td>\n",
              "      <td>4</td>\n",
              "      <td>0</td>\n",
              "    </tr>\n",
              "    <tr>\n",
              "      <th>1</th>\n",
              "      <td>58</td>\n",
              "      <td>Self-employed</td>\n",
              "      <td>1053.55</td>\n",
              "      <td>College</td>\n",
              "      <td>Separated</td>\n",
              "      <td>34</td>\n",
              "      <td>White</td>\n",
              "      <td>Male</td>\n",
              "      <td>0</td>\n",
              "      <td>0</td>\n",
              "      <td>52</td>\n",
              "      <td>North America</td>\n",
              "      <td>- 50000.</td>\n",
              "      <td>4</td>\n",
              "      <td>5</td>\n",
              "      <td>3</td>\n",
              "      <td>4</td>\n",
              "      <td>1</td>\n",
              "    </tr>\n",
              "    <tr>\n",
              "      <th>2</th>\n",
              "      <td>18</td>\n",
              "      <td>Not in universe</td>\n",
              "      <td>991.95</td>\n",
              "      <td>No-School</td>\n",
              "      <td>Not married</td>\n",
              "      <td>0</td>\n",
              "      <td>Asian or Pacific Islander</td>\n",
              "      <td>Female</td>\n",
              "      <td>0</td>\n",
              "      <td>0</td>\n",
              "      <td>0</td>\n",
              "      <td>Asia</td>\n",
              "      <td>- 50000.</td>\n",
              "      <td>0</td>\n",
              "      <td>6</td>\n",
              "      <td>2</td>\n",
              "      <td>1</td>\n",
              "      <td>0</td>\n",
              "    </tr>\n",
              "    <tr>\n",
              "      <th>3</th>\n",
              "      <td>9</td>\n",
              "      <td>Not in universe</td>\n",
              "      <td>1758.14</td>\n",
              "      <td>No-School</td>\n",
              "      <td>Not married</td>\n",
              "      <td>0</td>\n",
              "      <td>White</td>\n",
              "      <td>Female</td>\n",
              "      <td>0</td>\n",
              "      <td>0</td>\n",
              "      <td>0</td>\n",
              "      <td>North America</td>\n",
              "      <td>- 50000.</td>\n",
              "      <td>0</td>\n",
              "      <td>6</td>\n",
              "      <td>2</td>\n",
              "      <td>4</td>\n",
              "      <td>0</td>\n",
              "    </tr>\n",
              "    <tr>\n",
              "      <th>4</th>\n",
              "      <td>10</td>\n",
              "      <td>Not in universe</td>\n",
              "      <td>1069.16</td>\n",
              "      <td>No-School</td>\n",
              "      <td>Not married</td>\n",
              "      <td>0</td>\n",
              "      <td>White</td>\n",
              "      <td>Female</td>\n",
              "      <td>0</td>\n",
              "      <td>0</td>\n",
              "      <td>0</td>\n",
              "      <td>North America</td>\n",
              "      <td>- 50000.</td>\n",
              "      <td>0</td>\n",
              "      <td>6</td>\n",
              "      <td>2</td>\n",
              "      <td>4</td>\n",
              "      <td>0</td>\n",
              "    </tr>\n",
              "  </tbody>\n",
              "</table>\n",
              "</div>"
            ],
            "text/plain": [
              "   age   class of worker  ...  race_cat sex_cat\n",
              "0   73   Not in universe  ...         4       0\n",
              "1   58     Self-employed  ...         4       1\n",
              "2   18   Not in universe  ...         1       0\n",
              "3    9   Not in universe  ...         4       0\n",
              "4   10   Not in universe  ...         4       0\n",
              "\n",
              "[5 rows x 18 columns]"
            ]
          },
          "metadata": {
            "tags": []
          },
          "execution_count": 70
        }
      ]
    },
    {
      "cell_type": "code",
      "metadata": {
        "colab": {
          "base_uri": "https://localhost:8080/",
          "height": 598
        },
        "id": "UoujtLbx5x_x",
        "outputId": "a76fc18c-5ee2-45c8-ffcc-ffca2ebeebd1"
      },
      "source": [
        "df_test[\"sex\"] = df_test[\"sex\"].astype('category')\n",
        "# df_train.dtypes\n",
        "df_test[\"sex_cat\"] = df_test[\"sex\"].cat.codes\n",
        "df_test.head()"
      ],
      "execution_count": null,
      "outputs": [
        {
          "output_type": "stream",
          "text": [
            "/usr/local/lib/python3.6/dist-packages/ipykernel_launcher.py:1: SettingWithCopyWarning: \n",
            "A value is trying to be set on a copy of a slice from a DataFrame.\n",
            "Try using .loc[row_indexer,col_indexer] = value instead\n",
            "\n",
            "See the caveats in the documentation: https://pandas.pydata.org/pandas-docs/stable/user_guide/indexing.html#returning-a-view-versus-a-copy\n",
            "  \"\"\"Entry point for launching an IPython kernel.\n",
            "/usr/local/lib/python3.6/dist-packages/ipykernel_launcher.py:3: SettingWithCopyWarning: \n",
            "A value is trying to be set on a copy of a slice from a DataFrame.\n",
            "Try using .loc[row_indexer,col_indexer] = value instead\n",
            "\n",
            "See the caveats in the documentation: https://pandas.pydata.org/pandas-docs/stable/user_guide/indexing.html#returning-a-view-versus-a-copy\n",
            "  This is separate from the ipykernel package so we can avoid doing imports until\n"
          ],
          "name": "stderr"
        },
        {
          "output_type": "execute_result",
          "data": {
            "text/html": [
              "<div>\n",
              "<style scoped>\n",
              "    .dataframe tbody tr th:only-of-type {\n",
              "        vertical-align: middle;\n",
              "    }\n",
              "\n",
              "    .dataframe tbody tr th {\n",
              "        vertical-align: top;\n",
              "    }\n",
              "\n",
              "    .dataframe thead th {\n",
              "        text-align: right;\n",
              "    }\n",
              "</style>\n",
              "<table border=\"1\" class=\"dataframe\">\n",
              "  <thead>\n",
              "    <tr style=\"text-align: right;\">\n",
              "      <th></th>\n",
              "      <th>age</th>\n",
              "      <th>class of worker</th>\n",
              "      <th>instance weight</th>\n",
              "      <th>education</th>\n",
              "      <th>marital status</th>\n",
              "      <th>occupation code</th>\n",
              "      <th>race</th>\n",
              "      <th>sex</th>\n",
              "      <th>capital gains</th>\n",
              "      <th>capital losses</th>\n",
              "      <th>weeks worked in year</th>\n",
              "      <th>country of birth self</th>\n",
              "      <th>Label</th>\n",
              "      <th>class_of_worker_cat</th>\n",
              "      <th>education_cat</th>\n",
              "      <th>marital_status_cat</th>\n",
              "      <th>race_cat</th>\n",
              "      <th>sex_cat</th>\n",
              "    </tr>\n",
              "  </thead>\n",
              "  <tbody>\n",
              "    <tr>\n",
              "      <th>0</th>\n",
              "      <td>38</td>\n",
              "      <td>Private</td>\n",
              "      <td>1032.38</td>\n",
              "      <td>No-School</td>\n",
              "      <td>Married</td>\n",
              "      <td>36</td>\n",
              "      <td>White</td>\n",
              "      <td>Female</td>\n",
              "      <td>0</td>\n",
              "      <td>0</td>\n",
              "      <td>12</td>\n",
              "      <td>North America</td>\n",
              "      <td>- 50000.</td>\n",
              "      <td>1</td>\n",
              "      <td>6</td>\n",
              "      <td>1</td>\n",
              "      <td>4</td>\n",
              "      <td>0</td>\n",
              "    </tr>\n",
              "    <tr>\n",
              "      <th>1</th>\n",
              "      <td>44</td>\n",
              "      <td>Self-employed</td>\n",
              "      <td>1462.33</td>\n",
              "      <td>College</td>\n",
              "      <td>Married</td>\n",
              "      <td>12</td>\n",
              "      <td>White</td>\n",
              "      <td>Female</td>\n",
              "      <td>0</td>\n",
              "      <td>0</td>\n",
              "      <td>26</td>\n",
              "      <td>North America</td>\n",
              "      <td>- 50000.</td>\n",
              "      <td>4</td>\n",
              "      <td>5</td>\n",
              "      <td>1</td>\n",
              "      <td>4</td>\n",
              "      <td>0</td>\n",
              "    </tr>\n",
              "    <tr>\n",
              "      <th>2</th>\n",
              "      <td>2</td>\n",
              "      <td>Not in universe</td>\n",
              "      <td>1601.75</td>\n",
              "      <td>No-School</td>\n",
              "      <td>Not married</td>\n",
              "      <td>0</td>\n",
              "      <td>White</td>\n",
              "      <td>Male</td>\n",
              "      <td>0</td>\n",
              "      <td>0</td>\n",
              "      <td>0</td>\n",
              "      <td>North America</td>\n",
              "      <td>- 50000.</td>\n",
              "      <td>0</td>\n",
              "      <td>6</td>\n",
              "      <td>2</td>\n",
              "      <td>4</td>\n",
              "      <td>1</td>\n",
              "    </tr>\n",
              "    <tr>\n",
              "      <th>3</th>\n",
              "      <td>35</td>\n",
              "      <td>Private</td>\n",
              "      <td>1866.88</td>\n",
              "      <td>High school graduate</td>\n",
              "      <td>Separated</td>\n",
              "      <td>3</td>\n",
              "      <td>White</td>\n",
              "      <td>Female</td>\n",
              "      <td>0</td>\n",
              "      <td>0</td>\n",
              "      <td>52</td>\n",
              "      <td>North America</td>\n",
              "      <td>- 50000.</td>\n",
              "      <td>1</td>\n",
              "      <td>2</td>\n",
              "      <td>3</td>\n",
              "      <td>4</td>\n",
              "      <td>0</td>\n",
              "    </tr>\n",
              "    <tr>\n",
              "      <th>4</th>\n",
              "      <td>49</td>\n",
              "      <td>Private</td>\n",
              "      <td>1394.54</td>\n",
              "      <td>High school graduate</td>\n",
              "      <td>Separated</td>\n",
              "      <td>34</td>\n",
              "      <td>White</td>\n",
              "      <td>Male</td>\n",
              "      <td>0</td>\n",
              "      <td>0</td>\n",
              "      <td>50</td>\n",
              "      <td>North America</td>\n",
              "      <td>- 50000.</td>\n",
              "      <td>1</td>\n",
              "      <td>2</td>\n",
              "      <td>3</td>\n",
              "      <td>4</td>\n",
              "      <td>1</td>\n",
              "    </tr>\n",
              "  </tbody>\n",
              "</table>\n",
              "</div>"
            ],
            "text/plain": [
              "   age   class of worker  ...  race_cat sex_cat\n",
              "0   38           Private  ...         4       0\n",
              "1   44     Self-employed  ...         4       0\n",
              "2    2   Not in universe  ...         4       1\n",
              "3   35           Private  ...         4       0\n",
              "4   49           Private  ...         4       1\n",
              "\n",
              "[5 rows x 18 columns]"
            ]
          },
          "metadata": {
            "tags": []
          },
          "execution_count": 71
        }
      ]
    },
    {
      "cell_type": "code",
      "metadata": {
        "colab": {
          "base_uri": "https://localhost:8080/",
          "height": 615
        },
        "id": "Hfaqv3HsAf2D",
        "outputId": "493ed1f2-2747-4fab-f4be-403dda7ceb92"
      },
      "source": [
        "df_train[\"country of birth self\"] = df_train[\"country of birth self\"].astype('category')\n",
        "# df_train.dtypes\n",
        "df_train[\"country_of_birth_self_cat\"] = df_train[\"country of birth self\"].cat.codes\n",
        "df_train.head()"
      ],
      "execution_count": null,
      "outputs": [
        {
          "output_type": "stream",
          "text": [
            "/usr/local/lib/python3.6/dist-packages/ipykernel_launcher.py:1: SettingWithCopyWarning: \n",
            "A value is trying to be set on a copy of a slice from a DataFrame.\n",
            "Try using .loc[row_indexer,col_indexer] = value instead\n",
            "\n",
            "See the caveats in the documentation: https://pandas.pydata.org/pandas-docs/stable/user_guide/indexing.html#returning-a-view-versus-a-copy\n",
            "  \"\"\"Entry point for launching an IPython kernel.\n",
            "/usr/local/lib/python3.6/dist-packages/ipykernel_launcher.py:3: SettingWithCopyWarning: \n",
            "A value is trying to be set on a copy of a slice from a DataFrame.\n",
            "Try using .loc[row_indexer,col_indexer] = value instead\n",
            "\n",
            "See the caveats in the documentation: https://pandas.pydata.org/pandas-docs/stable/user_guide/indexing.html#returning-a-view-versus-a-copy\n",
            "  This is separate from the ipykernel package so we can avoid doing imports until\n"
          ],
          "name": "stderr"
        },
        {
          "output_type": "execute_result",
          "data": {
            "text/html": [
              "<div>\n",
              "<style scoped>\n",
              "    .dataframe tbody tr th:only-of-type {\n",
              "        vertical-align: middle;\n",
              "    }\n",
              "\n",
              "    .dataframe tbody tr th {\n",
              "        vertical-align: top;\n",
              "    }\n",
              "\n",
              "    .dataframe thead th {\n",
              "        text-align: right;\n",
              "    }\n",
              "</style>\n",
              "<table border=\"1\" class=\"dataframe\">\n",
              "  <thead>\n",
              "    <tr style=\"text-align: right;\">\n",
              "      <th></th>\n",
              "      <th>age</th>\n",
              "      <th>class of worker</th>\n",
              "      <th>instance weight</th>\n",
              "      <th>education</th>\n",
              "      <th>marital status</th>\n",
              "      <th>occupation code</th>\n",
              "      <th>race</th>\n",
              "      <th>sex</th>\n",
              "      <th>capital gains</th>\n",
              "      <th>capital losses</th>\n",
              "      <th>weeks worked in year</th>\n",
              "      <th>country of birth self</th>\n",
              "      <th>Label</th>\n",
              "      <th>class_of_worker_cat</th>\n",
              "      <th>education_cat</th>\n",
              "      <th>marital_status_cat</th>\n",
              "      <th>race_cat</th>\n",
              "      <th>sex_cat</th>\n",
              "      <th>country_of_birth_self_cat</th>\n",
              "    </tr>\n",
              "  </thead>\n",
              "  <tbody>\n",
              "    <tr>\n",
              "      <th>0</th>\n",
              "      <td>73</td>\n",
              "      <td>Not in universe</td>\n",
              "      <td>1700.09</td>\n",
              "      <td>High school graduate</td>\n",
              "      <td>Widowed</td>\n",
              "      <td>0</td>\n",
              "      <td>White</td>\n",
              "      <td>Female</td>\n",
              "      <td>0</td>\n",
              "      <td>0</td>\n",
              "      <td>0</td>\n",
              "      <td>North America</td>\n",
              "      <td>- 50000.</td>\n",
              "      <td>0</td>\n",
              "      <td>2</td>\n",
              "      <td>0</td>\n",
              "      <td>4</td>\n",
              "      <td>0</td>\n",
              "      <td>3</td>\n",
              "    </tr>\n",
              "    <tr>\n",
              "      <th>1</th>\n",
              "      <td>58</td>\n",
              "      <td>Self-employed</td>\n",
              "      <td>1053.55</td>\n",
              "      <td>College</td>\n",
              "      <td>Separated</td>\n",
              "      <td>34</td>\n",
              "      <td>White</td>\n",
              "      <td>Male</td>\n",
              "      <td>0</td>\n",
              "      <td>0</td>\n",
              "      <td>52</td>\n",
              "      <td>North America</td>\n",
              "      <td>- 50000.</td>\n",
              "      <td>4</td>\n",
              "      <td>5</td>\n",
              "      <td>3</td>\n",
              "      <td>4</td>\n",
              "      <td>1</td>\n",
              "      <td>3</td>\n",
              "    </tr>\n",
              "    <tr>\n",
              "      <th>2</th>\n",
              "      <td>18</td>\n",
              "      <td>Not in universe</td>\n",
              "      <td>991.95</td>\n",
              "      <td>No-School</td>\n",
              "      <td>Not married</td>\n",
              "      <td>0</td>\n",
              "      <td>Asian or Pacific Islander</td>\n",
              "      <td>Female</td>\n",
              "      <td>0</td>\n",
              "      <td>0</td>\n",
              "      <td>0</td>\n",
              "      <td>Asia</td>\n",
              "      <td>- 50000.</td>\n",
              "      <td>0</td>\n",
              "      <td>6</td>\n",
              "      <td>2</td>\n",
              "      <td>1</td>\n",
              "      <td>0</td>\n",
              "      <td>0</td>\n",
              "    </tr>\n",
              "    <tr>\n",
              "      <th>3</th>\n",
              "      <td>9</td>\n",
              "      <td>Not in universe</td>\n",
              "      <td>1758.14</td>\n",
              "      <td>No-School</td>\n",
              "      <td>Not married</td>\n",
              "      <td>0</td>\n",
              "      <td>White</td>\n",
              "      <td>Female</td>\n",
              "      <td>0</td>\n",
              "      <td>0</td>\n",
              "      <td>0</td>\n",
              "      <td>North America</td>\n",
              "      <td>- 50000.</td>\n",
              "      <td>0</td>\n",
              "      <td>6</td>\n",
              "      <td>2</td>\n",
              "      <td>4</td>\n",
              "      <td>0</td>\n",
              "      <td>3</td>\n",
              "    </tr>\n",
              "    <tr>\n",
              "      <th>4</th>\n",
              "      <td>10</td>\n",
              "      <td>Not in universe</td>\n",
              "      <td>1069.16</td>\n",
              "      <td>No-School</td>\n",
              "      <td>Not married</td>\n",
              "      <td>0</td>\n",
              "      <td>White</td>\n",
              "      <td>Female</td>\n",
              "      <td>0</td>\n",
              "      <td>0</td>\n",
              "      <td>0</td>\n",
              "      <td>North America</td>\n",
              "      <td>- 50000.</td>\n",
              "      <td>0</td>\n",
              "      <td>6</td>\n",
              "      <td>2</td>\n",
              "      <td>4</td>\n",
              "      <td>0</td>\n",
              "      <td>3</td>\n",
              "    </tr>\n",
              "  </tbody>\n",
              "</table>\n",
              "</div>"
            ],
            "text/plain": [
              "   age   class of worker  ...  sex_cat country_of_birth_self_cat\n",
              "0   73   Not in universe  ...        0                         3\n",
              "1   58     Self-employed  ...        1                         3\n",
              "2   18   Not in universe  ...        0                         0\n",
              "3    9   Not in universe  ...        0                         3\n",
              "4   10   Not in universe  ...        0                         3\n",
              "\n",
              "[5 rows x 19 columns]"
            ]
          },
          "metadata": {
            "tags": []
          },
          "execution_count": 72
        }
      ]
    },
    {
      "cell_type": "code",
      "metadata": {
        "colab": {
          "base_uri": "https://localhost:8080/",
          "height": 598
        },
        "id": "KyDmDpIO53R_",
        "outputId": "e21b8ad1-88b0-4516-b85e-17d783f5d224"
      },
      "source": [
        "df_test[\"country of birth self\"] = df_test[\"country of birth self\"].astype('category')\n",
        "# df_train.dtypes\n",
        "df_test[\"country_of_birth_self_cat\"] = df_test[\"country of birth self\"].cat.codes\n",
        "df_test.head()"
      ],
      "execution_count": null,
      "outputs": [
        {
          "output_type": "stream",
          "text": [
            "/usr/local/lib/python3.6/dist-packages/ipykernel_launcher.py:1: SettingWithCopyWarning: \n",
            "A value is trying to be set on a copy of a slice from a DataFrame.\n",
            "Try using .loc[row_indexer,col_indexer] = value instead\n",
            "\n",
            "See the caveats in the documentation: https://pandas.pydata.org/pandas-docs/stable/user_guide/indexing.html#returning-a-view-versus-a-copy\n",
            "  \"\"\"Entry point for launching an IPython kernel.\n",
            "/usr/local/lib/python3.6/dist-packages/ipykernel_launcher.py:3: SettingWithCopyWarning: \n",
            "A value is trying to be set on a copy of a slice from a DataFrame.\n",
            "Try using .loc[row_indexer,col_indexer] = value instead\n",
            "\n",
            "See the caveats in the documentation: https://pandas.pydata.org/pandas-docs/stable/user_guide/indexing.html#returning-a-view-versus-a-copy\n",
            "  This is separate from the ipykernel package so we can avoid doing imports until\n"
          ],
          "name": "stderr"
        },
        {
          "output_type": "execute_result",
          "data": {
            "text/html": [
              "<div>\n",
              "<style scoped>\n",
              "    .dataframe tbody tr th:only-of-type {\n",
              "        vertical-align: middle;\n",
              "    }\n",
              "\n",
              "    .dataframe tbody tr th {\n",
              "        vertical-align: top;\n",
              "    }\n",
              "\n",
              "    .dataframe thead th {\n",
              "        text-align: right;\n",
              "    }\n",
              "</style>\n",
              "<table border=\"1\" class=\"dataframe\">\n",
              "  <thead>\n",
              "    <tr style=\"text-align: right;\">\n",
              "      <th></th>\n",
              "      <th>age</th>\n",
              "      <th>class of worker</th>\n",
              "      <th>instance weight</th>\n",
              "      <th>education</th>\n",
              "      <th>marital status</th>\n",
              "      <th>occupation code</th>\n",
              "      <th>race</th>\n",
              "      <th>sex</th>\n",
              "      <th>capital gains</th>\n",
              "      <th>capital losses</th>\n",
              "      <th>weeks worked in year</th>\n",
              "      <th>country of birth self</th>\n",
              "      <th>Label</th>\n",
              "      <th>class_of_worker_cat</th>\n",
              "      <th>education_cat</th>\n",
              "      <th>marital_status_cat</th>\n",
              "      <th>race_cat</th>\n",
              "      <th>sex_cat</th>\n",
              "      <th>country_of_birth_self_cat</th>\n",
              "    </tr>\n",
              "  </thead>\n",
              "  <tbody>\n",
              "    <tr>\n",
              "      <th>0</th>\n",
              "      <td>38</td>\n",
              "      <td>Private</td>\n",
              "      <td>1032.38</td>\n",
              "      <td>No-School</td>\n",
              "      <td>Married</td>\n",
              "      <td>36</td>\n",
              "      <td>White</td>\n",
              "      <td>Female</td>\n",
              "      <td>0</td>\n",
              "      <td>0</td>\n",
              "      <td>12</td>\n",
              "      <td>North America</td>\n",
              "      <td>- 50000.</td>\n",
              "      <td>1</td>\n",
              "      <td>6</td>\n",
              "      <td>1</td>\n",
              "      <td>4</td>\n",
              "      <td>0</td>\n",
              "      <td>4</td>\n",
              "    </tr>\n",
              "    <tr>\n",
              "      <th>1</th>\n",
              "      <td>44</td>\n",
              "      <td>Self-employed</td>\n",
              "      <td>1462.33</td>\n",
              "      <td>College</td>\n",
              "      <td>Married</td>\n",
              "      <td>12</td>\n",
              "      <td>White</td>\n",
              "      <td>Female</td>\n",
              "      <td>0</td>\n",
              "      <td>0</td>\n",
              "      <td>26</td>\n",
              "      <td>North America</td>\n",
              "      <td>- 50000.</td>\n",
              "      <td>4</td>\n",
              "      <td>5</td>\n",
              "      <td>1</td>\n",
              "      <td>4</td>\n",
              "      <td>0</td>\n",
              "      <td>4</td>\n",
              "    </tr>\n",
              "    <tr>\n",
              "      <th>2</th>\n",
              "      <td>2</td>\n",
              "      <td>Not in universe</td>\n",
              "      <td>1601.75</td>\n",
              "      <td>No-School</td>\n",
              "      <td>Not married</td>\n",
              "      <td>0</td>\n",
              "      <td>White</td>\n",
              "      <td>Male</td>\n",
              "      <td>0</td>\n",
              "      <td>0</td>\n",
              "      <td>0</td>\n",
              "      <td>North America</td>\n",
              "      <td>- 50000.</td>\n",
              "      <td>0</td>\n",
              "      <td>6</td>\n",
              "      <td>2</td>\n",
              "      <td>4</td>\n",
              "      <td>1</td>\n",
              "      <td>4</td>\n",
              "    </tr>\n",
              "    <tr>\n",
              "      <th>3</th>\n",
              "      <td>35</td>\n",
              "      <td>Private</td>\n",
              "      <td>1866.88</td>\n",
              "      <td>High school graduate</td>\n",
              "      <td>Separated</td>\n",
              "      <td>3</td>\n",
              "      <td>White</td>\n",
              "      <td>Female</td>\n",
              "      <td>0</td>\n",
              "      <td>0</td>\n",
              "      <td>52</td>\n",
              "      <td>North America</td>\n",
              "      <td>- 50000.</td>\n",
              "      <td>1</td>\n",
              "      <td>2</td>\n",
              "      <td>3</td>\n",
              "      <td>4</td>\n",
              "      <td>0</td>\n",
              "      <td>4</td>\n",
              "    </tr>\n",
              "    <tr>\n",
              "      <th>4</th>\n",
              "      <td>49</td>\n",
              "      <td>Private</td>\n",
              "      <td>1394.54</td>\n",
              "      <td>High school graduate</td>\n",
              "      <td>Separated</td>\n",
              "      <td>34</td>\n",
              "      <td>White</td>\n",
              "      <td>Male</td>\n",
              "      <td>0</td>\n",
              "      <td>0</td>\n",
              "      <td>50</td>\n",
              "      <td>North America</td>\n",
              "      <td>- 50000.</td>\n",
              "      <td>1</td>\n",
              "      <td>2</td>\n",
              "      <td>3</td>\n",
              "      <td>4</td>\n",
              "      <td>1</td>\n",
              "      <td>4</td>\n",
              "    </tr>\n",
              "  </tbody>\n",
              "</table>\n",
              "</div>"
            ],
            "text/plain": [
              "   age   class of worker  ...  sex_cat country_of_birth_self_cat\n",
              "0   38           Private  ...        0                         4\n",
              "1   44     Self-employed  ...        0                         4\n",
              "2    2   Not in universe  ...        1                         4\n",
              "3   35           Private  ...        0                         4\n",
              "4   49           Private  ...        1                         4\n",
              "\n",
              "[5 rows x 19 columns]"
            ]
          },
          "metadata": {
            "tags": []
          },
          "execution_count": 73
        }
      ]
    },
    {
      "cell_type": "code",
      "metadata": {
        "colab": {
          "base_uri": "https://localhost:8080/",
          "height": 615
        },
        "id": "I5QhgUe5AykZ",
        "outputId": "e716cd7b-1d81-4e88-e37f-71a3deedaf4c"
      },
      "source": [
        "df_train[\"Label\"] = df_train[\"Label\"].astype('category')\n",
        "# df_train.dtypes\n",
        "df_train[\"Label_cat\"] = df_train[\"Label\"].cat.codes\n",
        "df_train.head()"
      ],
      "execution_count": null,
      "outputs": [
        {
          "output_type": "stream",
          "text": [
            "/usr/local/lib/python3.6/dist-packages/ipykernel_launcher.py:1: SettingWithCopyWarning: \n",
            "A value is trying to be set on a copy of a slice from a DataFrame.\n",
            "Try using .loc[row_indexer,col_indexer] = value instead\n",
            "\n",
            "See the caveats in the documentation: https://pandas.pydata.org/pandas-docs/stable/user_guide/indexing.html#returning-a-view-versus-a-copy\n",
            "  \"\"\"Entry point for launching an IPython kernel.\n",
            "/usr/local/lib/python3.6/dist-packages/ipykernel_launcher.py:3: SettingWithCopyWarning: \n",
            "A value is trying to be set on a copy of a slice from a DataFrame.\n",
            "Try using .loc[row_indexer,col_indexer] = value instead\n",
            "\n",
            "See the caveats in the documentation: https://pandas.pydata.org/pandas-docs/stable/user_guide/indexing.html#returning-a-view-versus-a-copy\n",
            "  This is separate from the ipykernel package so we can avoid doing imports until\n"
          ],
          "name": "stderr"
        },
        {
          "output_type": "execute_result",
          "data": {
            "text/html": [
              "<div>\n",
              "<style scoped>\n",
              "    .dataframe tbody tr th:only-of-type {\n",
              "        vertical-align: middle;\n",
              "    }\n",
              "\n",
              "    .dataframe tbody tr th {\n",
              "        vertical-align: top;\n",
              "    }\n",
              "\n",
              "    .dataframe thead th {\n",
              "        text-align: right;\n",
              "    }\n",
              "</style>\n",
              "<table border=\"1\" class=\"dataframe\">\n",
              "  <thead>\n",
              "    <tr style=\"text-align: right;\">\n",
              "      <th></th>\n",
              "      <th>age</th>\n",
              "      <th>class of worker</th>\n",
              "      <th>instance weight</th>\n",
              "      <th>education</th>\n",
              "      <th>marital status</th>\n",
              "      <th>occupation code</th>\n",
              "      <th>race</th>\n",
              "      <th>sex</th>\n",
              "      <th>capital gains</th>\n",
              "      <th>capital losses</th>\n",
              "      <th>weeks worked in year</th>\n",
              "      <th>country of birth self</th>\n",
              "      <th>Label</th>\n",
              "      <th>class_of_worker_cat</th>\n",
              "      <th>education_cat</th>\n",
              "      <th>marital_status_cat</th>\n",
              "      <th>race_cat</th>\n",
              "      <th>sex_cat</th>\n",
              "      <th>country_of_birth_self_cat</th>\n",
              "      <th>Label_cat</th>\n",
              "    </tr>\n",
              "  </thead>\n",
              "  <tbody>\n",
              "    <tr>\n",
              "      <th>0</th>\n",
              "      <td>73</td>\n",
              "      <td>Not in universe</td>\n",
              "      <td>1700.09</td>\n",
              "      <td>High school graduate</td>\n",
              "      <td>Widowed</td>\n",
              "      <td>0</td>\n",
              "      <td>White</td>\n",
              "      <td>Female</td>\n",
              "      <td>0</td>\n",
              "      <td>0</td>\n",
              "      <td>0</td>\n",
              "      <td>North America</td>\n",
              "      <td>- 50000.</td>\n",
              "      <td>0</td>\n",
              "      <td>2</td>\n",
              "      <td>0</td>\n",
              "      <td>4</td>\n",
              "      <td>0</td>\n",
              "      <td>3</td>\n",
              "      <td>0</td>\n",
              "    </tr>\n",
              "    <tr>\n",
              "      <th>1</th>\n",
              "      <td>58</td>\n",
              "      <td>Self-employed</td>\n",
              "      <td>1053.55</td>\n",
              "      <td>College</td>\n",
              "      <td>Separated</td>\n",
              "      <td>34</td>\n",
              "      <td>White</td>\n",
              "      <td>Male</td>\n",
              "      <td>0</td>\n",
              "      <td>0</td>\n",
              "      <td>52</td>\n",
              "      <td>North America</td>\n",
              "      <td>- 50000.</td>\n",
              "      <td>4</td>\n",
              "      <td>5</td>\n",
              "      <td>3</td>\n",
              "      <td>4</td>\n",
              "      <td>1</td>\n",
              "      <td>3</td>\n",
              "      <td>0</td>\n",
              "    </tr>\n",
              "    <tr>\n",
              "      <th>2</th>\n",
              "      <td>18</td>\n",
              "      <td>Not in universe</td>\n",
              "      <td>991.95</td>\n",
              "      <td>No-School</td>\n",
              "      <td>Not married</td>\n",
              "      <td>0</td>\n",
              "      <td>Asian or Pacific Islander</td>\n",
              "      <td>Female</td>\n",
              "      <td>0</td>\n",
              "      <td>0</td>\n",
              "      <td>0</td>\n",
              "      <td>Asia</td>\n",
              "      <td>- 50000.</td>\n",
              "      <td>0</td>\n",
              "      <td>6</td>\n",
              "      <td>2</td>\n",
              "      <td>1</td>\n",
              "      <td>0</td>\n",
              "      <td>0</td>\n",
              "      <td>0</td>\n",
              "    </tr>\n",
              "    <tr>\n",
              "      <th>3</th>\n",
              "      <td>9</td>\n",
              "      <td>Not in universe</td>\n",
              "      <td>1758.14</td>\n",
              "      <td>No-School</td>\n",
              "      <td>Not married</td>\n",
              "      <td>0</td>\n",
              "      <td>White</td>\n",
              "      <td>Female</td>\n",
              "      <td>0</td>\n",
              "      <td>0</td>\n",
              "      <td>0</td>\n",
              "      <td>North America</td>\n",
              "      <td>- 50000.</td>\n",
              "      <td>0</td>\n",
              "      <td>6</td>\n",
              "      <td>2</td>\n",
              "      <td>4</td>\n",
              "      <td>0</td>\n",
              "      <td>3</td>\n",
              "      <td>0</td>\n",
              "    </tr>\n",
              "    <tr>\n",
              "      <th>4</th>\n",
              "      <td>10</td>\n",
              "      <td>Not in universe</td>\n",
              "      <td>1069.16</td>\n",
              "      <td>No-School</td>\n",
              "      <td>Not married</td>\n",
              "      <td>0</td>\n",
              "      <td>White</td>\n",
              "      <td>Female</td>\n",
              "      <td>0</td>\n",
              "      <td>0</td>\n",
              "      <td>0</td>\n",
              "      <td>North America</td>\n",
              "      <td>- 50000.</td>\n",
              "      <td>0</td>\n",
              "      <td>6</td>\n",
              "      <td>2</td>\n",
              "      <td>4</td>\n",
              "      <td>0</td>\n",
              "      <td>3</td>\n",
              "      <td>0</td>\n",
              "    </tr>\n",
              "  </tbody>\n",
              "</table>\n",
              "</div>"
            ],
            "text/plain": [
              "   age   class of worker  ...  country_of_birth_self_cat Label_cat\n",
              "0   73   Not in universe  ...                          3         0\n",
              "1   58     Self-employed  ...                          3         0\n",
              "2   18   Not in universe  ...                          0         0\n",
              "3    9   Not in universe  ...                          3         0\n",
              "4   10   Not in universe  ...                          3         0\n",
              "\n",
              "[5 rows x 20 columns]"
            ]
          },
          "metadata": {
            "tags": []
          },
          "execution_count": 74
        }
      ]
    },
    {
      "cell_type": "code",
      "metadata": {
        "colab": {
          "base_uri": "https://localhost:8080/",
          "height": 598
        },
        "id": "QggfE8G259yo",
        "outputId": "238fd92c-e4af-4a8e-8d4e-b9a618a6f9f3"
      },
      "source": [
        "df_test[\"Label\"] = df_test[\"Label\"].astype('category')\n",
        "# df_test.dtypes\n",
        "df_test[\"Label_cat\"] = df_test[\"Label\"].cat.codes\n",
        "df_test.head()"
      ],
      "execution_count": null,
      "outputs": [
        {
          "output_type": "stream",
          "text": [
            "/usr/local/lib/python3.6/dist-packages/ipykernel_launcher.py:1: SettingWithCopyWarning: \n",
            "A value is trying to be set on a copy of a slice from a DataFrame.\n",
            "Try using .loc[row_indexer,col_indexer] = value instead\n",
            "\n",
            "See the caveats in the documentation: https://pandas.pydata.org/pandas-docs/stable/user_guide/indexing.html#returning-a-view-versus-a-copy\n",
            "  \"\"\"Entry point for launching an IPython kernel.\n",
            "/usr/local/lib/python3.6/dist-packages/ipykernel_launcher.py:3: SettingWithCopyWarning: \n",
            "A value is trying to be set on a copy of a slice from a DataFrame.\n",
            "Try using .loc[row_indexer,col_indexer] = value instead\n",
            "\n",
            "See the caveats in the documentation: https://pandas.pydata.org/pandas-docs/stable/user_guide/indexing.html#returning-a-view-versus-a-copy\n",
            "  This is separate from the ipykernel package so we can avoid doing imports until\n"
          ],
          "name": "stderr"
        },
        {
          "output_type": "execute_result",
          "data": {
            "text/html": [
              "<div>\n",
              "<style scoped>\n",
              "    .dataframe tbody tr th:only-of-type {\n",
              "        vertical-align: middle;\n",
              "    }\n",
              "\n",
              "    .dataframe tbody tr th {\n",
              "        vertical-align: top;\n",
              "    }\n",
              "\n",
              "    .dataframe thead th {\n",
              "        text-align: right;\n",
              "    }\n",
              "</style>\n",
              "<table border=\"1\" class=\"dataframe\">\n",
              "  <thead>\n",
              "    <tr style=\"text-align: right;\">\n",
              "      <th></th>\n",
              "      <th>age</th>\n",
              "      <th>class of worker</th>\n",
              "      <th>instance weight</th>\n",
              "      <th>education</th>\n",
              "      <th>marital status</th>\n",
              "      <th>occupation code</th>\n",
              "      <th>race</th>\n",
              "      <th>sex</th>\n",
              "      <th>capital gains</th>\n",
              "      <th>capital losses</th>\n",
              "      <th>weeks worked in year</th>\n",
              "      <th>country of birth self</th>\n",
              "      <th>Label</th>\n",
              "      <th>class_of_worker_cat</th>\n",
              "      <th>education_cat</th>\n",
              "      <th>marital_status_cat</th>\n",
              "      <th>race_cat</th>\n",
              "      <th>sex_cat</th>\n",
              "      <th>country_of_birth_self_cat</th>\n",
              "      <th>Label_cat</th>\n",
              "    </tr>\n",
              "  </thead>\n",
              "  <tbody>\n",
              "    <tr>\n",
              "      <th>0</th>\n",
              "      <td>38</td>\n",
              "      <td>Private</td>\n",
              "      <td>1032.38</td>\n",
              "      <td>No-School</td>\n",
              "      <td>Married</td>\n",
              "      <td>36</td>\n",
              "      <td>White</td>\n",
              "      <td>Female</td>\n",
              "      <td>0</td>\n",
              "      <td>0</td>\n",
              "      <td>12</td>\n",
              "      <td>North America</td>\n",
              "      <td>- 50000.</td>\n",
              "      <td>1</td>\n",
              "      <td>6</td>\n",
              "      <td>1</td>\n",
              "      <td>4</td>\n",
              "      <td>0</td>\n",
              "      <td>4</td>\n",
              "      <td>0</td>\n",
              "    </tr>\n",
              "    <tr>\n",
              "      <th>1</th>\n",
              "      <td>44</td>\n",
              "      <td>Self-employed</td>\n",
              "      <td>1462.33</td>\n",
              "      <td>College</td>\n",
              "      <td>Married</td>\n",
              "      <td>12</td>\n",
              "      <td>White</td>\n",
              "      <td>Female</td>\n",
              "      <td>0</td>\n",
              "      <td>0</td>\n",
              "      <td>26</td>\n",
              "      <td>North America</td>\n",
              "      <td>- 50000.</td>\n",
              "      <td>4</td>\n",
              "      <td>5</td>\n",
              "      <td>1</td>\n",
              "      <td>4</td>\n",
              "      <td>0</td>\n",
              "      <td>4</td>\n",
              "      <td>0</td>\n",
              "    </tr>\n",
              "    <tr>\n",
              "      <th>2</th>\n",
              "      <td>2</td>\n",
              "      <td>Not in universe</td>\n",
              "      <td>1601.75</td>\n",
              "      <td>No-School</td>\n",
              "      <td>Not married</td>\n",
              "      <td>0</td>\n",
              "      <td>White</td>\n",
              "      <td>Male</td>\n",
              "      <td>0</td>\n",
              "      <td>0</td>\n",
              "      <td>0</td>\n",
              "      <td>North America</td>\n",
              "      <td>- 50000.</td>\n",
              "      <td>0</td>\n",
              "      <td>6</td>\n",
              "      <td>2</td>\n",
              "      <td>4</td>\n",
              "      <td>1</td>\n",
              "      <td>4</td>\n",
              "      <td>0</td>\n",
              "    </tr>\n",
              "    <tr>\n",
              "      <th>3</th>\n",
              "      <td>35</td>\n",
              "      <td>Private</td>\n",
              "      <td>1866.88</td>\n",
              "      <td>High school graduate</td>\n",
              "      <td>Separated</td>\n",
              "      <td>3</td>\n",
              "      <td>White</td>\n",
              "      <td>Female</td>\n",
              "      <td>0</td>\n",
              "      <td>0</td>\n",
              "      <td>52</td>\n",
              "      <td>North America</td>\n",
              "      <td>- 50000.</td>\n",
              "      <td>1</td>\n",
              "      <td>2</td>\n",
              "      <td>3</td>\n",
              "      <td>4</td>\n",
              "      <td>0</td>\n",
              "      <td>4</td>\n",
              "      <td>0</td>\n",
              "    </tr>\n",
              "    <tr>\n",
              "      <th>4</th>\n",
              "      <td>49</td>\n",
              "      <td>Private</td>\n",
              "      <td>1394.54</td>\n",
              "      <td>High school graduate</td>\n",
              "      <td>Separated</td>\n",
              "      <td>34</td>\n",
              "      <td>White</td>\n",
              "      <td>Male</td>\n",
              "      <td>0</td>\n",
              "      <td>0</td>\n",
              "      <td>50</td>\n",
              "      <td>North America</td>\n",
              "      <td>- 50000.</td>\n",
              "      <td>1</td>\n",
              "      <td>2</td>\n",
              "      <td>3</td>\n",
              "      <td>4</td>\n",
              "      <td>1</td>\n",
              "      <td>4</td>\n",
              "      <td>0</td>\n",
              "    </tr>\n",
              "  </tbody>\n",
              "</table>\n",
              "</div>"
            ],
            "text/plain": [
              "   age   class of worker  ...  country_of_birth_self_cat Label_cat\n",
              "0   38           Private  ...                          4         0\n",
              "1   44     Self-employed  ...                          4         0\n",
              "2    2   Not in universe  ...                          4         0\n",
              "3   35           Private  ...                          4         0\n",
              "4   49           Private  ...                          4         0\n",
              "\n",
              "[5 rows x 20 columns]"
            ]
          },
          "metadata": {
            "tags": []
          },
          "execution_count": 75
        }
      ]
    },
    {
      "cell_type": "code",
      "metadata": {
        "colab": {
          "base_uri": "https://localhost:8080/",
          "height": 275
        },
        "id": "7adYrTlwA7js",
        "outputId": "d31d3bb1-12a4-49e9-b3f7-79c8ba780958"
      },
      "source": [
        "to_drop=['class of worker','education','marital status','race','sex','country of birth self','Label']\n",
        "df_train=df_train.drop(to_drop,axis=1)\n",
        "df_train.head()"
      ],
      "execution_count": null,
      "outputs": [
        {
          "output_type": "execute_result",
          "data": {
            "text/html": [
              "<div>\n",
              "<style scoped>\n",
              "    .dataframe tbody tr th:only-of-type {\n",
              "        vertical-align: middle;\n",
              "    }\n",
              "\n",
              "    .dataframe tbody tr th {\n",
              "        vertical-align: top;\n",
              "    }\n",
              "\n",
              "    .dataframe thead th {\n",
              "        text-align: right;\n",
              "    }\n",
              "</style>\n",
              "<table border=\"1\" class=\"dataframe\">\n",
              "  <thead>\n",
              "    <tr style=\"text-align: right;\">\n",
              "      <th></th>\n",
              "      <th>age</th>\n",
              "      <th>instance weight</th>\n",
              "      <th>occupation code</th>\n",
              "      <th>capital gains</th>\n",
              "      <th>capital losses</th>\n",
              "      <th>weeks worked in year</th>\n",
              "      <th>class_of_worker_cat</th>\n",
              "      <th>education_cat</th>\n",
              "      <th>marital_status_cat</th>\n",
              "      <th>race_cat</th>\n",
              "      <th>sex_cat</th>\n",
              "      <th>country_of_birth_self_cat</th>\n",
              "      <th>Label_cat</th>\n",
              "    </tr>\n",
              "  </thead>\n",
              "  <tbody>\n",
              "    <tr>\n",
              "      <th>0</th>\n",
              "      <td>73</td>\n",
              "      <td>1700.09</td>\n",
              "      <td>0</td>\n",
              "      <td>0</td>\n",
              "      <td>0</td>\n",
              "      <td>0</td>\n",
              "      <td>0</td>\n",
              "      <td>2</td>\n",
              "      <td>0</td>\n",
              "      <td>4</td>\n",
              "      <td>0</td>\n",
              "      <td>3</td>\n",
              "      <td>0</td>\n",
              "    </tr>\n",
              "    <tr>\n",
              "      <th>1</th>\n",
              "      <td>58</td>\n",
              "      <td>1053.55</td>\n",
              "      <td>34</td>\n",
              "      <td>0</td>\n",
              "      <td>0</td>\n",
              "      <td>52</td>\n",
              "      <td>4</td>\n",
              "      <td>5</td>\n",
              "      <td>3</td>\n",
              "      <td>4</td>\n",
              "      <td>1</td>\n",
              "      <td>3</td>\n",
              "      <td>0</td>\n",
              "    </tr>\n",
              "    <tr>\n",
              "      <th>2</th>\n",
              "      <td>18</td>\n",
              "      <td>991.95</td>\n",
              "      <td>0</td>\n",
              "      <td>0</td>\n",
              "      <td>0</td>\n",
              "      <td>0</td>\n",
              "      <td>0</td>\n",
              "      <td>6</td>\n",
              "      <td>2</td>\n",
              "      <td>1</td>\n",
              "      <td>0</td>\n",
              "      <td>0</td>\n",
              "      <td>0</td>\n",
              "    </tr>\n",
              "    <tr>\n",
              "      <th>3</th>\n",
              "      <td>9</td>\n",
              "      <td>1758.14</td>\n",
              "      <td>0</td>\n",
              "      <td>0</td>\n",
              "      <td>0</td>\n",
              "      <td>0</td>\n",
              "      <td>0</td>\n",
              "      <td>6</td>\n",
              "      <td>2</td>\n",
              "      <td>4</td>\n",
              "      <td>0</td>\n",
              "      <td>3</td>\n",
              "      <td>0</td>\n",
              "    </tr>\n",
              "    <tr>\n",
              "      <th>4</th>\n",
              "      <td>10</td>\n",
              "      <td>1069.16</td>\n",
              "      <td>0</td>\n",
              "      <td>0</td>\n",
              "      <td>0</td>\n",
              "      <td>0</td>\n",
              "      <td>0</td>\n",
              "      <td>6</td>\n",
              "      <td>2</td>\n",
              "      <td>4</td>\n",
              "      <td>0</td>\n",
              "      <td>3</td>\n",
              "      <td>0</td>\n",
              "    </tr>\n",
              "  </tbody>\n",
              "</table>\n",
              "</div>"
            ],
            "text/plain": [
              "   age  instance weight  ...  country_of_birth_self_cat  Label_cat\n",
              "0   73          1700.09  ...                          3          0\n",
              "1   58          1053.55  ...                          3          0\n",
              "2   18           991.95  ...                          0          0\n",
              "3    9          1758.14  ...                          3          0\n",
              "4   10          1069.16  ...                          3          0\n",
              "\n",
              "[5 rows x 13 columns]"
            ]
          },
          "metadata": {
            "tags": []
          },
          "execution_count": 76
        }
      ]
    },
    {
      "cell_type": "code",
      "metadata": {
        "colab": {
          "base_uri": "https://localhost:8080/",
          "height": 275
        },
        "id": "eeHFco4r6FSS",
        "outputId": "dc49ee67-16c7-4637-988a-ba3bf3f543e0"
      },
      "source": [
        "to_drop=['class of worker','education','marital status','race','sex','country of birth self','Label']\n",
        "df_test=df_test.drop(to_drop,axis=1)\n",
        "df_test.head()"
      ],
      "execution_count": null,
      "outputs": [
        {
          "output_type": "execute_result",
          "data": {
            "text/html": [
              "<div>\n",
              "<style scoped>\n",
              "    .dataframe tbody tr th:only-of-type {\n",
              "        vertical-align: middle;\n",
              "    }\n",
              "\n",
              "    .dataframe tbody tr th {\n",
              "        vertical-align: top;\n",
              "    }\n",
              "\n",
              "    .dataframe thead th {\n",
              "        text-align: right;\n",
              "    }\n",
              "</style>\n",
              "<table border=\"1\" class=\"dataframe\">\n",
              "  <thead>\n",
              "    <tr style=\"text-align: right;\">\n",
              "      <th></th>\n",
              "      <th>age</th>\n",
              "      <th>instance weight</th>\n",
              "      <th>occupation code</th>\n",
              "      <th>capital gains</th>\n",
              "      <th>capital losses</th>\n",
              "      <th>weeks worked in year</th>\n",
              "      <th>class_of_worker_cat</th>\n",
              "      <th>education_cat</th>\n",
              "      <th>marital_status_cat</th>\n",
              "      <th>race_cat</th>\n",
              "      <th>sex_cat</th>\n",
              "      <th>country_of_birth_self_cat</th>\n",
              "      <th>Label_cat</th>\n",
              "    </tr>\n",
              "  </thead>\n",
              "  <tbody>\n",
              "    <tr>\n",
              "      <th>0</th>\n",
              "      <td>38</td>\n",
              "      <td>1032.38</td>\n",
              "      <td>36</td>\n",
              "      <td>0</td>\n",
              "      <td>0</td>\n",
              "      <td>12</td>\n",
              "      <td>1</td>\n",
              "      <td>6</td>\n",
              "      <td>1</td>\n",
              "      <td>4</td>\n",
              "      <td>0</td>\n",
              "      <td>4</td>\n",
              "      <td>0</td>\n",
              "    </tr>\n",
              "    <tr>\n",
              "      <th>1</th>\n",
              "      <td>44</td>\n",
              "      <td>1462.33</td>\n",
              "      <td>12</td>\n",
              "      <td>0</td>\n",
              "      <td>0</td>\n",
              "      <td>26</td>\n",
              "      <td>4</td>\n",
              "      <td>5</td>\n",
              "      <td>1</td>\n",
              "      <td>4</td>\n",
              "      <td>0</td>\n",
              "      <td>4</td>\n",
              "      <td>0</td>\n",
              "    </tr>\n",
              "    <tr>\n",
              "      <th>2</th>\n",
              "      <td>2</td>\n",
              "      <td>1601.75</td>\n",
              "      <td>0</td>\n",
              "      <td>0</td>\n",
              "      <td>0</td>\n",
              "      <td>0</td>\n",
              "      <td>0</td>\n",
              "      <td>6</td>\n",
              "      <td>2</td>\n",
              "      <td>4</td>\n",
              "      <td>1</td>\n",
              "      <td>4</td>\n",
              "      <td>0</td>\n",
              "    </tr>\n",
              "    <tr>\n",
              "      <th>3</th>\n",
              "      <td>35</td>\n",
              "      <td>1866.88</td>\n",
              "      <td>3</td>\n",
              "      <td>0</td>\n",
              "      <td>0</td>\n",
              "      <td>52</td>\n",
              "      <td>1</td>\n",
              "      <td>2</td>\n",
              "      <td>3</td>\n",
              "      <td>4</td>\n",
              "      <td>0</td>\n",
              "      <td>4</td>\n",
              "      <td>0</td>\n",
              "    </tr>\n",
              "    <tr>\n",
              "      <th>4</th>\n",
              "      <td>49</td>\n",
              "      <td>1394.54</td>\n",
              "      <td>34</td>\n",
              "      <td>0</td>\n",
              "      <td>0</td>\n",
              "      <td>50</td>\n",
              "      <td>1</td>\n",
              "      <td>2</td>\n",
              "      <td>3</td>\n",
              "      <td>4</td>\n",
              "      <td>1</td>\n",
              "      <td>4</td>\n",
              "      <td>0</td>\n",
              "    </tr>\n",
              "  </tbody>\n",
              "</table>\n",
              "</div>"
            ],
            "text/plain": [
              "   age  instance weight  ...  country_of_birth_self_cat  Label_cat\n",
              "0   38          1032.38  ...                          4          0\n",
              "1   44          1462.33  ...                          4          0\n",
              "2    2          1601.75  ...                          4          0\n",
              "3   35          1866.88  ...                          4          0\n",
              "4   49          1394.54  ...                          4          0\n",
              "\n",
              "[5 rows x 13 columns]"
            ]
          },
          "metadata": {
            "tags": []
          },
          "execution_count": 77
        }
      ]
    },
    {
      "cell_type": "markdown",
      "metadata": {
        "id": "_ZrmNDxOPr1r"
      },
      "source": [
        "### Splitting data for training"
      ]
    },
    {
      "cell_type": "code",
      "metadata": {
        "colab": {
          "base_uri": "https://localhost:8080/"
        },
        "id": "rPE7NooRCDn8",
        "outputId": "eef61cf1-42ba-40d5-9a1b-4b9831d0487d"
      },
      "source": [
        "X=df_train.drop('Label_cat',axis=1)\n",
        "y=df_train['Label_cat']\n",
        "X.shape"
      ],
      "execution_count": null,
      "outputs": [
        {
          "output_type": "execute_result",
          "data": {
            "text/plain": [
              "(196130, 12)"
            ]
          },
          "metadata": {
            "tags": []
          },
          "execution_count": 78
        }
      ]
    },
    {
      "cell_type": "code",
      "metadata": {
        "colab": {
          "base_uri": "https://localhost:8080/"
        },
        "id": "wA3dp1Whu-Fp",
        "outputId": "186b07e1-7273-4f38-f946-bdd99b5c6a0b"
      },
      "source": [
        "X_test=df_test.drop('Label_cat',axis=1)\n",
        "y_test=df_test['Label_cat']\n",
        "X_test.shape"
      ],
      "execution_count": null,
      "outputs": [
        {
          "output_type": "execute_result",
          "data": {
            "text/plain": [
              "(99762, 12)"
            ]
          },
          "metadata": {
            "tags": []
          },
          "execution_count": 79
        }
      ]
    },
    {
      "cell_type": "markdown",
      "metadata": {
        "id": "zcfz6kx8PunF"
      },
      "source": [
        "### Using SMOTE to handle imbalanced data"
      ]
    },
    {
      "cell_type": "code",
      "metadata": {
        "colab": {
          "base_uri": "https://localhost:8080/"
        },
        "id": "Jf9CviC6BT2I",
        "outputId": "a7365966-8a93-4e40-e4e2-3cbe9fb89e52"
      },
      "source": [
        "sm = SMOTE(random_state=42)\n",
        "X_res, y_res = sm.fit_resample(X, y)\n",
        "X_res.shape"
      ],
      "execution_count": null,
      "outputs": [
        {
          "output_type": "stream",
          "text": [
            "/usr/local/lib/python3.6/dist-packages/sklearn/utils/deprecation.py:87: FutureWarning: Function safe_indexing is deprecated; safe_indexing is deprecated in version 0.22 and will be removed in version 0.24.\n",
            "  warnings.warn(msg, category=FutureWarning)\n"
          ],
          "name": "stderr"
        },
        {
          "output_type": "execute_result",
          "data": {
            "text/plain": [
              "(368090, 12)"
            ]
          },
          "metadata": {
            "tags": []
          },
          "execution_count": 80
        }
      ]
    },
    {
      "cell_type": "markdown",
      "metadata": {
        "id": "MLrDnyBWPzrj"
      },
      "source": [
        "### Model Experiments"
      ]
    },
    {
      "cell_type": "code",
      "metadata": {
        "id": "ENPuB5s8P8Vt"
      },
      "source": [
        "def plotInfo(model):\n",
        "  y_pred = model.predict(X_test)\n",
        "  print(\"F1 Score - macro \")\n",
        "  print(f1_score(y_test, y_pred, average='macro'))\n",
        "  print(\"F1 Score - micro\")\n",
        "  print(f1_score(y_test, y_pred, average='micro'))\n",
        "  print(\"F1 Score - weighted\")\n",
        "  print(f1_score(y_test, y_pred, average='weighted'))\n",
        "  y_preds = model.predict_proba(X_test)\n",
        "  preds = y_preds[:,1]\n",
        "  fpr, tpr, _ = metrics.roc_curve(y_test, preds)\n",
        "\n",
        "  auc_score = metrics.auc(fpr, tpr)\n",
        "  plt.clf()\n",
        "\n",
        "  plt.title('ROC Curve')\n",
        "  plt.plot(fpr, tpr, label='AUC = {:.2f}'.format(auc_score))\n",
        "  plt.plot([0,1],[0,1],'r--')\n",
        "\n",
        "  plt.xlim([-0.1,1.1])\n",
        "  plt.ylim([-0.1,1.1])\n",
        "  plt.ylabel('True Positive Rate')\n",
        "  plt.xlabel('False Positive Rate')\n",
        "\n",
        "  plt.legend(loc='lower right')\n",
        "  plt.show()"
      ],
      "execution_count": null,
      "outputs": []
    },
    {
      "cell_type": "code",
      "metadata": {
        "id": "mRrWN2HfP8Vt"
      },
      "source": [
        "\n",
        "#Initialize the models\n",
        "def getInfo(X,y):\n",
        "  X_train=X\n",
        "  y_train=y\n",
        "  models = []\n",
        "  models.append(('DT', DecisionTreeClassifier()))\n",
        "  models.append(('NB', GaussianNB()))\n",
        "  models.append(('KNN', KNeighborsClassifier()))\n",
        "  models.append(('LR', LogisticRegression()))\n",
        "  models.append(('RF', RandomForestClassifier()))\n",
        "  models.append(('LDA', LinearDiscriminantAnalysis()))\n",
        "  models.append(('ETC',ExtraTreesClassifier()))\n",
        "\n",
        "  scores = []\n",
        "  names = []\n",
        "\n",
        "#Set up charts to visualize the results\n",
        "  fig, axes = plt.subplots(nrows=5, ncols=2, figsize=(9, 9))\n",
        "  xAxis = 0\n",
        "  yAxis = 0\n",
        "\n",
        "  axes[4, 0].set_title('Mean Accuracy')\n",
        "\n",
        "  print('Mean accuracy on test data:')\n",
        "\n",
        "#Train and test each model - save the results\n",
        "  for name, model in models:\n",
        "    model.fit(X_train, y_train)\n",
        "    score = cross_val_score(model, X_test, y_test, cv=6)\n",
        "    scores.append(score)\n",
        "    names.append(name)\n",
        "     \n",
        "    axes[xAxis, yAxis].set_title(name)\n",
        "    axes[xAxis, yAxis].plot(['1','2','3','4','5','6'], score, color='C'+str(len(names)-1))\n",
        "    axes[xAxis, yAxis].set_xlabel(\"Validation\")\n",
        "    axes[xAxis, yAxis].set_ylabel(\"Accuracy\")\n",
        "    axes[4, 0].bar(name, score.mean(), alpha=0.4, color='C'+str(len(names)-1))\n",
        "    axes[4, 0].set_ylim(0.79, 1.0)\n",
        "    \n",
        "    if len(names)%2 == 1:\n",
        "        yAxis += 1\n",
        "    else:\n",
        "        xAxis +=1\n",
        "        yAxis -=1\n",
        "    print(name)\n",
        "    y_pred = model.predict(X_test)\n",
        "    print(\"F1 Score - macro \")\n",
        "    print(f1_score(y_test, y_pred, average='macro'))\n",
        "    print(\"F1 Score - micro\")\n",
        "    print(f1_score(y_test, y_pred, average='micro'))\n",
        "    print(\"F1 Score - weighted\")\n",
        "    print(f1_score(y_test, y_pred, average='weighted'))\n",
        "#Remove empty chart\n",
        "  axes[4, 1].remove()\n",
        "\n",
        "  fig.tight_layout()\n",
        "  plt.show()"
      ],
      "execution_count": null,
      "outputs": []
    },
    {
      "cell_type": "code",
      "metadata": {
        "colab": {
          "base_uri": "https://localhost:8080/",
          "height": 1000
        },
        "id": "LcLiLq6NEK45",
        "outputId": "b24821a2-74a5-405c-c8b0-034ff49bd5d0"
      },
      "source": [
        "getInfo(X_res,y_res)"
      ],
      "execution_count": null,
      "outputs": [
        {
          "output_type": "stream",
          "text": [
            "Mean accuracy on test data:\n",
            "DT\n",
            "F1 Score - macro \n",
            "0.6904077255457477\n",
            "F1 Score - micro\n",
            "0.9241394518955113\n",
            "F1 Score - weighted\n",
            "0.9260485225474995\n",
            "NB\n",
            "F1 Score - macro \n",
            "0.6730218379252494\n",
            "F1 Score - micro\n",
            "0.888965738457529\n",
            "F1 Score - weighted\n",
            "0.9057915327375287\n",
            "KNN\n",
            "F1 Score - macro \n",
            "0.6299568752588205\n",
            "F1 Score - micro\n",
            "0.8427357109921614\n",
            "F1 Score - weighted\n",
            "0.8757597603562659\n"
          ],
          "name": "stdout"
        },
        {
          "output_type": "stream",
          "text": [
            "/usr/local/lib/python3.6/dist-packages/sklearn/linear_model/_logistic.py:940: ConvergenceWarning: lbfgs failed to converge (status=1):\n",
            "STOP: TOTAL NO. of ITERATIONS REACHED LIMIT.\n",
            "\n",
            "Increase the number of iterations (max_iter) or scale the data as shown in:\n",
            "    https://scikit-learn.org/stable/modules/preprocessing.html\n",
            "Please also refer to the documentation for alternative solver options:\n",
            "    https://scikit-learn.org/stable/modules/linear_model.html#logistic-regression\n",
            "  extra_warning_msg=_LOGISTIC_SOLVER_CONVERGENCE_MSG)\n",
            "/usr/local/lib/python3.6/dist-packages/sklearn/linear_model/_logistic.py:940: ConvergenceWarning: lbfgs failed to converge (status=1):\n",
            "STOP: TOTAL NO. of ITERATIONS REACHED LIMIT.\n",
            "\n",
            "Increase the number of iterations (max_iter) or scale the data as shown in:\n",
            "    https://scikit-learn.org/stable/modules/preprocessing.html\n",
            "Please also refer to the documentation for alternative solver options:\n",
            "    https://scikit-learn.org/stable/modules/linear_model.html#logistic-regression\n",
            "  extra_warning_msg=_LOGISTIC_SOLVER_CONVERGENCE_MSG)\n",
            "/usr/local/lib/python3.6/dist-packages/sklearn/linear_model/_logistic.py:940: ConvergenceWarning: lbfgs failed to converge (status=1):\n",
            "STOP: TOTAL NO. of ITERATIONS REACHED LIMIT.\n",
            "\n",
            "Increase the number of iterations (max_iter) or scale the data as shown in:\n",
            "    https://scikit-learn.org/stable/modules/preprocessing.html\n",
            "Please also refer to the documentation for alternative solver options:\n",
            "    https://scikit-learn.org/stable/modules/linear_model.html#logistic-regression\n",
            "  extra_warning_msg=_LOGISTIC_SOLVER_CONVERGENCE_MSG)\n",
            "/usr/local/lib/python3.6/dist-packages/sklearn/linear_model/_logistic.py:940: ConvergenceWarning: lbfgs failed to converge (status=1):\n",
            "STOP: TOTAL NO. of ITERATIONS REACHED LIMIT.\n",
            "\n",
            "Increase the number of iterations (max_iter) or scale the data as shown in:\n",
            "    https://scikit-learn.org/stable/modules/preprocessing.html\n",
            "Please also refer to the documentation for alternative solver options:\n",
            "    https://scikit-learn.org/stable/modules/linear_model.html#logistic-regression\n",
            "  extra_warning_msg=_LOGISTIC_SOLVER_CONVERGENCE_MSG)\n",
            "/usr/local/lib/python3.6/dist-packages/sklearn/linear_model/_logistic.py:940: ConvergenceWarning: lbfgs failed to converge (status=1):\n",
            "STOP: TOTAL NO. of ITERATIONS REACHED LIMIT.\n",
            "\n",
            "Increase the number of iterations (max_iter) or scale the data as shown in:\n",
            "    https://scikit-learn.org/stable/modules/preprocessing.html\n",
            "Please also refer to the documentation for alternative solver options:\n",
            "    https://scikit-learn.org/stable/modules/linear_model.html#logistic-regression\n",
            "  extra_warning_msg=_LOGISTIC_SOLVER_CONVERGENCE_MSG)\n",
            "/usr/local/lib/python3.6/dist-packages/sklearn/linear_model/_logistic.py:940: ConvergenceWarning: lbfgs failed to converge (status=1):\n",
            "STOP: TOTAL NO. of ITERATIONS REACHED LIMIT.\n",
            "\n",
            "Increase the number of iterations (max_iter) or scale the data as shown in:\n",
            "    https://scikit-learn.org/stable/modules/preprocessing.html\n",
            "Please also refer to the documentation for alternative solver options:\n",
            "    https://scikit-learn.org/stable/modules/linear_model.html#logistic-regression\n",
            "  extra_warning_msg=_LOGISTIC_SOLVER_CONVERGENCE_MSG)\n",
            "/usr/local/lib/python3.6/dist-packages/sklearn/linear_model/_logistic.py:940: ConvergenceWarning: lbfgs failed to converge (status=1):\n",
            "STOP: TOTAL NO. of ITERATIONS REACHED LIMIT.\n",
            "\n",
            "Increase the number of iterations (max_iter) or scale the data as shown in:\n",
            "    https://scikit-learn.org/stable/modules/preprocessing.html\n",
            "Please also refer to the documentation for alternative solver options:\n",
            "    https://scikit-learn.org/stable/modules/linear_model.html#logistic-regression\n",
            "  extra_warning_msg=_LOGISTIC_SOLVER_CONVERGENCE_MSG)\n"
          ],
          "name": "stderr"
        },
        {
          "output_type": "stream",
          "text": [
            "LR\n",
            "F1 Score - macro \n",
            "0.6079961587720104\n",
            "F1 Score - micro\n",
            "0.7978488803351977\n",
            "F1 Score - weighted\n",
            "0.8469698914323147\n",
            "RF\n",
            "F1 Score - macro \n",
            "0.7461132415062006\n",
            "F1 Score - micro\n",
            "0.9479461117459553\n",
            "F1 Score - weighted\n",
            "0.9444086077301286\n",
            "LDA\n",
            "F1 Score - macro \n",
            "0.6212287612930008\n",
            "F1 Score - micro\n",
            "0.8072713057075841\n",
            "F1 Score - weighted\n",
            "0.8537653111505523\n",
            "ETC\n",
            "F1 Score - macro \n",
            "0.737802822242617\n",
            "F1 Score - micro\n",
            "0.942402918947094\n",
            "F1 Score - weighted\n",
            "0.9406941647636012\n"
          ],
          "name": "stdout"
        },
        {
          "output_type": "display_data",
          "data": {
            "image/png": "[encoded data removed]",
            "text/plain": [
              "<Figure size 648x648 with 9 Axes>"
            ]
          },
          "metadata": {
            "tags": [],
            "needs_background": "light"
          }
        }
      ]
    },
    {
      "cell_type": "code",
      "metadata": {
        "id": "4DyWSTw1EKrn",
        "colab": {
          "base_uri": "https://localhost:8080/"
        },
        "outputId": "a4f0d7cd-fce6-4a0d-976c-176298ff100e"
      },
      "source": [
        "\n",
        "#Construct pipelines\n",
        "X_train=X_res\n",
        "y_train=y_res\n",
        "pipe1 = Pipeline((('DT', DecisionTreeClassifier()),))\n",
        "pipe2 = Pipeline((('RF', RandomForestClassifier()),))\n",
        "\n",
        "#Define parameters for each pipeline\n",
        "para1 = {\n",
        "    'DT__criterion' : ['gini', 'entropy'],\n",
        "    'DT__splitter': ['best', 'random'],\n",
        "    'DT__min_samples_leaf': [1, 2, 5],\n",
        "    'DT__min_samples_split': [2, 5, 10]\n",
        "}\n",
        "para2 = {\n",
        "    'RF__n_estimators': [5, 10, 50],\n",
        "    'RF__max_features': ['auto', 'sqrt', 'log2'],\n",
        "    'RF__max_depth': [1, 5, 10],\n",
        "    'RF__min_samples_split': [2, 5, 10],\n",
        "    'RF__min_samples_leaf': [1, 2, 5]\n",
        "}\n",
        "\n",
        "\n",
        "paras = [ para1, para2]\n",
        "pipes = [ pipe1, pipe2]\n",
        "\n",
        "\n",
        "for i in range(len(pipes)):\n",
        "    print('GridSearch for model', i)\n",
        "    grid = GridSearchCV(pipes[i], paras[i], verbose=1, refit=False, n_jobs=-1)\n",
        "    grid = grid.fit(X_train, y_train)\n",
        "    print('Finished GridSearch\\n')\n",
        "    print('Best score:', grid.best_score_)\n",
        "    print(grid.best_params_, '\\n\\n')\n"
      ],
      "execution_count": null,
      "outputs": [
        {
          "output_type": "stream",
          "text": [
            "GridSearch for model 0\n",
            "Fitting 5 folds for each of 36 candidates, totalling 180 fits\n"
          ],
          "name": "stdout"
        },
        {
          "output_type": "stream",
          "text": [
            "[Parallel(n_jobs=-1)]: Using backend LokyBackend with 2 concurrent workers.\n",
            "[Parallel(n_jobs=-1)]: Done  46 tasks      | elapsed:   49.4s\n",
            "[Parallel(n_jobs=-1)]: Done 180 out of 180 | elapsed:  3.3min finished\n",
            "[Parallel(n_jobs=-1)]: Using backend LokyBackend with 2 concurrent workers.\n"
          ],
          "name": "stderr"
        },
        {
          "output_type": "stream",
          "text": [
            "Finished GridSearch\n",
            "\n",
            "Best score: 0.9569072781113315\n",
            "{'DT__criterion': 'entropy', 'DT__min_samples_leaf': 5, 'DT__min_samples_split': 2, 'DT__splitter': 'best'} \n",
            "\n",
            "\n",
            "GridSearch for model 1\n",
            "Fitting 5 folds for each of 243 candidates, totalling 1215 fits\n"
          ],
          "name": "stdout"
        },
        {
          "output_type": "stream",
          "text": [
            "[Parallel(n_jobs=-1)]: Done  46 tasks      | elapsed:   54.3s\n",
            "[Parallel(n_jobs=-1)]: Done 196 tasks      | elapsed:  3.9min\n",
            "[Parallel(n_jobs=-1)]: Done 446 tasks      | elapsed: 10.2min\n",
            "[Parallel(n_jobs=-1)]: Done 796 tasks      | elapsed: 28.7min\n"
          ],
          "name": "stderr"
        },
        {
          "output_type": "stream",
          "text": [
            "Finished GridSearch\n",
            "\n",
            "Best score: 0.9419245293270666\n",
            "{'RF__max_depth': 10, 'RF__max_features': 'log2', 'RF__min_samples_leaf': 1, 'RF__min_samples_split': 5, 'RF__n_estimators': 50} \n",
            "\n",
            "\n"
          ],
          "name": "stdout"
        },
        {
          "output_type": "stream",
          "text": [
            "[Parallel(n_jobs=-1)]: Done 1215 out of 1215 | elapsed: 63.5min finished\n"
          ],
          "name": "stderr"
        }
      ]
    },
    {
      "cell_type": "markdown",
      "metadata": {
        "id": "5NAD1o3DQAMs"
      },
      "source": [
        "### Building Model pipeline to find best hyper-parameters"
      ]
    },
    {
      "cell_type": "code",
      "metadata": {
        "colab": {
          "base_uri": "https://localhost:8080/",
          "height": 465
        },
        "id": "qbSRALe2kWGf",
        "outputId": "7de6ac7a-ee39-460e-9c5c-60e8d1ef1ddb"
      },
      "source": [
        "model=RandomForestClassifier(max_depth=10,max_features='log2', min_samples_leaf= 5,min_samples_split=2,n_estimators=50)\n",
        "model.fit(X_train, y_train)\n",
        "y_pred = model.predict(X_test)\n",
        "print(\"F1 Score\")\n",
        "print(f1_score(y_test, y_pred, average='macro'))\n",
        "print(f1_score(y_test, y_pred, average='micro'))\n",
        "print(f1_score(y_test, y_pred, average='weighted'))\n",
        "plotInfo(model)\n"
      ],
      "execution_count": null,
      "outputs": [
        {
          "output_type": "stream",
          "text": [
            "F1 Score\n",
            "0.713922517516442\n",
            "0.905234458010064\n",
            "0.9188543711083818\n",
            "F1 Score - macro \n",
            "0.713922517516442\n",
            "F1 Score - micro\n",
            "0.905234458010064\n",
            "F1 Score - weighted\n",
            "0.9188543711083818\n"
          ],
          "name": "stdout"
        },
        {
          "output_type": "display_data",
          "data": {
            "image/png": "[encoded data removed]",
            "text/plain": [
              "<Figure size 432x288 with 1 Axes>"
            ]
          },
          "metadata": {
            "tags": [],
            "needs_background": "light"
          }
        }
      ]
    },
    {
      "cell_type": "code",
      "metadata": {
        "colab": {
          "base_uri": "https://localhost:8080/",
          "height": 465
        },
        "id": "Ax6ipmrxlIbo",
        "outputId": "dd85f10b-ec4c-4077-99b4-d8289c17ffe4"
      },
      "source": [
        "\n",
        "model=DecisionTreeClassifier(criterion='entropy', min_samples_leaf=5, min_samples_split=2, splitter='best')\n",
        "model.fit(X_train, y_train)\n",
        "y_pred = model.predict(X_test)\n",
        "print(\"F1 Score\")\n",
        "print(f1_score(y_test, y_pred, average='macro'))\n",
        "print(f1_score(y_test, y_pred, average='micro'))\n",
        "print(f1_score(y_test, y_pred, average='weighted'))\n",
        "plotInfo(model)"
      ],
      "execution_count": null,
      "outputs": [
        {
          "output_type": "stream",
          "text": [
            "F1 Score\n",
            "0.716498549452453\n",
            "0.9389446883582928\n",
            "0.9364803086551298\n",
            "F1 Score - macro \n",
            "0.716498549452453\n",
            "F1 Score - micro\n",
            "0.9389446883582928\n",
            "F1 Score - weighted\n",
            "0.9364803086551298\n"
          ],
          "name": "stdout"
        },
        {
          "output_type": "display_data",
          "data": {
            "image/png": "[encoded data removed]",
            "text/plain": [
              "<Figure size 432x288 with 1 Axes>"
            ]
          },
          "metadata": {
            "tags": [],
            "needs_background": "light"
          }
        }
      ]
    },
    {
      "cell_type": "code",
      "metadata": {
        "colab": {
          "base_uri": "https://localhost:8080/",
          "height": 465
        },
        "id": "aCIH7Kl7pUWy",
        "outputId": "6df3bafd-8356-4e57-802f-4df46f860d28"
      },
      "source": [
        "\n",
        "model=ExtraTreesClassifier(class_weight='balanced_subsample', max_features=None,min_samples_split=5, n_estimators=400, random_state=5)\n",
        "model.fit(X_train, y_train)\n",
        "y_pred = model.predict(X_test)\n",
        "print(\"F1 Score\")\n",
        "print(f1_score(y_test, y_pred, average='macro'))\n",
        "print(f1_score(y_test, y_pred, average='micro'))\n",
        "print(f1_score(y_test, y_pred, average='weighted'))\n",
        "plotInfo(model)"
      ],
      "execution_count": null,
      "outputs": [
        {
          "output_type": "stream",
          "text": [
            "F1 Score\n",
            "0.7451752909381619\n",
            "0.9469938453519376\n",
            "0.9438295617387731\n",
            "F1 Score - macro \n",
            "0.7451752909381619\n",
            "F1 Score - micro\n",
            "0.9469938453519376\n",
            "F1 Score - weighted\n",
            "0.9438295617387731\n"
          ],
          "name": "stdout"
        },
        {
          "output_type": "display_data",
          "data": {
            "image/png": "[encoded data removed]",
            "text/plain": [
              "<Figure size 432x288 with 1 Axes>"
            ]
          },
          "metadata": {
            "tags": [],
            "needs_background": "light"
          }
        }
      ]
    }
  ]
}